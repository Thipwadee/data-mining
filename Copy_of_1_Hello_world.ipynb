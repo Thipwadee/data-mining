{
  "cells": [
    {
      "cell_type": "code",
      "execution_count": null,
      "metadata": {
        "id": "ZkXQw1mpRCEf",
        "outputId": "a4ba99f1-d202-4350-d42c-af7efbb4de50",
        "colab": {
          "base_uri": "https://localhost:8080/"
        }
      },
      "outputs": [
        {
          "output_type": "execute_result",
          "data": {
            "text/plain": [
              "4"
            ]
          },
          "metadata": {},
          "execution_count": 1
        }
      ],
      "source": [
        "2+2"
      ]
    },
    {
      "cell_type": "code",
      "execution_count": null,
      "metadata": {
        "id": "pODpkT0-RCEg",
        "outputId": "66ca2661-bc1e-4d97-f44d-f85b52aa6af2",
        "colab": {
          "base_uri": "https://localhost:8080/"
        }
      },
      "outputs": [
        {
          "output_type": "stream",
          "name": "stdout",
          "text": [
            "Cool stuff!\n"
          ]
        }
      ],
      "source": [
        "print('Cool stuff!')"
      ]
    },
    {
      "cell_type": "code",
      "execution_count": null,
      "metadata": {
        "collapsed": true,
        "id": "025GjaX4RCEh"
      },
      "outputs": [],
      "source": [
        "A = [1,2,3,4]"
      ]
    },
    {
      "cell_type": "code",
      "execution_count": null,
      "metadata": {
        "id": "sO-t9CmeRCEh",
        "outputId": "3defdf92-8dcc-403e-950a-628ffd20b984",
        "colab": {
          "base_uri": "https://localhost:8080/"
        }
      },
      "outputs": [
        {
          "output_type": "stream",
          "name": "stdout",
          "text": [
            "[1, 2, 3, 4]\n"
          ]
        }
      ],
      "source": [
        "print(A)"
      ]
    },
    {
      "cell_type": "code",
      "execution_count": null,
      "metadata": {
        "id": "U8ww0eQURCEh",
        "outputId": "bb58c4b1-264a-4b7a-e298-d4a29e02dc84",
        "colab": {
          "base_uri": "https://localhost:8080/"
        }
      },
      "outputs": [
        {
          "output_type": "execute_result",
          "data": {
            "text/plain": [
              "4"
            ]
          },
          "metadata": {},
          "execution_count": 5
        }
      ],
      "source": [
        "len(A)"
      ]
    },
    {
      "cell_type": "code",
      "execution_count": null,
      "metadata": {
        "id": "bisFoDOURCEi"
      },
      "outputs": [],
      "source": [
        "def f(x,y):\n",
        "    return x+y"
      ]
    },
    {
      "cell_type": "code",
      "execution_count": null,
      "metadata": {
        "id": "4WvMglSIRCEi",
        "outputId": "38ad1bc8-5d18-4d16-8946-f39554a1e8a1",
        "colab": {
          "base_uri": "https://localhost:8080/"
        }
      },
      "outputs": [
        {
          "output_type": "execute_result",
          "data": {
            "text/plain": [
              "9"
            ]
          },
          "metadata": {},
          "execution_count": 7
        }
      ],
      "source": [
        "f(4,5)"
      ]
    },
    {
      "cell_type": "markdown",
      "metadata": {
        "id": "HwJ3pwEBRCEi"
      },
      "source": [
        "# Headings too!"
      ]
    },
    {
      "cell_type": "markdown",
      "metadata": {
        "id": "HZZoR1gfRCEj"
      },
      "source": [
        "* foo\n",
        "* bar\n",
        "* foobar"
      ]
    },
    {
      "cell_type": "markdown",
      "metadata": {
        "id": "P3vkB9FeRCEj"
      },
      "source": [
        "1. foo\n",
        "2. bar\n",
        "3. foobar"
      ]
    },
    {
      "cell_type": "markdown",
      "metadata": {
        "id": "LGnOAnCURCEj"
      },
      "source": [
        "![alt text](http://www.ssd.noaa.gov/PS/PCPN/DATA/RT/NA/IR4/20.jpg)"
      ]
    },
    {
      "cell_type": "markdown",
      "metadata": {
        "id": "7oZ_24AdRCEj"
      },
      "source": [
        "## Another heading"
      ]
    },
    {
      "cell_type": "markdown",
      "metadata": {
        "id": "lnWOS0WsRCEj"
      },
      "source": [
        "Nice math typesetting $h^6$\n",
        "$$\n",
        "\\int_{-\\infty}^{\\infty} e^{2 \\pi x} dx\n",
        "$$"
      ]
    },
    {
      "cell_type": "markdown",
      "metadata": {
        "id": "Ds1WUyOURCEk"
      },
      "source": [
        "Nice code typesetting\n",
        "```python\n",
        "s = \"Python syntax highlighting\"\n",
        "print s\n",
        "```"
      ]
    },
    {
      "cell_type": "markdown",
      "metadata": {
        "id": "vY2lSnjoRCEk"
      },
      "source": [
        "Did I mention this is all **free**!?"
      ]
    },
    {
      "cell_type": "code",
      "execution_count": null,
      "metadata": {
        "collapsed": true,
        "id": "Cup9NgomRCEk"
      },
      "outputs": [],
      "source": []
    }
  ],
  "metadata": {
    "kernelspec": {
      "display_name": "Python 3",
      "language": "python",
      "name": "python3"
    },
    "language_info": {
      "codemirror_mode": {
        "name": "ipython",
        "version": 3
      },
      "file_extension": ".py",
      "mimetype": "text/x-python",
      "name": "python",
      "nbconvert_exporter": "python",
      "pygments_lexer": "ipython3",
      "version": "3.6.1"
    },
    "colab": {
      "provenance": []
    }
  },
  "nbformat": 4,
  "nbformat_minor": 0
}