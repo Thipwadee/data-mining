{
  "cells": [
    {
      "cell_type": "markdown",
      "id": "3cf3e5da",
      "metadata": {
        "id": "3cf3e5da"
      },
      "source": [
        "# Practicing Python Coding"
      ]
    },
    {
      "cell_type": "markdown",
      "id": "901b0bbc",
      "metadata": {
        "id": "901b0bbc"
      },
      "source": [
        "* สร้าง list ที่ประกอบด้วยคำว่า \"hamburger\", \"freshfries\", \"smoothie\", \"milkshake\", และ \"hot dog\"\n",
        "* จาก list ข้างต้น ให้ทำการ slicing list ให้ได้คำดังต่อไปนี้\n",
        "    * \"fries\"\n",
        "    * \"milk\"\n",
        "    * \"dog\"\n",
        "    * \"burger\""
      ]
    },
    {
      "cell_type": "code",
      "execution_count": 114,
      "id": "ef7d874a",
      "metadata": {
        "id": "ef7d874a",
        "colab": {
          "base_uri": "https://localhost:8080/"
        },
        "outputId": "39d275d2-bbe6-4dfd-b799-cabb4c4bb727"
      },
      "outputs": [
        {
          "output_type": "stream",
          "name": "stdout",
          "text": [
            "['hamburger', 'freshfries', 'smoothie', 'milkshake', 'hot dog']\n"
          ]
        }
      ],
      "source": [
        "list_a = [\"hamburger\", \"freshfries\", \"smoothie\", \"milkshake\", \"hot dog\"]\n",
        "print(list_a)"
      ]
    },
    {
      "cell_type": "code",
      "execution_count": 116,
      "id": "9475c0f7",
      "metadata": {
        "id": "9475c0f7",
        "colab": {
          "base_uri": "https://localhost:8080/",
          "height": 35
        },
        "outputId": "af53d950-50e9-48af-f875-9ce77795f087"
      },
      "outputs": [
        {
          "output_type": "execute_result",
          "data": {
            "text/plain": [
              "'fries'"
            ],
            "application/vnd.google.colaboratory.intrinsic+json": {
              "type": "string"
            }
          },
          "metadata": {},
          "execution_count": 116
        }
      ],
      "source": [
        "list_a[1][5:]"
      ]
    },
    {
      "cell_type": "code",
      "execution_count": 122,
      "id": "c3afcef1",
      "metadata": {
        "id": "c3afcef1",
        "colab": {
          "base_uri": "https://localhost:8080/",
          "height": 35
        },
        "outputId": "8ba44bb8-5835-4cad-b919-00f01e3076ca"
      },
      "outputs": [
        {
          "output_type": "execute_result",
          "data": {
            "text/plain": [
              "'milk'"
            ],
            "application/vnd.google.colaboratory.intrinsic+json": {
              "type": "string"
            }
          },
          "metadata": {},
          "execution_count": 122
        }
      ],
      "source": [
        "list_a[3][:4]"
      ]
    },
    {
      "cell_type": "code",
      "execution_count": 123,
      "id": "c79c36a8",
      "metadata": {
        "id": "c79c36a8",
        "colab": {
          "base_uri": "https://localhost:8080/",
          "height": 35
        },
        "outputId": "41b52683-0626-407a-af81-d298acf7adeb"
      },
      "outputs": [
        {
          "output_type": "execute_result",
          "data": {
            "text/plain": [
              "'dog'"
            ],
            "application/vnd.google.colaboratory.intrinsic+json": {
              "type": "string"
            }
          },
          "metadata": {},
          "execution_count": 123
        }
      ],
      "source": [
        "list_a[-1][4:]"
      ]
    },
    {
      "cell_type": "code",
      "execution_count": 124,
      "id": "64c25242",
      "metadata": {
        "id": "64c25242",
        "colab": {
          "base_uri": "https://localhost:8080/",
          "height": 35
        },
        "outputId": "6071ca5f-1724-479c-96a4-6faab935975d"
      },
      "outputs": [
        {
          "output_type": "execute_result",
          "data": {
            "text/plain": [
              "'burger'"
            ],
            "application/vnd.google.colaboratory.intrinsic+json": {
              "type": "string"
            }
          },
          "metadata": {},
          "execution_count": 124
        }
      ],
      "source": [
        "list_a[0][3:]"
      ]
    },
    {
      "cell_type": "markdown",
      "id": "49de30b8",
      "metadata": {
        "id": "49de30b8"
      },
      "source": [
        "สร้าง list [[1],[1,2],[1,2,3],...,[1,2,3,4,5,6,7,8,9,10]] โดยใช้ for loop"
      ]
    },
    {
      "cell_type": "code",
      "execution_count": 171,
      "id": "21cf8ec7",
      "metadata": {
        "id": "21cf8ec7",
        "colab": {
          "base_uri": "https://localhost:8080/"
        },
        "outputId": "37e7ee3b-0785-40aa-ed32-3119ac44b12b"
      },
      "outputs": [
        {
          "output_type": "stream",
          "name": "stdout",
          "text": [
            "temp = [1]\n",
            "list_ans = [[1]]\n",
            "temp = [1, 2]\n",
            "list_ans = [[1], [1, 2]]\n",
            "temp = [1, 2, 3]\n",
            "list_ans = [[1], [1, 2], [1, 2, 3]]\n",
            "temp = [1, 2, 3, 4]\n",
            "list_ans = [[1], [1, 2], [1, 2, 3], [1, 2, 3, 4]]\n",
            "temp = [1, 2, 3, 4, 5]\n",
            "list_ans = [[1], [1, 2], [1, 2, 3], [1, 2, 3, 4], [1, 2, 3, 4, 5]]\n",
            "temp = [1, 2, 3, 4, 5, 6]\n",
            "list_ans = [[1], [1, 2], [1, 2, 3], [1, 2, 3, 4], [1, 2, 3, 4, 5], [1, 2, 3, 4, 5, 6]]\n",
            "temp = [1, 2, 3, 4, 5, 6, 7]\n",
            "list_ans = [[1], [1, 2], [1, 2, 3], [1, 2, 3, 4], [1, 2, 3, 4, 5], [1, 2, 3, 4, 5, 6], [1, 2, 3, 4, 5, 6, 7]]\n",
            "temp = [1, 2, 3, 4, 5, 6, 7, 8]\n",
            "list_ans = [[1], [1, 2], [1, 2, 3], [1, 2, 3, 4], [1, 2, 3, 4, 5], [1, 2, 3, 4, 5, 6], [1, 2, 3, 4, 5, 6, 7], [1, 2, 3, 4, 5, 6, 7, 8]]\n",
            "temp = [1, 2, 3, 4, 5, 6, 7, 8, 9]\n",
            "list_ans = [[1], [1, 2], [1, 2, 3], [1, 2, 3, 4], [1, 2, 3, 4, 5], [1, 2, 3, 4, 5, 6], [1, 2, 3, 4, 5, 6, 7], [1, 2, 3, 4, 5, 6, 7, 8], [1, 2, 3, 4, 5, 6, 7, 8, 9]]\n",
            "temp = [1, 2, 3, 4, 5, 6, 7, 8, 9, 10]\n",
            "list_ans = [[1], [1, 2], [1, 2, 3], [1, 2, 3, 4], [1, 2, 3, 4, 5], [1, 2, 3, 4, 5, 6], [1, 2, 3, 4, 5, 6, 7], [1, 2, 3, 4, 5, 6, 7, 8], [1, 2, 3, 4, 5, 6, 7, 8, 9], [1, 2, 3, 4, 5, 6, 7, 8, 9, 10]]\n",
            "[[1], [1, 2], [1, 2, 3], [1, 2, 3, 4], [1, 2, 3, 4, 5], [1, 2, 3, 4, 5, 6], [1, 2, 3, 4, 5, 6, 7], [1, 2, 3, 4, 5, 6, 7, 8], [1, 2, 3, 4, 5, 6, 7, 8, 9], [1, 2, 3, 4, 5, 6, 7, 8, 9, 10]]\n"
          ]
        }
      ],
      "source": [
        "list_ans = []\n",
        "#print(f'list_ans = {list_ans}')\n",
        "for i in range(1,11):\n",
        "    temp = []\n",
        "    #print(f'temp = {temp} i= {i}')\n",
        "    for j in range(i):\n",
        "      temp.append(j+1)\n",
        "    print(f'temp = {temp}')\n",
        "    list_ans.append(temp)\n",
        "    print(f'list_ans = {list_ans}')\n",
        "print(list_ans)"
      ]
    },
    {
      "cell_type": "markdown",
      "id": "178f5210",
      "metadata": {
        "id": "178f5210"
      },
      "source": [
        "list_ex = [1,5,9,-19,-2,0] # หาค่ามากที่สุดใน list_ex โดยไม่ใช้ function max (ใช้ for กับ if)"
      ]
    },
    {
      "cell_type": "code",
      "execution_count": 70,
      "id": "fd2f819e",
      "metadata": {
        "id": "fd2f819e",
        "colab": {
          "base_uri": "https://localhost:8080/"
        },
        "outputId": "06d5b36f-6b7c-4d89-e7f3-ead31f3d3e82"
      },
      "outputs": [
        {
          "output_type": "stream",
          "name": "stdout",
          "text": [
            "9\n"
          ]
        }
      ],
      "source": [
        "list_ex = [1,5,9,-19,-2,0]\n",
        "\n",
        "max = 0\n",
        "for x in list_ex:\n",
        "    if x > max:\n",
        "        max = x\n",
        "\n",
        "print(max)"
      ]
    },
    {
      "cell_type": "markdown",
      "id": "dbe82e45",
      "metadata": {
        "id": "dbe82e45"
      },
      "source": [
        "สร้างฟังก์ชันที่ปริ้นท์ตารางสูตรคูณจากค่าจำนวนนับที่กำหนด เช่น `multiplication_table(5)` จะปริ้นท์\n",
        "```\n",
        "5 * 1 = 5\n",
        "5 * 2 = 10\n",
        "5 * 3 = 15\n",
        "5 * 4 = 20\n",
        "5 * 5 = 25\n",
        "5 * 6 = 30\n",
        "5 * 7 = 35\n",
        "5 * 8 = 40\n",
        "5 * 9 = 45\n",
        "5 * 10 = 50\n",
        "5 * 11 = 55\n",
        "5 * 12 = 60\n",
        "```"
      ]
    },
    {
      "cell_type": "code",
      "execution_count": 39,
      "id": "2b26fa8b",
      "metadata": {
        "id": "2b26fa8b",
        "colab": {
          "base_uri": "https://localhost:8080/"
        },
        "outputId": "f3bc67f5-33e9-490c-a7dd-bcda23690081"
      },
      "outputs": [
        {
          "output_type": "stream",
          "name": "stdout",
          "text": [
            "5 * 1 = 5\n",
            "5 * 2 = 10\n",
            "5 * 3 = 15\n",
            "5 * 4 = 20\n",
            "5 * 5 = 25\n",
            "5 * 6 = 30\n",
            "5 * 7 = 35\n",
            "5 * 8 = 40\n",
            "5 * 9 = 45\n",
            "5 * 10 = 50\n",
            "5 * 11 = 55\n",
            "5 * 12 = 60\n"
          ]
        }
      ],
      "source": [
        "def multiplication_table(x):\n",
        "    for i in range(1,13):\n",
        "      result = x * i\n",
        "      print(f'{x} * {i} = {result}')\n",
        "multiplication_table(5)"
      ]
    },
    {
      "cell_type": "markdown",
      "id": "792c9e6f",
      "metadata": {
        "id": "792c9e6f"
      },
      "source": [
        "เขียนฟังก์ชัน `sum_factorials(n)` ที่คำนวณค่าผลบวกต่อไปนี้จากจำนวนนับที่กำหนดให้ $1 + \\frac{1}{1!} + \\frac{1}{2!} + \\frac{1}{3!} + ... + \\frac{1}{n!}$ โดยไม่ใช้ฟังก์ชัน factorial จากไลบรารี่ใด ๆ"
      ]
    },
    {
      "cell_type": "code",
      "execution_count": 77,
      "id": "84947edd",
      "metadata": {
        "id": "84947edd"
      },
      "outputs": [],
      "source": [
        "def sum_factorials(n):\n",
        "  total_sum = 1\n",
        "  for i in range(1, n + 1):\n",
        "    total_sum += 1/ factorials(i)\n",
        "  return total_sum"
      ]
    },
    {
      "cell_type": "code",
      "execution_count": 78,
      "id": "17fc2667",
      "metadata": {
        "colab": {
          "base_uri": "https://localhost:8080/",
          "height": 322
        },
        "id": "17fc2667",
        "outputId": "18858b48-65fb-4873-bc07-9191c07bc4b9"
      },
      "outputs": [
        {
          "output_type": "error",
          "ename": "NameError",
          "evalue": "ignored",
          "traceback": [
            "\u001b[0;31m---------------------------------------------------------------------------\u001b[0m",
            "\u001b[0;31mNameError\u001b[0m                                 Traceback (most recent call last)",
            "\u001b[0;32m<ipython-input-78-7757d112cebd>\u001b[0m in \u001b[0;36m<cell line: 3>\u001b[0;34m()\u001b[0m\n\u001b[1;32m      1\u001b[0m \u001b[0;31m# Check! ฟังก์ชันที่เขียนถูกต้อง ถ้ารันโค้ดผ่านโดยไม่มี error ใด ๆ\u001b[0m\u001b[0;34m\u001b[0m\u001b[0;34m\u001b[0m\u001b[0m\n\u001b[1;32m      2\u001b[0m \u001b[0;32mimport\u001b[0m \u001b[0mnumpy\u001b[0m \u001b[0;32mas\u001b[0m \u001b[0mnp\u001b[0m\u001b[0;34m\u001b[0m\u001b[0;34m\u001b[0m\u001b[0m\n\u001b[0;32m----> 3\u001b[0;31m \u001b[0;32massert\u001b[0m \u001b[0mnp\u001b[0m\u001b[0;34m.\u001b[0m\u001b[0misclose\u001b[0m\u001b[0;34m(\u001b[0m\u001b[0msum_factorials\u001b[0m\u001b[0;34m(\u001b[0m\u001b[0;36m5\u001b[0m\u001b[0;34m)\u001b[0m\u001b[0;34m,\u001b[0m \u001b[0msum\u001b[0m\u001b[0;34m(\u001b[0m\u001b[0;34m[\u001b[0m\u001b[0;36m1\u001b[0m\u001b[0;34m/\u001b[0m\u001b[0mnp\u001b[0m\u001b[0;34m.\u001b[0m\u001b[0mmath\u001b[0m\u001b[0;34m.\u001b[0m\u001b[0mfactorial\u001b[0m\u001b[0;34m(\u001b[0m\u001b[0mi\u001b[0m\u001b[0;34m)\u001b[0m \u001b[0;32mfor\u001b[0m \u001b[0mi\u001b[0m \u001b[0;32min\u001b[0m \u001b[0mrange\u001b[0m\u001b[0;34m(\u001b[0m\u001b[0;36m0\u001b[0m\u001b[0;34m,\u001b[0m\u001b[0;36m6\u001b[0m\u001b[0;34m)\u001b[0m\u001b[0;34m]\u001b[0m\u001b[0;34m)\u001b[0m\u001b[0;34m)\u001b[0m\u001b[0;34m,\u001b[0m \u001b[0;34m\"The computation is wrong!\"\u001b[0m\u001b[0;34m\u001b[0m\u001b[0;34m\u001b[0m\u001b[0m\n\u001b[0m\u001b[1;32m      4\u001b[0m \u001b[0;32massert\u001b[0m \u001b[0mnp\u001b[0m\u001b[0;34m.\u001b[0m\u001b[0misclose\u001b[0m\u001b[0;34m(\u001b[0m\u001b[0msum_factorials\u001b[0m\u001b[0;34m(\u001b[0m\u001b[0;36m10\u001b[0m\u001b[0;34m)\u001b[0m\u001b[0;34m,\u001b[0m \u001b[0msum\u001b[0m\u001b[0;34m(\u001b[0m\u001b[0;34m[\u001b[0m\u001b[0;36m1\u001b[0m\u001b[0;34m/\u001b[0m\u001b[0mnp\u001b[0m\u001b[0;34m.\u001b[0m\u001b[0mmath\u001b[0m\u001b[0;34m.\u001b[0m\u001b[0mfactorial\u001b[0m\u001b[0;34m(\u001b[0m\u001b[0mi\u001b[0m\u001b[0;34m)\u001b[0m \u001b[0;32mfor\u001b[0m \u001b[0mi\u001b[0m \u001b[0;32min\u001b[0m \u001b[0mrange\u001b[0m\u001b[0;34m(\u001b[0m\u001b[0;36m0\u001b[0m\u001b[0;34m,\u001b[0m\u001b[0;36m11\u001b[0m\u001b[0;34m)\u001b[0m\u001b[0;34m]\u001b[0m\u001b[0;34m)\u001b[0m\u001b[0;34m)\u001b[0m\u001b[0;34m,\u001b[0m \u001b[0;34m\"The computation is wrong!\"\u001b[0m\u001b[0;34m\u001b[0m\u001b[0;34m\u001b[0m\u001b[0m\n",
            "\u001b[0;32m<ipython-input-76-c165ae02b979>\u001b[0m in \u001b[0;36msum_factorials\u001b[0;34m(n)\u001b[0m\n\u001b[1;32m      2\u001b[0m   \u001b[0mtotal_sum\u001b[0m \u001b[0;34m=\u001b[0m \u001b[0;36m1\u001b[0m\u001b[0;34m\u001b[0m\u001b[0;34m\u001b[0m\u001b[0m\n\u001b[1;32m      3\u001b[0m   \u001b[0;32mfor\u001b[0m \u001b[0mi\u001b[0m \u001b[0;32min\u001b[0m \u001b[0mrange\u001b[0m\u001b[0;34m(\u001b[0m\u001b[0;36m1\u001b[0m\u001b[0;34m,\u001b[0m \u001b[0mn\u001b[0m \u001b[0;34m+\u001b[0m \u001b[0;36m1\u001b[0m\u001b[0;34m)\u001b[0m\u001b[0;34m:\u001b[0m\u001b[0;34m\u001b[0m\u001b[0;34m\u001b[0m\u001b[0m\n\u001b[0;32m----> 4\u001b[0;31m     \u001b[0mtotal_sum\u001b[0m \u001b[0;34m+=\u001b[0m \u001b[0;36m1\u001b[0m\u001b[0;34m/\u001b[0m \u001b[0mfactorials\u001b[0m\u001b[0;34m(\u001b[0m\u001b[0mi\u001b[0m\u001b[0;34m)\u001b[0m\u001b[0;34m\u001b[0m\u001b[0;34m\u001b[0m\u001b[0m\n\u001b[0m\u001b[1;32m      5\u001b[0m   \u001b[0;32mreturn\u001b[0m \u001b[0mtotal_sum\u001b[0m\u001b[0;34m\u001b[0m\u001b[0;34m\u001b[0m\u001b[0m\n",
            "\u001b[0;31mNameError\u001b[0m: name 'factorials' is not defined"
          ]
        }
      ],
      "source": [
        "# Check! ฟังก์ชันที่เขียนถูกต้อง ถ้ารันโค้ดผ่านโดยไม่มี error ใด ๆ\n",
        "import numpy as np\n",
        "assert np.isclose(sum_factorials(5), sum([1/np.math.factorial(i) for i in range(0,6)])), \"The computation is wrong!\"\n",
        "assert np.isclose(sum_factorials(10), sum([1/np.math.factorial(i) for i in range(0,11)])), \"The computation is wrong!\""
      ]
    },
    {
      "cell_type": "markdown",
      "id": "9433bfbb",
      "metadata": {
        "id": "9433bfbb"
      },
      "source": [
        "# Data Preparation"
      ]
    },
    {
      "cell_type": "markdown",
      "id": "8235a996",
      "metadata": {
        "id": "8235a996"
      },
      "source": [
        "ศึกษาข้อมูล `Data_Facebook_Python.xlsx`"
      ]
    },
    {
      "cell_type": "markdown",
      "id": "97220f26",
      "metadata": {
        "id": "97220f26"
      },
      "source": [
        "อ่านข้อมูลด้วยฟังก์ชันในไลบรารี Pandas"
      ]
    },
    {
      "cell_type": "code",
      "execution_count": 2,
      "id": "eaa588a5",
      "metadata": {
        "id": "eaa588a5"
      },
      "outputs": [],
      "source": [
        "import pandas as pd"
      ]
    },
    {
      "cell_type": "code",
      "source": [
        "from google.colab import drive"
      ],
      "metadata": {
        "id": "ahdzYOwmHGsQ"
      },
      "id": "ahdzYOwmHGsQ",
      "execution_count": 3,
      "outputs": []
    },
    {
      "cell_type": "code",
      "source": [
        "drive.mount('/content/drive')"
      ],
      "metadata": {
        "colab": {
          "base_uri": "https://localhost:8080/"
        },
        "id": "JJKmpY9NHOVK",
        "outputId": "f67fa83e-f3d2-45eb-e3b3-4bb742154c3a"
      },
      "id": "JJKmpY9NHOVK",
      "execution_count": 4,
      "outputs": [
        {
          "output_type": "stream",
          "name": "stdout",
          "text": [
            "Mounted at /content/drive\n"
          ]
        }
      ]
    },
    {
      "cell_type": "code",
      "source": [
        "path = '/content/drive/MyDrive/data mining/Data_Facebook_Python.xlsx'"
      ],
      "metadata": {
        "id": "Sgw9qZnBHYyu"
      },
      "id": "Sgw9qZnBHYyu",
      "execution_count": 5,
      "outputs": []
    },
    {
      "cell_type": "code",
      "source": [
        "data = pd.read_excel(path, sheet_name = \"ข้อมูลวิเคราะห์\")\n",
        "data"
      ],
      "metadata": {
        "colab": {
          "base_uri": "https://localhost:8080/",
          "height": 1000
        },
        "id": "HJHqEbkPHqBn",
        "outputId": "efa45c28-c718-4da1-e21c-744beb857412"
      },
      "id": "HJHqEbkPHqBn",
      "execution_count": 6,
      "outputs": [
        {
          "output_type": "execute_result",
          "data": {
            "text/plain": [
              "      No GENDER  AGE               EDUCATION                 CAREER   SALARY  \\\n",
              "0      1   หญิง   23               ปริญญาตรี     พนักงานบริษัทเอกชน  20000.0   \n",
              "1      2   หญิง   22               ปริญญาตรี  ข้าราชการ/รัฐวิสาหกิจ  16000.0   \n",
              "2      3    ชาย   25               ปริญญาตรี     พนักงานบริษัทเอกชน  18000.0   \n",
              "3      4   หญิง   21  มัธยมปลายหรือเทียบเท่า  ข้าราชการ/รัฐวิสาหกิจ  14000.0   \n",
              "4      5    ชาย   18  มัธยมปลายหรือเทียบเท่า      นักเรียน/นักศึกษา  10000.0   \n",
              "..   ...    ...  ...                     ...                    ...      ...   \n",
              "195  196    ชาย   25               ปริญญาตรี     พนักงานบริษัทเอกชน  20000.0   \n",
              "196  197   หญิง   24               ปริญญาตรี     พนักงานบริษัทเอกชน  18000.0   \n",
              "197  198    ชาย   17  มัธยมปลายหรือเทียบเท่า      นักเรียน/นักศึกษา  10000.0   \n",
              "198  199    ชาย   25               ปริญญาตรี     พนักงานบริษัทเอกชน  20000.0   \n",
              "199  200   หญิง   25               ปริญญาตรี     พนักงานบริษัทเอกชน  20000.0   \n",
              "\n",
              "     INTERNET_PAY                         PLACE               TIME  \\\n",
              "0             590                    บ้าน/หอพัก  4 - 6 วัน/สัปดาห์   \n",
              "1             500                    บ้าน/หอพัก             ทุกวัน   \n",
              "2             590  สถานที่ให้บริการอินเตอร์เน็ต  2 - 3 วัน/สัปดาห์   \n",
              "3             500                    บ้าน/หอพัก             ทุกวัน   \n",
              "4             650                    บ้าน/หอพัก             ทุกวัน   \n",
              "..            ...                           ...                ...   \n",
              "195           590                    บ้าน/หอพัก  2 - 3 วัน/สัปดาห์   \n",
              "196           500                    บ้าน/หอพัก  4 - 6 วัน/สัปดาห์   \n",
              "197           590                    บ้าน/หอพัก             ทุกวัน   \n",
              "198           650                    บ้าน/หอพัก             ทุกวัน   \n",
              "199           590                    บ้าน/หอพัก             ทุกวัน   \n",
              "\n",
              "                  HOUR  ... APPLICATIONS                           TYPE  \\\n",
              "0       3 - 4 ชม. /วัน  ...          ใช้         การโพสต์ข้อความ/รูปภาพ   \n",
              "1    มากกว่า 4 ชม./วัน  ...          ใช้         การโพสต์ข้อความ/รูปภาพ   \n",
              "2       3 - 4 ชม. /วัน  ...          ใช้         การโพสต์ข้อความ/รูปภาพ   \n",
              "3    มากกว่า 4 ชม./วัน  ...          ใช้  เกมส์ที่เน้นการได้คะแนนสูงสุด   \n",
              "4    มากกว่า 4 ชม./วัน  ...          ใช้         การโพสต์ข้อความ/รูปภาพ   \n",
              "..                 ...  ...          ...                            ...   \n",
              "195     3 - 4 ชม. /วัน  ...          ใช้         การโพสต์ข้อความ/รูปภาพ   \n",
              "196     3 - 4 ชม. /วัน  ...          ใช้         การโพสต์ข้อความ/รูปภาพ   \n",
              "197  มากกว่า 4 ชม./วัน  ...          ใช้         การโพสต์ข้อความ/รูปภาพ   \n",
              "198  มากกว่า 4 ชม./วัน  ...          ใช้         การโพสต์ข้อความ/รูปภาพ   \n",
              "199     1 - 2 ชม. /วัน  ...          ใช้         การโพสต์ข้อความ/รูปภาพ   \n",
              "\n",
              "               (F1)      (F2)             (F3)             (F4)  \\\n",
              "0          สำคัญมาก   ปานกลาง          ปานกลาง          ปานกลาง   \n",
              "1    สำคัญมากที่สุด  สำคัญมาก          ปานกลาง          ปานกลาง   \n",
              "2          สำคัญมาก   ปานกลาง  สำคัญน้อยที่สุด        สำคัญน้อย   \n",
              "3    สำคัญมากที่สุด   ปานกลาง   สำคัญมากที่สุด         สำคัญมาก   \n",
              "4    สำคัญมากที่สุด   ปานกลาง         สำคัญมาก         สำคัญมาก   \n",
              "..              ...       ...              ...              ...   \n",
              "195  สำคัญมากที่สุด  สำคัญมาก         สำคัญมาก          ปานกลาง   \n",
              "196  สำคัญมากที่สุด  สำคัญมาก         สำคัญมาก  สำคัญน้อยที่สุด   \n",
              "197  สำคัญมากที่สุด   ปานกลาง         สำคัญมาก         สำคัญมาก   \n",
              "198  สำคัญมากที่สุด   ปานกลาง          ปานกลาง         สำคัญมาก   \n",
              "199  สำคัญมากที่สุด   ปานกลาง          ปานกลาง          ปานกลาง   \n",
              "\n",
              "               (F5)            (O1)            (O2)             (O3)  \n",
              "0    สำคัญมากที่สุด  สำคัญมากที่สุด        สำคัญมาก  สำคัญน้อยที่สุด  \n",
              "1    สำคัญมากที่สุด  สำคัญมากที่สุด  สำคัญมากที่สุด        สำคัญน้อย  \n",
              "2          สำคัญมาก  สำคัญมากที่สุด         ปานกลาง  สำคัญน้อยที่สุด  \n",
              "3    สำคัญมากที่สุด  สำคัญมากที่สุด  สำคัญมากที่สุด          ปานกลาง  \n",
              "4    สำคัญมากที่สุด  สำคัญมากที่สุด  สำคัญมากที่สุด          ปานกลาง  \n",
              "..              ...             ...             ...              ...  \n",
              "195  สำคัญมากที่สุด  สำคัญมากที่สุด        สำคัญมาก         สำคัญมาก  \n",
              "196  สำคัญมากที่สุด  สำคัญมากที่สุด  สำคัญมากที่สุด         สำคัญมาก  \n",
              "197  สำคัญมากที่สุด  สำคัญมากที่สุด  สำคัญมากที่สุด         สำคัญมาก  \n",
              "198  สำคัญมากที่สุด  สำคัญมากที่สุด  สำคัญมากที่สุด   สำคัญมากที่สุด  \n",
              "199  สำคัญมากที่สุด  สำคัญมากที่สุด         ปานกลาง  สำคัญน้อยที่สุด  \n",
              "\n",
              "[200 rows x 21 columns]"
            ],
            "text/html": [
              "\n",
              "\n",
              "  <div id=\"df-eed37309-1402-4c78-9671-1e56020ed322\">\n",
              "    <div class=\"colab-df-container\">\n",
              "      <div>\n",
              "<style scoped>\n",
              "    .dataframe tbody tr th:only-of-type {\n",
              "        vertical-align: middle;\n",
              "    }\n",
              "\n",
              "    .dataframe tbody tr th {\n",
              "        vertical-align: top;\n",
              "    }\n",
              "\n",
              "    .dataframe thead th {\n",
              "        text-align: right;\n",
              "    }\n",
              "</style>\n",
              "<table border=\"1\" class=\"dataframe\">\n",
              "  <thead>\n",
              "    <tr style=\"text-align: right;\">\n",
              "      <th></th>\n",
              "      <th>No</th>\n",
              "      <th>GENDER</th>\n",
              "      <th>AGE</th>\n",
              "      <th>EDUCATION</th>\n",
              "      <th>CAREER</th>\n",
              "      <th>SALARY</th>\n",
              "      <th>INTERNET_PAY</th>\n",
              "      <th>PLACE</th>\n",
              "      <th>TIME</th>\n",
              "      <th>HOUR</th>\n",
              "      <th>...</th>\n",
              "      <th>APPLICATIONS</th>\n",
              "      <th>TYPE</th>\n",
              "      <th>(F1)</th>\n",
              "      <th>(F2)</th>\n",
              "      <th>(F3)</th>\n",
              "      <th>(F4)</th>\n",
              "      <th>(F5)</th>\n",
              "      <th>(O1)</th>\n",
              "      <th>(O2)</th>\n",
              "      <th>(O3)</th>\n",
              "    </tr>\n",
              "  </thead>\n",
              "  <tbody>\n",
              "    <tr>\n",
              "      <th>0</th>\n",
              "      <td>1</td>\n",
              "      <td>หญิง</td>\n",
              "      <td>23</td>\n",
              "      <td>ปริญญาตรี</td>\n",
              "      <td>พนักงานบริษัทเอกชน</td>\n",
              "      <td>20000.0</td>\n",
              "      <td>590</td>\n",
              "      <td>บ้าน/หอพัก</td>\n",
              "      <td>4 - 6 วัน/สัปดาห์</td>\n",
              "      <td>3 - 4 ชม. /วัน</td>\n",
              "      <td>...</td>\n",
              "      <td>ใช้</td>\n",
              "      <td>การโพสต์ข้อความ/รูปภาพ</td>\n",
              "      <td>สำคัญมาก</td>\n",
              "      <td>ปานกลาง</td>\n",
              "      <td>ปานกลาง</td>\n",
              "      <td>ปานกลาง</td>\n",
              "      <td>สำคัญมากที่สุด</td>\n",
              "      <td>สำคัญมากที่สุด</td>\n",
              "      <td>สำคัญมาก</td>\n",
              "      <td>สำคัญน้อยที่สุด</td>\n",
              "    </tr>\n",
              "    <tr>\n",
              "      <th>1</th>\n",
              "      <td>2</td>\n",
              "      <td>หญิง</td>\n",
              "      <td>22</td>\n",
              "      <td>ปริญญาตรี</td>\n",
              "      <td>ข้าราชการ/รัฐวิสาหกิจ</td>\n",
              "      <td>16000.0</td>\n",
              "      <td>500</td>\n",
              "      <td>บ้าน/หอพัก</td>\n",
              "      <td>ทุกวัน</td>\n",
              "      <td>มากกว่า 4 ชม./วัน</td>\n",
              "      <td>...</td>\n",
              "      <td>ใช้</td>\n",
              "      <td>การโพสต์ข้อความ/รูปภาพ</td>\n",
              "      <td>สำคัญมากที่สุด</td>\n",
              "      <td>สำคัญมาก</td>\n",
              "      <td>ปานกลาง</td>\n",
              "      <td>ปานกลาง</td>\n",
              "      <td>สำคัญมากที่สุด</td>\n",
              "      <td>สำคัญมากที่สุด</td>\n",
              "      <td>สำคัญมากที่สุด</td>\n",
              "      <td>สำคัญน้อย</td>\n",
              "    </tr>\n",
              "    <tr>\n",
              "      <th>2</th>\n",
              "      <td>3</td>\n",
              "      <td>ชาย</td>\n",
              "      <td>25</td>\n",
              "      <td>ปริญญาตรี</td>\n",
              "      <td>พนักงานบริษัทเอกชน</td>\n",
              "      <td>18000.0</td>\n",
              "      <td>590</td>\n",
              "      <td>สถานที่ให้บริการอินเตอร์เน็ต</td>\n",
              "      <td>2 - 3 วัน/สัปดาห์</td>\n",
              "      <td>3 - 4 ชม. /วัน</td>\n",
              "      <td>...</td>\n",
              "      <td>ใช้</td>\n",
              "      <td>การโพสต์ข้อความ/รูปภาพ</td>\n",
              "      <td>สำคัญมาก</td>\n",
              "      <td>ปานกลาง</td>\n",
              "      <td>สำคัญน้อยที่สุด</td>\n",
              "      <td>สำคัญน้อย</td>\n",
              "      <td>สำคัญมาก</td>\n",
              "      <td>สำคัญมากที่สุด</td>\n",
              "      <td>ปานกลาง</td>\n",
              "      <td>สำคัญน้อยที่สุด</td>\n",
              "    </tr>\n",
              "    <tr>\n",
              "      <th>3</th>\n",
              "      <td>4</td>\n",
              "      <td>หญิง</td>\n",
              "      <td>21</td>\n",
              "      <td>มัธยมปลายหรือเทียบเท่า</td>\n",
              "      <td>ข้าราชการ/รัฐวิสาหกิจ</td>\n",
              "      <td>14000.0</td>\n",
              "      <td>500</td>\n",
              "      <td>บ้าน/หอพัก</td>\n",
              "      <td>ทุกวัน</td>\n",
              "      <td>มากกว่า 4 ชม./วัน</td>\n",
              "      <td>...</td>\n",
              "      <td>ใช้</td>\n",
              "      <td>เกมส์ที่เน้นการได้คะแนนสูงสุด</td>\n",
              "      <td>สำคัญมากที่สุด</td>\n",
              "      <td>ปานกลาง</td>\n",
              "      <td>สำคัญมากที่สุด</td>\n",
              "      <td>สำคัญมาก</td>\n",
              "      <td>สำคัญมากที่สุด</td>\n",
              "      <td>สำคัญมากที่สุด</td>\n",
              "      <td>สำคัญมากที่สุด</td>\n",
              "      <td>ปานกลาง</td>\n",
              "    </tr>\n",
              "    <tr>\n",
              "      <th>4</th>\n",
              "      <td>5</td>\n",
              "      <td>ชาย</td>\n",
              "      <td>18</td>\n",
              "      <td>มัธยมปลายหรือเทียบเท่า</td>\n",
              "      <td>นักเรียน/นักศึกษา</td>\n",
              "      <td>10000.0</td>\n",
              "      <td>650</td>\n",
              "      <td>บ้าน/หอพัก</td>\n",
              "      <td>ทุกวัน</td>\n",
              "      <td>มากกว่า 4 ชม./วัน</td>\n",
              "      <td>...</td>\n",
              "      <td>ใช้</td>\n",
              "      <td>การโพสต์ข้อความ/รูปภาพ</td>\n",
              "      <td>สำคัญมากที่สุด</td>\n",
              "      <td>ปานกลาง</td>\n",
              "      <td>สำคัญมาก</td>\n",
              "      <td>สำคัญมาก</td>\n",
              "      <td>สำคัญมากที่สุด</td>\n",
              "      <td>สำคัญมากที่สุด</td>\n",
              "      <td>สำคัญมากที่สุด</td>\n",
              "      <td>ปานกลาง</td>\n",
              "    </tr>\n",
              "    <tr>\n",
              "      <th>...</th>\n",
              "      <td>...</td>\n",
              "      <td>...</td>\n",
              "      <td>...</td>\n",
              "      <td>...</td>\n",
              "      <td>...</td>\n",
              "      <td>...</td>\n",
              "      <td>...</td>\n",
              "      <td>...</td>\n",
              "      <td>...</td>\n",
              "      <td>...</td>\n",
              "      <td>...</td>\n",
              "      <td>...</td>\n",
              "      <td>...</td>\n",
              "      <td>...</td>\n",
              "      <td>...</td>\n",
              "      <td>...</td>\n",
              "      <td>...</td>\n",
              "      <td>...</td>\n",
              "      <td>...</td>\n",
              "      <td>...</td>\n",
              "      <td>...</td>\n",
              "    </tr>\n",
              "    <tr>\n",
              "      <th>195</th>\n",
              "      <td>196</td>\n",
              "      <td>ชาย</td>\n",
              "      <td>25</td>\n",
              "      <td>ปริญญาตรี</td>\n",
              "      <td>พนักงานบริษัทเอกชน</td>\n",
              "      <td>20000.0</td>\n",
              "      <td>590</td>\n",
              "      <td>บ้าน/หอพัก</td>\n",
              "      <td>2 - 3 วัน/สัปดาห์</td>\n",
              "      <td>3 - 4 ชม. /วัน</td>\n",
              "      <td>...</td>\n",
              "      <td>ใช้</td>\n",
              "      <td>การโพสต์ข้อความ/รูปภาพ</td>\n",
              "      <td>สำคัญมากที่สุด</td>\n",
              "      <td>สำคัญมาก</td>\n",
              "      <td>สำคัญมาก</td>\n",
              "      <td>ปานกลาง</td>\n",
              "      <td>สำคัญมากที่สุด</td>\n",
              "      <td>สำคัญมากที่สุด</td>\n",
              "      <td>สำคัญมาก</td>\n",
              "      <td>สำคัญมาก</td>\n",
              "    </tr>\n",
              "    <tr>\n",
              "      <th>196</th>\n",
              "      <td>197</td>\n",
              "      <td>หญิง</td>\n",
              "      <td>24</td>\n",
              "      <td>ปริญญาตรี</td>\n",
              "      <td>พนักงานบริษัทเอกชน</td>\n",
              "      <td>18000.0</td>\n",
              "      <td>500</td>\n",
              "      <td>บ้าน/หอพัก</td>\n",
              "      <td>4 - 6 วัน/สัปดาห์</td>\n",
              "      <td>3 - 4 ชม. /วัน</td>\n",
              "      <td>...</td>\n",
              "      <td>ใช้</td>\n",
              "      <td>การโพสต์ข้อความ/รูปภาพ</td>\n",
              "      <td>สำคัญมากที่สุด</td>\n",
              "      <td>สำคัญมาก</td>\n",
              "      <td>สำคัญมาก</td>\n",
              "      <td>สำคัญน้อยที่สุด</td>\n",
              "      <td>สำคัญมากที่สุด</td>\n",
              "      <td>สำคัญมากที่สุด</td>\n",
              "      <td>สำคัญมากที่สุด</td>\n",
              "      <td>สำคัญมาก</td>\n",
              "    </tr>\n",
              "    <tr>\n",
              "      <th>197</th>\n",
              "      <td>198</td>\n",
              "      <td>ชาย</td>\n",
              "      <td>17</td>\n",
              "      <td>มัธยมปลายหรือเทียบเท่า</td>\n",
              "      <td>นักเรียน/นักศึกษา</td>\n",
              "      <td>10000.0</td>\n",
              "      <td>590</td>\n",
              "      <td>บ้าน/หอพัก</td>\n",
              "      <td>ทุกวัน</td>\n",
              "      <td>มากกว่า 4 ชม./วัน</td>\n",
              "      <td>...</td>\n",
              "      <td>ใช้</td>\n",
              "      <td>การโพสต์ข้อความ/รูปภาพ</td>\n",
              "      <td>สำคัญมากที่สุด</td>\n",
              "      <td>ปานกลาง</td>\n",
              "      <td>สำคัญมาก</td>\n",
              "      <td>สำคัญมาก</td>\n",
              "      <td>สำคัญมากที่สุด</td>\n",
              "      <td>สำคัญมากที่สุด</td>\n",
              "      <td>สำคัญมากที่สุด</td>\n",
              "      <td>สำคัญมาก</td>\n",
              "    </tr>\n",
              "    <tr>\n",
              "      <th>198</th>\n",
              "      <td>199</td>\n",
              "      <td>ชาย</td>\n",
              "      <td>25</td>\n",
              "      <td>ปริญญาตรี</td>\n",
              "      <td>พนักงานบริษัทเอกชน</td>\n",
              "      <td>20000.0</td>\n",
              "      <td>650</td>\n",
              "      <td>บ้าน/หอพัก</td>\n",
              "      <td>ทุกวัน</td>\n",
              "      <td>มากกว่า 4 ชม./วัน</td>\n",
              "      <td>...</td>\n",
              "      <td>ใช้</td>\n",
              "      <td>การโพสต์ข้อความ/รูปภาพ</td>\n",
              "      <td>สำคัญมากที่สุด</td>\n",
              "      <td>ปานกลาง</td>\n",
              "      <td>ปานกลาง</td>\n",
              "      <td>สำคัญมาก</td>\n",
              "      <td>สำคัญมากที่สุด</td>\n",
              "      <td>สำคัญมากที่สุด</td>\n",
              "      <td>สำคัญมากที่สุด</td>\n",
              "      <td>สำคัญมากที่สุด</td>\n",
              "    </tr>\n",
              "    <tr>\n",
              "      <th>199</th>\n",
              "      <td>200</td>\n",
              "      <td>หญิง</td>\n",
              "      <td>25</td>\n",
              "      <td>ปริญญาตรี</td>\n",
              "      <td>พนักงานบริษัทเอกชน</td>\n",
              "      <td>20000.0</td>\n",
              "      <td>590</td>\n",
              "      <td>บ้าน/หอพัก</td>\n",
              "      <td>ทุกวัน</td>\n",
              "      <td>1 - 2 ชม. /วัน</td>\n",
              "      <td>...</td>\n",
              "      <td>ใช้</td>\n",
              "      <td>การโพสต์ข้อความ/รูปภาพ</td>\n",
              "      <td>สำคัญมากที่สุด</td>\n",
              "      <td>ปานกลาง</td>\n",
              "      <td>ปานกลาง</td>\n",
              "      <td>ปานกลาง</td>\n",
              "      <td>สำคัญมากที่สุด</td>\n",
              "      <td>สำคัญมากที่สุด</td>\n",
              "      <td>ปานกลาง</td>\n",
              "      <td>สำคัญน้อยที่สุด</td>\n",
              "    </tr>\n",
              "  </tbody>\n",
              "</table>\n",
              "<p>200 rows × 21 columns</p>\n",
              "</div>\n",
              "      <button class=\"colab-df-convert\" onclick=\"convertToInteractive('df-eed37309-1402-4c78-9671-1e56020ed322')\"\n",
              "              title=\"Convert this dataframe to an interactive table.\"\n",
              "              style=\"display:none;\">\n",
              "\n",
              "  <svg xmlns=\"http://www.w3.org/2000/svg\" height=\"24px\"viewBox=\"0 0 24 24\"\n",
              "       width=\"24px\">\n",
              "    <path d=\"M0 0h24v24H0V0z\" fill=\"none\"/>\n",
              "    <path d=\"M18.56 5.44l.94 2.06.94-2.06 2.06-.94-2.06-.94-.94-2.06-.94 2.06-2.06.94zm-11 1L8.5 8.5l.94-2.06 2.06-.94-2.06-.94L8.5 2.5l-.94 2.06-2.06.94zm10 10l.94 2.06.94-2.06 2.06-.94-2.06-.94-.94-2.06-.94 2.06-2.06.94z\"/><path d=\"M17.41 7.96l-1.37-1.37c-.4-.4-.92-.59-1.43-.59-.52 0-1.04.2-1.43.59L10.3 9.45l-7.72 7.72c-.78.78-.78 2.05 0 2.83L4 21.41c.39.39.9.59 1.41.59.51 0 1.02-.2 1.41-.59l7.78-7.78 2.81-2.81c.8-.78.8-2.07 0-2.86zM5.41 20L4 18.59l7.72-7.72 1.47 1.35L5.41 20z\"/>\n",
              "  </svg>\n",
              "      </button>\n",
              "\n",
              "\n",
              "\n",
              "    <div id=\"df-61b8dcd0-7fed-4465-8d7a-bcac2e810c52\">\n",
              "      <button class=\"colab-df-quickchart\" onclick=\"quickchart('df-61b8dcd0-7fed-4465-8d7a-bcac2e810c52')\"\n",
              "              title=\"Suggest charts.\"\n",
              "              style=\"display:none;\">\n",
              "\n",
              "<svg xmlns=\"http://www.w3.org/2000/svg\" height=\"24px\"viewBox=\"0 0 24 24\"\n",
              "     width=\"24px\">\n",
              "    <g>\n",
              "        <path d=\"M19 3H5c-1.1 0-2 .9-2 2v14c0 1.1.9 2 2 2h14c1.1 0 2-.9 2-2V5c0-1.1-.9-2-2-2zM9 17H7v-7h2v7zm4 0h-2V7h2v10zm4 0h-2v-4h2v4z\"/>\n",
              "    </g>\n",
              "</svg>\n",
              "      </button>\n",
              "    </div>\n",
              "\n",
              "<style>\n",
              "  .colab-df-quickchart {\n",
              "    background-color: #E8F0FE;\n",
              "    border: none;\n",
              "    border-radius: 50%;\n",
              "    cursor: pointer;\n",
              "    display: none;\n",
              "    fill: #1967D2;\n",
              "    height: 32px;\n",
              "    padding: 0 0 0 0;\n",
              "    width: 32px;\n",
              "  }\n",
              "\n",
              "  .colab-df-quickchart:hover {\n",
              "    background-color: #E2EBFA;\n",
              "    box-shadow: 0px 1px 2px rgba(60, 64, 67, 0.3), 0px 1px 3px 1px rgba(60, 64, 67, 0.15);\n",
              "    fill: #174EA6;\n",
              "  }\n",
              "\n",
              "  [theme=dark] .colab-df-quickchart {\n",
              "    background-color: #3B4455;\n",
              "    fill: #D2E3FC;\n",
              "  }\n",
              "\n",
              "  [theme=dark] .colab-df-quickchart:hover {\n",
              "    background-color: #434B5C;\n",
              "    box-shadow: 0px 1px 3px 1px rgba(0, 0, 0, 0.15);\n",
              "    filter: drop-shadow(0px 1px 2px rgba(0, 0, 0, 0.3));\n",
              "    fill: #FFFFFF;\n",
              "  }\n",
              "</style>\n",
              "\n",
              "    <script>\n",
              "      async function quickchart(key) {\n",
              "        const containerElement = document.querySelector('#' + key);\n",
              "        const charts = await google.colab.kernel.invokeFunction(\n",
              "            'suggestCharts', [key], {});\n",
              "      }\n",
              "    </script>\n",
              "\n",
              "      <script>\n",
              "\n",
              "function displayQuickchartButton(domScope) {\n",
              "  let quickchartButtonEl =\n",
              "    domScope.querySelector('#df-61b8dcd0-7fed-4465-8d7a-bcac2e810c52 button.colab-df-quickchart');\n",
              "  quickchartButtonEl.style.display =\n",
              "    google.colab.kernel.accessAllowed ? 'block' : 'none';\n",
              "}\n",
              "\n",
              "        displayQuickchartButton(document);\n",
              "      </script>\n",
              "      <style>\n",
              "    .colab-df-container {\n",
              "      display:flex;\n",
              "      flex-wrap:wrap;\n",
              "      gap: 12px;\n",
              "    }\n",
              "\n",
              "    .colab-df-convert {\n",
              "      background-color: #E8F0FE;\n",
              "      border: none;\n",
              "      border-radius: 50%;\n",
              "      cursor: pointer;\n",
              "      display: none;\n",
              "      fill: #1967D2;\n",
              "      height: 32px;\n",
              "      padding: 0 0 0 0;\n",
              "      width: 32px;\n",
              "    }\n",
              "\n",
              "    .colab-df-convert:hover {\n",
              "      background-color: #E2EBFA;\n",
              "      box-shadow: 0px 1px 2px rgba(60, 64, 67, 0.3), 0px 1px 3px 1px rgba(60, 64, 67, 0.15);\n",
              "      fill: #174EA6;\n",
              "    }\n",
              "\n",
              "    [theme=dark] .colab-df-convert {\n",
              "      background-color: #3B4455;\n",
              "      fill: #D2E3FC;\n",
              "    }\n",
              "\n",
              "    [theme=dark] .colab-df-convert:hover {\n",
              "      background-color: #434B5C;\n",
              "      box-shadow: 0px 1px 3px 1px rgba(0, 0, 0, 0.15);\n",
              "      filter: drop-shadow(0px 1px 2px rgba(0, 0, 0, 0.3));\n",
              "      fill: #FFFFFF;\n",
              "    }\n",
              "  </style>\n",
              "\n",
              "      <script>\n",
              "        const buttonEl =\n",
              "          document.querySelector('#df-eed37309-1402-4c78-9671-1e56020ed322 button.colab-df-convert');\n",
              "        buttonEl.style.display =\n",
              "          google.colab.kernel.accessAllowed ? 'block' : 'none';\n",
              "\n",
              "        async function convertToInteractive(key) {\n",
              "          const element = document.querySelector('#df-eed37309-1402-4c78-9671-1e56020ed322');\n",
              "          const dataTable =\n",
              "            await google.colab.kernel.invokeFunction('convertToInteractive',\n",
              "                                                     [key], {});\n",
              "          if (!dataTable) return;\n",
              "\n",
              "          const docLinkHtml = 'Like what you see? Visit the ' +\n",
              "            '<a target=\"_blank\" href=https://colab.research.google.com/notebooks/data_table.ipynb>data table notebook</a>'\n",
              "            + ' to learn more about interactive tables.';\n",
              "          element.innerHTML = '';\n",
              "          dataTable['output_type'] = 'display_data';\n",
              "          await google.colab.output.renderOutput(dataTable, element);\n",
              "          const docLink = document.createElement('div');\n",
              "          docLink.innerHTML = docLinkHtml;\n",
              "          element.appendChild(docLink);\n",
              "        }\n",
              "      </script>\n",
              "    </div>\n",
              "  </div>\n"
            ]
          },
          "metadata": {},
          "execution_count": 6
        }
      ]
    },
    {
      "cell_type": "markdown",
      "id": "abc6bbaf",
      "metadata": {
        "id": "abc6bbaf"
      },
      "source": [
        "ข้อมูลมีค่าว่างไหม"
      ]
    },
    {
      "cell_type": "code",
      "source": [
        "data.isnull().sum()"
      ],
      "metadata": {
        "colab": {
          "base_uri": "https://localhost:8080/"
        },
        "id": "E2vIdN8_K_9U",
        "outputId": "cd4d9222-d354-412f-ddf7-d809461331a2"
      },
      "id": "E2vIdN8_K_9U",
      "execution_count": 7,
      "outputs": [
        {
          "output_type": "execute_result",
          "data": {
            "text/plain": [
              "No              0\n",
              "GENDER          0\n",
              "AGE             0\n",
              "EDUCATION       0\n",
              "CAREER          0\n",
              "SALARY          3\n",
              "INTERNET_PAY    0\n",
              "PLACE           1\n",
              "TIME            0\n",
              "HOUR            2\n",
              "KNOWN           0\n",
              "APPLICATIONS    0\n",
              "TYPE            2\n",
              "(F1)            0\n",
              "(F2)            0\n",
              "(F3)            0\n",
              "(F4)            0\n",
              "(F5)            0\n",
              "(O1)            0\n",
              "(O2)            0\n",
              "(O3)            0\n",
              "dtype: int64"
            ]
          },
          "metadata": {},
          "execution_count": 7
        }
      ]
    },
    {
      "cell_type": "markdown",
      "id": "e2c7f8b3",
      "metadata": {
        "id": "e2c7f8b3"
      },
      "source": [
        "สร้างข้อมูลใหม่ โดยนำคอลัมน์ที่มีค่าสูญหายออกให้หมด"
      ]
    },
    {
      "cell_type": "code",
      "source": [
        "data2 = data.dropna(subset=['SALARY', 'PLACE', 'HOUR', 'TYPE'])"
      ],
      "metadata": {
        "id": "RGHJEpxer-IK"
      },
      "id": "RGHJEpxer-IK",
      "execution_count": 133,
      "outputs": []
    },
    {
      "cell_type": "code",
      "source": [
        "data2.shape"
      ],
      "metadata": {
        "colab": {
          "base_uri": "https://localhost:8080/"
        },
        "id": "nwKPrMylsatt",
        "outputId": "98e371df-d7f9-4df9-f930-b10fdec198d8"
      },
      "id": "nwKPrMylsatt",
      "execution_count": 134,
      "outputs": [
        {
          "output_type": "execute_result",
          "data": {
            "text/plain": [
              "(192, 21)"
            ]
          },
          "metadata": {},
          "execution_count": 134
        }
      ]
    },
    {
      "cell_type": "markdown",
      "id": "03927e3c",
      "metadata": {
        "id": "03927e3c"
      },
      "source": [
        " สร้างข้อมูลใหม่ โดยนำแถวที่มีค่าสูญหายออกให้หมด"
      ]
    },
    {
      "cell_type": "code",
      "execution_count": 137,
      "id": "cb73d763",
      "metadata": {
        "id": "cb73d763"
      },
      "outputs": [],
      "source": [
        "data3 = data.dropna()"
      ]
    },
    {
      "cell_type": "code",
      "source": [
        "data3.isnull().sum()"
      ],
      "metadata": {
        "colab": {
          "base_uri": "https://localhost:8080/"
        },
        "id": "AFckF_Eisiuw",
        "outputId": "fcbb312f-253d-4459-a2d1-8da823ef8dfb"
      },
      "id": "AFckF_Eisiuw",
      "execution_count": 138,
      "outputs": [
        {
          "output_type": "execute_result",
          "data": {
            "text/plain": [
              "No              0\n",
              "GENDER          0\n",
              "AGE             0\n",
              "EDUCATION       0\n",
              "CAREER          0\n",
              "SALARY          0\n",
              "INTERNET_PAY    0\n",
              "PLACE           0\n",
              "TIME            0\n",
              "HOUR            0\n",
              "KNOWN           0\n",
              "APPLICATIONS    0\n",
              "TYPE            0\n",
              "(F1)            0\n",
              "(F2)            0\n",
              "(F3)            0\n",
              "(F4)            0\n",
              "(F5)            0\n",
              "(O1)            0\n",
              "(O2)            0\n",
              "(O3)            0\n",
              "dtype: int64"
            ]
          },
          "metadata": {},
          "execution_count": 138
        }
      ]
    },
    {
      "cell_type": "markdown",
      "id": "18d7895e",
      "metadata": {
        "id": "18d7895e"
      },
      "source": [
        "จากข้อมูลตั้งต้น ให้เติมค่าว่างด้วย Mean, Median, หรือ Mode ของแต่ละคอลัมน์ตามความเหมาะสม"
      ]
    },
    {
      "cell_type": "code",
      "source": [
        "data.shape"
      ],
      "metadata": {
        "colab": {
          "base_uri": "https://localhost:8080/"
        },
        "id": "0EA35z5_tbAi",
        "outputId": "974ff1a9-1abe-4e93-8a82-703bf10acdd9"
      },
      "id": "0EA35z5_tbAi",
      "execution_count": 139,
      "outputs": [
        {
          "output_type": "execute_result",
          "data": {
            "text/plain": [
              "(200, 21)"
            ]
          },
          "metadata": {},
          "execution_count": 139
        }
      ]
    },
    {
      "cell_type": "code",
      "source": [
        "data[['PLACE']].dropna().mode()"
      ],
      "metadata": {
        "colab": {
          "base_uri": "https://localhost:8080/",
          "height": 80
        },
        "id": "RPPnu-qsU5wE",
        "outputId": "f11dc7ba-1f80-4815-b08b-d376ac4347e0"
      },
      "id": "RPPnu-qsU5wE",
      "execution_count": 8,
      "outputs": [
        {
          "output_type": "execute_result",
          "data": {
            "text/plain": [
              "        PLACE\n",
              "0  บ้าน/หอพัก"
            ],
            "text/html": [
              "\n",
              "\n",
              "  <div id=\"df-afe5c223-303d-49a1-b537-5c8b81b534fb\">\n",
              "    <div class=\"colab-df-container\">\n",
              "      <div>\n",
              "<style scoped>\n",
              "    .dataframe tbody tr th:only-of-type {\n",
              "        vertical-align: middle;\n",
              "    }\n",
              "\n",
              "    .dataframe tbody tr th {\n",
              "        vertical-align: top;\n",
              "    }\n",
              "\n",
              "    .dataframe thead th {\n",
              "        text-align: right;\n",
              "    }\n",
              "</style>\n",
              "<table border=\"1\" class=\"dataframe\">\n",
              "  <thead>\n",
              "    <tr style=\"text-align: right;\">\n",
              "      <th></th>\n",
              "      <th>PLACE</th>\n",
              "    </tr>\n",
              "  </thead>\n",
              "  <tbody>\n",
              "    <tr>\n",
              "      <th>0</th>\n",
              "      <td>บ้าน/หอพัก</td>\n",
              "    </tr>\n",
              "  </tbody>\n",
              "</table>\n",
              "</div>\n",
              "      <button class=\"colab-df-convert\" onclick=\"convertToInteractive('df-afe5c223-303d-49a1-b537-5c8b81b534fb')\"\n",
              "              title=\"Convert this dataframe to an interactive table.\"\n",
              "              style=\"display:none;\">\n",
              "\n",
              "  <svg xmlns=\"http://www.w3.org/2000/svg\" height=\"24px\"viewBox=\"0 0 24 24\"\n",
              "       width=\"24px\">\n",
              "    <path d=\"M0 0h24v24H0V0z\" fill=\"none\"/>\n",
              "    <path d=\"M18.56 5.44l.94 2.06.94-2.06 2.06-.94-2.06-.94-.94-2.06-.94 2.06-2.06.94zm-11 1L8.5 8.5l.94-2.06 2.06-.94-2.06-.94L8.5 2.5l-.94 2.06-2.06.94zm10 10l.94 2.06.94-2.06 2.06-.94-2.06-.94-.94-2.06-.94 2.06-2.06.94z\"/><path d=\"M17.41 7.96l-1.37-1.37c-.4-.4-.92-.59-1.43-.59-.52 0-1.04.2-1.43.59L10.3 9.45l-7.72 7.72c-.78.78-.78 2.05 0 2.83L4 21.41c.39.39.9.59 1.41.59.51 0 1.02-.2 1.41-.59l7.78-7.78 2.81-2.81c.8-.78.8-2.07 0-2.86zM5.41 20L4 18.59l7.72-7.72 1.47 1.35L5.41 20z\"/>\n",
              "  </svg>\n",
              "      </button>\n",
              "\n",
              "\n",
              "\n",
              "    <div id=\"df-dde0f9cf-76cc-41fc-8756-30d0cc9bb23d\">\n",
              "      <button class=\"colab-df-quickchart\" onclick=\"quickchart('df-dde0f9cf-76cc-41fc-8756-30d0cc9bb23d')\"\n",
              "              title=\"Suggest charts.\"\n",
              "              style=\"display:none;\">\n",
              "\n",
              "<svg xmlns=\"http://www.w3.org/2000/svg\" height=\"24px\"viewBox=\"0 0 24 24\"\n",
              "     width=\"24px\">\n",
              "    <g>\n",
              "        <path d=\"M19 3H5c-1.1 0-2 .9-2 2v14c0 1.1.9 2 2 2h14c1.1 0 2-.9 2-2V5c0-1.1-.9-2-2-2zM9 17H7v-7h2v7zm4 0h-2V7h2v10zm4 0h-2v-4h2v4z\"/>\n",
              "    </g>\n",
              "</svg>\n",
              "      </button>\n",
              "    </div>\n",
              "\n",
              "<style>\n",
              "  .colab-df-quickchart {\n",
              "    background-color: #E8F0FE;\n",
              "    border: none;\n",
              "    border-radius: 50%;\n",
              "    cursor: pointer;\n",
              "    display: none;\n",
              "    fill: #1967D2;\n",
              "    height: 32px;\n",
              "    padding: 0 0 0 0;\n",
              "    width: 32px;\n",
              "  }\n",
              "\n",
              "  .colab-df-quickchart:hover {\n",
              "    background-color: #E2EBFA;\n",
              "    box-shadow: 0px 1px 2px rgba(60, 64, 67, 0.3), 0px 1px 3px 1px rgba(60, 64, 67, 0.15);\n",
              "    fill: #174EA6;\n",
              "  }\n",
              "\n",
              "  [theme=dark] .colab-df-quickchart {\n",
              "    background-color: #3B4455;\n",
              "    fill: #D2E3FC;\n",
              "  }\n",
              "\n",
              "  [theme=dark] .colab-df-quickchart:hover {\n",
              "    background-color: #434B5C;\n",
              "    box-shadow: 0px 1px 3px 1px rgba(0, 0, 0, 0.15);\n",
              "    filter: drop-shadow(0px 1px 2px rgba(0, 0, 0, 0.3));\n",
              "    fill: #FFFFFF;\n",
              "  }\n",
              "</style>\n",
              "\n",
              "    <script>\n",
              "      async function quickchart(key) {\n",
              "        const containerElement = document.querySelector('#' + key);\n",
              "        const charts = await google.colab.kernel.invokeFunction(\n",
              "            'suggestCharts', [key], {});\n",
              "      }\n",
              "    </script>\n",
              "\n",
              "      <script>\n",
              "\n",
              "function displayQuickchartButton(domScope) {\n",
              "  let quickchartButtonEl =\n",
              "    domScope.querySelector('#df-dde0f9cf-76cc-41fc-8756-30d0cc9bb23d button.colab-df-quickchart');\n",
              "  quickchartButtonEl.style.display =\n",
              "    google.colab.kernel.accessAllowed ? 'block' : 'none';\n",
              "}\n",
              "\n",
              "        displayQuickchartButton(document);\n",
              "      </script>\n",
              "      <style>\n",
              "    .colab-df-container {\n",
              "      display:flex;\n",
              "      flex-wrap:wrap;\n",
              "      gap: 12px;\n",
              "    }\n",
              "\n",
              "    .colab-df-convert {\n",
              "      background-color: #E8F0FE;\n",
              "      border: none;\n",
              "      border-radius: 50%;\n",
              "      cursor: pointer;\n",
              "      display: none;\n",
              "      fill: #1967D2;\n",
              "      height: 32px;\n",
              "      padding: 0 0 0 0;\n",
              "      width: 32px;\n",
              "    }\n",
              "\n",
              "    .colab-df-convert:hover {\n",
              "      background-color: #E2EBFA;\n",
              "      box-shadow: 0px 1px 2px rgba(60, 64, 67, 0.3), 0px 1px 3px 1px rgba(60, 64, 67, 0.15);\n",
              "      fill: #174EA6;\n",
              "    }\n",
              "\n",
              "    [theme=dark] .colab-df-convert {\n",
              "      background-color: #3B4455;\n",
              "      fill: #D2E3FC;\n",
              "    }\n",
              "\n",
              "    [theme=dark] .colab-df-convert:hover {\n",
              "      background-color: #434B5C;\n",
              "      box-shadow: 0px 1px 3px 1px rgba(0, 0, 0, 0.15);\n",
              "      filter: drop-shadow(0px 1px 2px rgba(0, 0, 0, 0.3));\n",
              "      fill: #FFFFFF;\n",
              "    }\n",
              "  </style>\n",
              "\n",
              "      <script>\n",
              "        const buttonEl =\n",
              "          document.querySelector('#df-afe5c223-303d-49a1-b537-5c8b81b534fb button.colab-df-convert');\n",
              "        buttonEl.style.display =\n",
              "          google.colab.kernel.accessAllowed ? 'block' : 'none';\n",
              "\n",
              "        async function convertToInteractive(key) {\n",
              "          const element = document.querySelector('#df-afe5c223-303d-49a1-b537-5c8b81b534fb');\n",
              "          const dataTable =\n",
              "            await google.colab.kernel.invokeFunction('convertToInteractive',\n",
              "                                                     [key], {});\n",
              "          if (!dataTable) return;\n",
              "\n",
              "          const docLinkHtml = 'Like what you see? Visit the ' +\n",
              "            '<a target=\"_blank\" href=https://colab.research.google.com/notebooks/data_table.ipynb>data table notebook</a>'\n",
              "            + ' to learn more about interactive tables.';\n",
              "          element.innerHTML = '';\n",
              "          dataTable['output_type'] = 'display_data';\n",
              "          await google.colab.output.renderOutput(dataTable, element);\n",
              "          const docLink = document.createElement('div');\n",
              "          docLink.innerHTML = docLinkHtml;\n",
              "          element.appendChild(docLink);\n",
              "        }\n",
              "      </script>\n",
              "    </div>\n",
              "  </div>\n"
            ]
          },
          "metadata": {},
          "execution_count": 8
        }
      ]
    },
    {
      "cell_type": "code",
      "source": [
        "data[['PLACE']].dropna().mode().iloc[0,0]"
      ],
      "metadata": {
        "colab": {
          "base_uri": "https://localhost:8080/",
          "height": 35
        },
        "id": "8_DulIR5VEeL",
        "outputId": "0835cf21-4723-4056-894e-94f78b1540f3"
      },
      "id": "8_DulIR5VEeL",
      "execution_count": 9,
      "outputs": [
        {
          "output_type": "execute_result",
          "data": {
            "text/plain": [
              "'บ้าน/หอพัก'"
            ],
            "application/vnd.google.colaboratory.intrinsic+json": {
              "type": "string"
            }
          },
          "metadata": {},
          "execution_count": 9
        }
      ]
    },
    {
      "cell_type": "code",
      "source": [
        "data[['PLACE']] = data[['PLACE']].fillna(data[['PLACE']].dropna().mode().iloc[0,0])\n",
        "data.isnull().any()"
      ],
      "metadata": {
        "colab": {
          "base_uri": "https://localhost:8080/"
        },
        "id": "mxSIlAhsVLkL",
        "outputId": "84398773-5d00-4635-a0cc-4d1a8464ac94"
      },
      "id": "mxSIlAhsVLkL",
      "execution_count": 10,
      "outputs": [
        {
          "output_type": "execute_result",
          "data": {
            "text/plain": [
              "No              False\n",
              "GENDER          False\n",
              "AGE             False\n",
              "EDUCATION       False\n",
              "CAREER          False\n",
              "SALARY           True\n",
              "INTERNET_PAY    False\n",
              "PLACE           False\n",
              "TIME            False\n",
              "HOUR             True\n",
              "KNOWN           False\n",
              "APPLICATIONS    False\n",
              "TYPE             True\n",
              "(F1)            False\n",
              "(F2)            False\n",
              "(F3)            False\n",
              "(F4)            False\n",
              "(F5)            False\n",
              "(O1)            False\n",
              "(O2)            False\n",
              "(O3)            False\n",
              "dtype: bool"
            ]
          },
          "metadata": {},
          "execution_count": 10
        }
      ]
    },
    {
      "cell_type": "code",
      "source": [
        "#data.PLACE.value_counts()"
      ],
      "metadata": {
        "colab": {
          "base_uri": "https://localhost:8080/"
        },
        "id": "bPcqic9RTSLg",
        "outputId": "daf545b7-b437-43c7-dbcc-7805a2bd9db3"
      },
      "id": "bPcqic9RTSLg",
      "execution_count": 85,
      "outputs": [
        {
          "output_type": "execute_result",
          "data": {
            "text/plain": [
              "บ้าน/หอพัก                      161\n",
              "ที่ทำงาน/ที่เรียน                28\n",
              "สถานที่ให้บริการอินเตอร์เน็ต     11\n",
              "Name: PLACE, dtype: int64"
            ]
          },
          "metadata": {},
          "execution_count": 85
        }
      ]
    },
    {
      "cell_type": "code",
      "source": [
        "data[['SALARY']].dropna().mean()"
      ],
      "metadata": {
        "colab": {
          "base_uri": "https://localhost:8080/"
        },
        "id": "Y0oUQW9EV8sH",
        "outputId": "fc4ebd54-8802-46c9-d657-2dfbbcc2084d"
      },
      "id": "Y0oUQW9EV8sH",
      "execution_count": 11,
      "outputs": [
        {
          "output_type": "execute_result",
          "data": {
            "text/plain": [
              "SALARY    17863.959391\n",
              "dtype: float64"
            ]
          },
          "metadata": {},
          "execution_count": 11
        }
      ]
    },
    {
      "cell_type": "code",
      "source": [
        "data[['SALARY']] = data[['SALARY']].fillna(data['SALARY'].mean())\n"
      ],
      "metadata": {
        "id": "ukbciNlkeQhV"
      },
      "id": "ukbciNlkeQhV",
      "execution_count": 12,
      "outputs": []
    },
    {
      "cell_type": "code",
      "source": [
        "data.isnull().any()"
      ],
      "metadata": {
        "colab": {
          "base_uri": "https://localhost:8080/"
        },
        "id": "zEh7b1ahWmsu",
        "outputId": "8dc5a027-5b88-4473-d9c5-3bff76cfe0f7"
      },
      "id": "zEh7b1ahWmsu",
      "execution_count": 13,
      "outputs": [
        {
          "output_type": "execute_result",
          "data": {
            "text/plain": [
              "No              False\n",
              "GENDER          False\n",
              "AGE             False\n",
              "EDUCATION       False\n",
              "CAREER          False\n",
              "SALARY          False\n",
              "INTERNET_PAY    False\n",
              "PLACE           False\n",
              "TIME            False\n",
              "HOUR             True\n",
              "KNOWN           False\n",
              "APPLICATIONS    False\n",
              "TYPE             True\n",
              "(F1)            False\n",
              "(F2)            False\n",
              "(F3)            False\n",
              "(F4)            False\n",
              "(F5)            False\n",
              "(O1)            False\n",
              "(O2)            False\n",
              "(O3)            False\n",
              "dtype: bool"
            ]
          },
          "metadata": {},
          "execution_count": 13
        }
      ]
    },
    {
      "cell_type": "code",
      "execution_count": 14,
      "id": "b8471061",
      "metadata": {
        "id": "b8471061",
        "colab": {
          "base_uri": "https://localhost:8080/",
          "height": 80
        },
        "outputId": "882ab923-24a4-4e2a-e41d-b496d11b600c"
      },
      "outputs": [
        {
          "output_type": "execute_result",
          "data": {
            "text/plain": [
              "                HOUR\n",
              "0  มากกว่า 4 ชม./วัน"
            ],
            "text/html": [
              "\n",
              "\n",
              "  <div id=\"df-edb4b870-cb20-4825-95b8-70dec180632c\">\n",
              "    <div class=\"colab-df-container\">\n",
              "      <div>\n",
              "<style scoped>\n",
              "    .dataframe tbody tr th:only-of-type {\n",
              "        vertical-align: middle;\n",
              "    }\n",
              "\n",
              "    .dataframe tbody tr th {\n",
              "        vertical-align: top;\n",
              "    }\n",
              "\n",
              "    .dataframe thead th {\n",
              "        text-align: right;\n",
              "    }\n",
              "</style>\n",
              "<table border=\"1\" class=\"dataframe\">\n",
              "  <thead>\n",
              "    <tr style=\"text-align: right;\">\n",
              "      <th></th>\n",
              "      <th>HOUR</th>\n",
              "    </tr>\n",
              "  </thead>\n",
              "  <tbody>\n",
              "    <tr>\n",
              "      <th>0</th>\n",
              "      <td>มากกว่า 4 ชม./วัน</td>\n",
              "    </tr>\n",
              "  </tbody>\n",
              "</table>\n",
              "</div>\n",
              "      <button class=\"colab-df-convert\" onclick=\"convertToInteractive('df-edb4b870-cb20-4825-95b8-70dec180632c')\"\n",
              "              title=\"Convert this dataframe to an interactive table.\"\n",
              "              style=\"display:none;\">\n",
              "\n",
              "  <svg xmlns=\"http://www.w3.org/2000/svg\" height=\"24px\"viewBox=\"0 0 24 24\"\n",
              "       width=\"24px\">\n",
              "    <path d=\"M0 0h24v24H0V0z\" fill=\"none\"/>\n",
              "    <path d=\"M18.56 5.44l.94 2.06.94-2.06 2.06-.94-2.06-.94-.94-2.06-.94 2.06-2.06.94zm-11 1L8.5 8.5l.94-2.06 2.06-.94-2.06-.94L8.5 2.5l-.94 2.06-2.06.94zm10 10l.94 2.06.94-2.06 2.06-.94-2.06-.94-.94-2.06-.94 2.06-2.06.94z\"/><path d=\"M17.41 7.96l-1.37-1.37c-.4-.4-.92-.59-1.43-.59-.52 0-1.04.2-1.43.59L10.3 9.45l-7.72 7.72c-.78.78-.78 2.05 0 2.83L4 21.41c.39.39.9.59 1.41.59.51 0 1.02-.2 1.41-.59l7.78-7.78 2.81-2.81c.8-.78.8-2.07 0-2.86zM5.41 20L4 18.59l7.72-7.72 1.47 1.35L5.41 20z\"/>\n",
              "  </svg>\n",
              "      </button>\n",
              "\n",
              "\n",
              "\n",
              "    <div id=\"df-ad98ad3c-579f-4f3c-8f11-a32c008827a6\">\n",
              "      <button class=\"colab-df-quickchart\" onclick=\"quickchart('df-ad98ad3c-579f-4f3c-8f11-a32c008827a6')\"\n",
              "              title=\"Suggest charts.\"\n",
              "              style=\"display:none;\">\n",
              "\n",
              "<svg xmlns=\"http://www.w3.org/2000/svg\" height=\"24px\"viewBox=\"0 0 24 24\"\n",
              "     width=\"24px\">\n",
              "    <g>\n",
              "        <path d=\"M19 3H5c-1.1 0-2 .9-2 2v14c0 1.1.9 2 2 2h14c1.1 0 2-.9 2-2V5c0-1.1-.9-2-2-2zM9 17H7v-7h2v7zm4 0h-2V7h2v10zm4 0h-2v-4h2v4z\"/>\n",
              "    </g>\n",
              "</svg>\n",
              "      </button>\n",
              "    </div>\n",
              "\n",
              "<style>\n",
              "  .colab-df-quickchart {\n",
              "    background-color: #E8F0FE;\n",
              "    border: none;\n",
              "    border-radius: 50%;\n",
              "    cursor: pointer;\n",
              "    display: none;\n",
              "    fill: #1967D2;\n",
              "    height: 32px;\n",
              "    padding: 0 0 0 0;\n",
              "    width: 32px;\n",
              "  }\n",
              "\n",
              "  .colab-df-quickchart:hover {\n",
              "    background-color: #E2EBFA;\n",
              "    box-shadow: 0px 1px 2px rgba(60, 64, 67, 0.3), 0px 1px 3px 1px rgba(60, 64, 67, 0.15);\n",
              "    fill: #174EA6;\n",
              "  }\n",
              "\n",
              "  [theme=dark] .colab-df-quickchart {\n",
              "    background-color: #3B4455;\n",
              "    fill: #D2E3FC;\n",
              "  }\n",
              "\n",
              "  [theme=dark] .colab-df-quickchart:hover {\n",
              "    background-color: #434B5C;\n",
              "    box-shadow: 0px 1px 3px 1px rgba(0, 0, 0, 0.15);\n",
              "    filter: drop-shadow(0px 1px 2px rgba(0, 0, 0, 0.3));\n",
              "    fill: #FFFFFF;\n",
              "  }\n",
              "</style>\n",
              "\n",
              "    <script>\n",
              "      async function quickchart(key) {\n",
              "        const containerElement = document.querySelector('#' + key);\n",
              "        const charts = await google.colab.kernel.invokeFunction(\n",
              "            'suggestCharts', [key], {});\n",
              "      }\n",
              "    </script>\n",
              "\n",
              "      <script>\n",
              "\n",
              "function displayQuickchartButton(domScope) {\n",
              "  let quickchartButtonEl =\n",
              "    domScope.querySelector('#df-ad98ad3c-579f-4f3c-8f11-a32c008827a6 button.colab-df-quickchart');\n",
              "  quickchartButtonEl.style.display =\n",
              "    google.colab.kernel.accessAllowed ? 'block' : 'none';\n",
              "}\n",
              "\n",
              "        displayQuickchartButton(document);\n",
              "      </script>\n",
              "      <style>\n",
              "    .colab-df-container {\n",
              "      display:flex;\n",
              "      flex-wrap:wrap;\n",
              "      gap: 12px;\n",
              "    }\n",
              "\n",
              "    .colab-df-convert {\n",
              "      background-color: #E8F0FE;\n",
              "      border: none;\n",
              "      border-radius: 50%;\n",
              "      cursor: pointer;\n",
              "      display: none;\n",
              "      fill: #1967D2;\n",
              "      height: 32px;\n",
              "      padding: 0 0 0 0;\n",
              "      width: 32px;\n",
              "    }\n",
              "\n",
              "    .colab-df-convert:hover {\n",
              "      background-color: #E2EBFA;\n",
              "      box-shadow: 0px 1px 2px rgba(60, 64, 67, 0.3), 0px 1px 3px 1px rgba(60, 64, 67, 0.15);\n",
              "      fill: #174EA6;\n",
              "    }\n",
              "\n",
              "    [theme=dark] .colab-df-convert {\n",
              "      background-color: #3B4455;\n",
              "      fill: #D2E3FC;\n",
              "    }\n",
              "\n",
              "    [theme=dark] .colab-df-convert:hover {\n",
              "      background-color: #434B5C;\n",
              "      box-shadow: 0px 1px 3px 1px rgba(0, 0, 0, 0.15);\n",
              "      filter: drop-shadow(0px 1px 2px rgba(0, 0, 0, 0.3));\n",
              "      fill: #FFFFFF;\n",
              "    }\n",
              "  </style>\n",
              "\n",
              "      <script>\n",
              "        const buttonEl =\n",
              "          document.querySelector('#df-edb4b870-cb20-4825-95b8-70dec180632c button.colab-df-convert');\n",
              "        buttonEl.style.display =\n",
              "          google.colab.kernel.accessAllowed ? 'block' : 'none';\n",
              "\n",
              "        async function convertToInteractive(key) {\n",
              "          const element = document.querySelector('#df-edb4b870-cb20-4825-95b8-70dec180632c');\n",
              "          const dataTable =\n",
              "            await google.colab.kernel.invokeFunction('convertToInteractive',\n",
              "                                                     [key], {});\n",
              "          if (!dataTable) return;\n",
              "\n",
              "          const docLinkHtml = 'Like what you see? Visit the ' +\n",
              "            '<a target=\"_blank\" href=https://colab.research.google.com/notebooks/data_table.ipynb>data table notebook</a>'\n",
              "            + ' to learn more about interactive tables.';\n",
              "          element.innerHTML = '';\n",
              "          dataTable['output_type'] = 'display_data';\n",
              "          await google.colab.output.renderOutput(dataTable, element);\n",
              "          const docLink = document.createElement('div');\n",
              "          docLink.innerHTML = docLinkHtml;\n",
              "          element.appendChild(docLink);\n",
              "        }\n",
              "      </script>\n",
              "    </div>\n",
              "  </div>\n"
            ]
          },
          "metadata": {},
          "execution_count": 14
        }
      ],
      "source": [
        "data[['HOUR']].dropna().mode()"
      ]
    },
    {
      "cell_type": "code",
      "source": [
        "data[['HOUR']].dropna().mode().iloc[0,0]"
      ],
      "metadata": {
        "colab": {
          "base_uri": "https://localhost:8080/",
          "height": 35
        },
        "id": "jHNOQm3qd2bv",
        "outputId": "56f77ea5-fa54-4cdd-ca8b-f1ca58c167e1"
      },
      "id": "jHNOQm3qd2bv",
      "execution_count": 15,
      "outputs": [
        {
          "output_type": "execute_result",
          "data": {
            "text/plain": [
              "'มากกว่า 4 ชม./วัน'"
            ],
            "application/vnd.google.colaboratory.intrinsic+json": {
              "type": "string"
            }
          },
          "metadata": {},
          "execution_count": 15
        }
      ]
    },
    {
      "cell_type": "code",
      "source": [
        "data[['HOUR']] = data[['HOUR']].fillna(data[['HOUR']].dropna().mode().iloc[0,0])\n",
        "data.isnull().any()"
      ],
      "metadata": {
        "colab": {
          "base_uri": "https://localhost:8080/"
        },
        "id": "2-qLPhCZe5ja",
        "outputId": "80868c62-429d-484d-e31f-ed885689d7bc"
      },
      "id": "2-qLPhCZe5ja",
      "execution_count": 16,
      "outputs": [
        {
          "output_type": "execute_result",
          "data": {
            "text/plain": [
              "No              False\n",
              "GENDER          False\n",
              "AGE             False\n",
              "EDUCATION       False\n",
              "CAREER          False\n",
              "SALARY          False\n",
              "INTERNET_PAY    False\n",
              "PLACE           False\n",
              "TIME            False\n",
              "HOUR            False\n",
              "KNOWN           False\n",
              "APPLICATIONS    False\n",
              "TYPE             True\n",
              "(F1)            False\n",
              "(F2)            False\n",
              "(F3)            False\n",
              "(F4)            False\n",
              "(F5)            False\n",
              "(O1)            False\n",
              "(O2)            False\n",
              "(O3)            False\n",
              "dtype: bool"
            ]
          },
          "metadata": {},
          "execution_count": 16
        }
      ]
    },
    {
      "cell_type": "code",
      "source": [
        "data[['TYPE']].dropna().mode()"
      ],
      "metadata": {
        "colab": {
          "base_uri": "https://localhost:8080/",
          "height": 80
        },
        "id": "mX0E_GlZe_6o",
        "outputId": "facbf8b8-02b2-4496-ca13-9a8696032171"
      },
      "id": "mX0E_GlZe_6o",
      "execution_count": 17,
      "outputs": [
        {
          "output_type": "execute_result",
          "data": {
            "text/plain": [
              "                     TYPE\n",
              "0  การโพสต์ข้อความ/รูปภาพ"
            ],
            "text/html": [
              "\n",
              "\n",
              "  <div id=\"df-4329c8a9-ff57-473d-97e9-3ce1f0ddd750\">\n",
              "    <div class=\"colab-df-container\">\n",
              "      <div>\n",
              "<style scoped>\n",
              "    .dataframe tbody tr th:only-of-type {\n",
              "        vertical-align: middle;\n",
              "    }\n",
              "\n",
              "    .dataframe tbody tr th {\n",
              "        vertical-align: top;\n",
              "    }\n",
              "\n",
              "    .dataframe thead th {\n",
              "        text-align: right;\n",
              "    }\n",
              "</style>\n",
              "<table border=\"1\" class=\"dataframe\">\n",
              "  <thead>\n",
              "    <tr style=\"text-align: right;\">\n",
              "      <th></th>\n",
              "      <th>TYPE</th>\n",
              "    </tr>\n",
              "  </thead>\n",
              "  <tbody>\n",
              "    <tr>\n",
              "      <th>0</th>\n",
              "      <td>การโพสต์ข้อความ/รูปภาพ</td>\n",
              "    </tr>\n",
              "  </tbody>\n",
              "</table>\n",
              "</div>\n",
              "      <button class=\"colab-df-convert\" onclick=\"convertToInteractive('df-4329c8a9-ff57-473d-97e9-3ce1f0ddd750')\"\n",
              "              title=\"Convert this dataframe to an interactive table.\"\n",
              "              style=\"display:none;\">\n",
              "\n",
              "  <svg xmlns=\"http://www.w3.org/2000/svg\" height=\"24px\"viewBox=\"0 0 24 24\"\n",
              "       width=\"24px\">\n",
              "    <path d=\"M0 0h24v24H0V0z\" fill=\"none\"/>\n",
              "    <path d=\"M18.56 5.44l.94 2.06.94-2.06 2.06-.94-2.06-.94-.94-2.06-.94 2.06-2.06.94zm-11 1L8.5 8.5l.94-2.06 2.06-.94-2.06-.94L8.5 2.5l-.94 2.06-2.06.94zm10 10l.94 2.06.94-2.06 2.06-.94-2.06-.94-.94-2.06-.94 2.06-2.06.94z\"/><path d=\"M17.41 7.96l-1.37-1.37c-.4-.4-.92-.59-1.43-.59-.52 0-1.04.2-1.43.59L10.3 9.45l-7.72 7.72c-.78.78-.78 2.05 0 2.83L4 21.41c.39.39.9.59 1.41.59.51 0 1.02-.2 1.41-.59l7.78-7.78 2.81-2.81c.8-.78.8-2.07 0-2.86zM5.41 20L4 18.59l7.72-7.72 1.47 1.35L5.41 20z\"/>\n",
              "  </svg>\n",
              "      </button>\n",
              "\n",
              "\n",
              "\n",
              "    <div id=\"df-a143f2d7-17ce-44e9-baf1-578a24bfe5f0\">\n",
              "      <button class=\"colab-df-quickchart\" onclick=\"quickchart('df-a143f2d7-17ce-44e9-baf1-578a24bfe5f0')\"\n",
              "              title=\"Suggest charts.\"\n",
              "              style=\"display:none;\">\n",
              "\n",
              "<svg xmlns=\"http://www.w3.org/2000/svg\" height=\"24px\"viewBox=\"0 0 24 24\"\n",
              "     width=\"24px\">\n",
              "    <g>\n",
              "        <path d=\"M19 3H5c-1.1 0-2 .9-2 2v14c0 1.1.9 2 2 2h14c1.1 0 2-.9 2-2V5c0-1.1-.9-2-2-2zM9 17H7v-7h2v7zm4 0h-2V7h2v10zm4 0h-2v-4h2v4z\"/>\n",
              "    </g>\n",
              "</svg>\n",
              "      </button>\n",
              "    </div>\n",
              "\n",
              "<style>\n",
              "  .colab-df-quickchart {\n",
              "    background-color: #E8F0FE;\n",
              "    border: none;\n",
              "    border-radius: 50%;\n",
              "    cursor: pointer;\n",
              "    display: none;\n",
              "    fill: #1967D2;\n",
              "    height: 32px;\n",
              "    padding: 0 0 0 0;\n",
              "    width: 32px;\n",
              "  }\n",
              "\n",
              "  .colab-df-quickchart:hover {\n",
              "    background-color: #E2EBFA;\n",
              "    box-shadow: 0px 1px 2px rgba(60, 64, 67, 0.3), 0px 1px 3px 1px rgba(60, 64, 67, 0.15);\n",
              "    fill: #174EA6;\n",
              "  }\n",
              "\n",
              "  [theme=dark] .colab-df-quickchart {\n",
              "    background-color: #3B4455;\n",
              "    fill: #D2E3FC;\n",
              "  }\n",
              "\n",
              "  [theme=dark] .colab-df-quickchart:hover {\n",
              "    background-color: #434B5C;\n",
              "    box-shadow: 0px 1px 3px 1px rgba(0, 0, 0, 0.15);\n",
              "    filter: drop-shadow(0px 1px 2px rgba(0, 0, 0, 0.3));\n",
              "    fill: #FFFFFF;\n",
              "  }\n",
              "</style>\n",
              "\n",
              "    <script>\n",
              "      async function quickchart(key) {\n",
              "        const containerElement = document.querySelector('#' + key);\n",
              "        const charts = await google.colab.kernel.invokeFunction(\n",
              "            'suggestCharts', [key], {});\n",
              "      }\n",
              "    </script>\n",
              "\n",
              "      <script>\n",
              "\n",
              "function displayQuickchartButton(domScope) {\n",
              "  let quickchartButtonEl =\n",
              "    domScope.querySelector('#df-a143f2d7-17ce-44e9-baf1-578a24bfe5f0 button.colab-df-quickchart');\n",
              "  quickchartButtonEl.style.display =\n",
              "    google.colab.kernel.accessAllowed ? 'block' : 'none';\n",
              "}\n",
              "\n",
              "        displayQuickchartButton(document);\n",
              "      </script>\n",
              "      <style>\n",
              "    .colab-df-container {\n",
              "      display:flex;\n",
              "      flex-wrap:wrap;\n",
              "      gap: 12px;\n",
              "    }\n",
              "\n",
              "    .colab-df-convert {\n",
              "      background-color: #E8F0FE;\n",
              "      border: none;\n",
              "      border-radius: 50%;\n",
              "      cursor: pointer;\n",
              "      display: none;\n",
              "      fill: #1967D2;\n",
              "      height: 32px;\n",
              "      padding: 0 0 0 0;\n",
              "      width: 32px;\n",
              "    }\n",
              "\n",
              "    .colab-df-convert:hover {\n",
              "      background-color: #E2EBFA;\n",
              "      box-shadow: 0px 1px 2px rgba(60, 64, 67, 0.3), 0px 1px 3px 1px rgba(60, 64, 67, 0.15);\n",
              "      fill: #174EA6;\n",
              "    }\n",
              "\n",
              "    [theme=dark] .colab-df-convert {\n",
              "      background-color: #3B4455;\n",
              "      fill: #D2E3FC;\n",
              "    }\n",
              "\n",
              "    [theme=dark] .colab-df-convert:hover {\n",
              "      background-color: #434B5C;\n",
              "      box-shadow: 0px 1px 3px 1px rgba(0, 0, 0, 0.15);\n",
              "      filter: drop-shadow(0px 1px 2px rgba(0, 0, 0, 0.3));\n",
              "      fill: #FFFFFF;\n",
              "    }\n",
              "  </style>\n",
              "\n",
              "      <script>\n",
              "        const buttonEl =\n",
              "          document.querySelector('#df-4329c8a9-ff57-473d-97e9-3ce1f0ddd750 button.colab-df-convert');\n",
              "        buttonEl.style.display =\n",
              "          google.colab.kernel.accessAllowed ? 'block' : 'none';\n",
              "\n",
              "        async function convertToInteractive(key) {\n",
              "          const element = document.querySelector('#df-4329c8a9-ff57-473d-97e9-3ce1f0ddd750');\n",
              "          const dataTable =\n",
              "            await google.colab.kernel.invokeFunction('convertToInteractive',\n",
              "                                                     [key], {});\n",
              "          if (!dataTable) return;\n",
              "\n",
              "          const docLinkHtml = 'Like what you see? Visit the ' +\n",
              "            '<a target=\"_blank\" href=https://colab.research.google.com/notebooks/data_table.ipynb>data table notebook</a>'\n",
              "            + ' to learn more about interactive tables.';\n",
              "          element.innerHTML = '';\n",
              "          dataTable['output_type'] = 'display_data';\n",
              "          await google.colab.output.renderOutput(dataTable, element);\n",
              "          const docLink = document.createElement('div');\n",
              "          docLink.innerHTML = docLinkHtml;\n",
              "          element.appendChild(docLink);\n",
              "        }\n",
              "      </script>\n",
              "    </div>\n",
              "  </div>\n"
            ]
          },
          "metadata": {},
          "execution_count": 17
        }
      ]
    },
    {
      "cell_type": "code",
      "source": [
        "data[['TYPE']].dropna().mode().iloc[0,0]"
      ],
      "metadata": {
        "colab": {
          "base_uri": "https://localhost:8080/",
          "height": 35
        },
        "id": "NikbsmEefG18",
        "outputId": "b8e608f4-5bfc-44af-c627-1ab54da6ef9e"
      },
      "id": "NikbsmEefG18",
      "execution_count": 18,
      "outputs": [
        {
          "output_type": "execute_result",
          "data": {
            "text/plain": [
              "'การโพสต์ข้อความ/รูปภาพ'"
            ],
            "application/vnd.google.colaboratory.intrinsic+json": {
              "type": "string"
            }
          },
          "metadata": {},
          "execution_count": 18
        }
      ]
    },
    {
      "cell_type": "code",
      "source": [
        "data[['TYPE']] = data[['TYPE']].fillna(data[['TYPE']].dropna().mode().iloc[0,0])\n",
        "data.isnull().any()"
      ],
      "metadata": {
        "colab": {
          "base_uri": "https://localhost:8080/"
        },
        "id": "l2iGXflCfKzt",
        "outputId": "31bb5d06-7094-459c-8590-1a4f73eecde9"
      },
      "id": "l2iGXflCfKzt",
      "execution_count": 19,
      "outputs": [
        {
          "output_type": "execute_result",
          "data": {
            "text/plain": [
              "No              False\n",
              "GENDER          False\n",
              "AGE             False\n",
              "EDUCATION       False\n",
              "CAREER          False\n",
              "SALARY          False\n",
              "INTERNET_PAY    False\n",
              "PLACE           False\n",
              "TIME            False\n",
              "HOUR            False\n",
              "KNOWN           False\n",
              "APPLICATIONS    False\n",
              "TYPE            False\n",
              "(F1)            False\n",
              "(F2)            False\n",
              "(F3)            False\n",
              "(F4)            False\n",
              "(F5)            False\n",
              "(O1)            False\n",
              "(O2)            False\n",
              "(O3)            False\n",
              "dtype: bool"
            ]
          },
          "metadata": {},
          "execution_count": 19
        }
      ]
    },
    {
      "cell_type": "markdown",
      "id": "d5907b58",
      "metadata": {
        "id": "d5907b58"
      },
      "source": [
        "จากข้อมูลที่เติมค่าสูญหายเรียบร้อยแล้ว ให้สร้างข้อมูลใหม่ที่ทำการลงรหัสของ Factor (F1 - F5) และ Objective (O1 - O3) ทั้งหมด ตาม Sheet คู่มือลงรหัส"
      ]
    },
    {
      "cell_type": "code",
      "source": [
        "fo_mapping = {\n",
        "    'สำคัญน้อยที่สุด':1,\n",
        "    'สำคัญน้อย':2,\n",
        "    'ปานกลาง':3,\n",
        "    'สำคัญมาก':4,\n",
        "    'สำคัญมากที่สุด':5\n",
        "}\n",
        "data['F1'] = data['(F1)'].map(fo_mapping)\n",
        "data['F2'] = data['(F2)'].map(fo_mapping)\n",
        "data['F3'] = data['(F3)'].map(fo_mapping)\n",
        "data['F4'] = data['(F4)'].map(fo_mapping)\n",
        "data['F5'] = data['(F5)'].map(fo_mapping)\n",
        "data['O1'] = data['(O1)'].map(fo_mapping)\n",
        "data['O2'] = data['(O2)'].map(fo_mapping)\n",
        "data['O3'] = data['(O3)'].map(fo_mapping)"
      ],
      "metadata": {
        "id": "AJuhdTJ3rTqf"
      },
      "id": "AJuhdTJ3rTqf",
      "execution_count": 51,
      "outputs": []
    },
    {
      "cell_type": "markdown",
      "id": "db52fd4d",
      "metadata": {
        "id": "db52fd4d"
      },
      "source": [
        "จากข้อมูลที่เติมค่าสูญหายเรียบร้อยแล้ว ให้สร้าง plot แสดงความถี่ของตัวแปรเพศของผู้ใช้เฟซบุ๊ค"
      ]
    },
    {
      "cell_type": "code",
      "execution_count": 20,
      "id": "36fac357",
      "metadata": {
        "id": "36fac357"
      },
      "outputs": [],
      "source": [
        "!wget -q https://github.com/Phonbopit/sarabun-webfont/raw/master/fonts/thsarabunnew-webfont.ttf"
      ]
    },
    {
      "cell_type": "code",
      "source": [
        "import matplotlib as mpl\n",
        "mpl.font_manager.fontManager.addfont('thsarabunnew-webfont.ttf')\n",
        "mpl.rc('font', family='TH Sarabun New')"
      ],
      "metadata": {
        "id": "beDWu89MpRQU"
      },
      "id": "beDWu89MpRQU",
      "execution_count": 21,
      "outputs": []
    },
    {
      "cell_type": "code",
      "source": [
        "from matplotlib import pyplot as plt"
      ],
      "metadata": {
        "id": "pOXSRzEepVtZ"
      },
      "id": "pOXSRzEepVtZ",
      "execution_count": 22,
      "outputs": []
    },
    {
      "cell_type": "code",
      "source": [
        "plt.hist(data['GENDER'])"
      ],
      "metadata": {
        "colab": {
          "base_uri": "https://localhost:8080/",
          "height": 486
        },
        "id": "FelCEZrqpYyu",
        "outputId": "76bfb9e9-d51f-4d8e-b3cd-69c4bffc5ab3"
      },
      "id": "FelCEZrqpYyu",
      "execution_count": 24,
      "outputs": [
        {
          "output_type": "execute_result",
          "data": {
            "text/plain": [
              "(array([100.,   0.,   0.,   0.,   0.,   0.,   0.,   0.,   0., 100.]),\n",
              " array([0. , 0.1, 0.2, 0.3, 0.4, 0.5, 0.6, 0.7, 0.8, 0.9, 1. ]),\n",
              " <BarContainer object of 10 artists>)"
            ]
          },
          "metadata": {},
          "execution_count": 24
        },
        {
          "output_type": "display_data",
          "data": {
            "text/plain": [
              "<Figure size 640x480 with 1 Axes>"
            ],
            "image/png": "[encoded data removed]"
          },
          "metadata": {}
        }
      ]
    },
    {
      "cell_type": "markdown",
      "id": "8f2e8514",
      "metadata": {
        "id": "8f2e8514"
      },
      "source": [
        "จากข้อมูลที่เติมค่าสูญหายเรียบร้อยแล้ว ให้สร้าง box plot แสดงการแจกแจงของตัวแปรอายุของผู้ใช้เฟซบุ๊ค"
      ]
    },
    {
      "cell_type": "code",
      "execution_count": 156,
      "id": "cde20c81",
      "metadata": {
        "id": "cde20c81",
        "colab": {
          "base_uri": "https://localhost:8080/",
          "height": 570
        },
        "outputId": "12022a4f-aa90-43e4-ed05-c859ca15074c"
      },
      "outputs": [
        {
          "output_type": "execute_result",
          "data": {
            "text/plain": [
              "{'whiskers': [<matplotlib.lines.Line2D at 0x7d04ef9094b0>,\n",
              "  <matplotlib.lines.Line2D at 0x7d04ef909750>],\n",
              " 'caps': [<matplotlib.lines.Line2D at 0x7d04ef9099f0>,\n",
              "  <matplotlib.lines.Line2D at 0x7d04ef909c90>],\n",
              " 'boxes': [<matplotlib.lines.Line2D at 0x7d04ef909210>],\n",
              " 'medians': [<matplotlib.lines.Line2D at 0x7d04ef909f30>],\n",
              " 'fliers': [<matplotlib.lines.Line2D at 0x7d04ef90a1d0>],\n",
              " 'means': []}"
            ]
          },
          "metadata": {},
          "execution_count": 156
        },
        {
          "output_type": "display_data",
          "data": {
            "text/plain": [
              "<Figure size 640x480 with 1 Axes>"
            ],
            "image/png": "[encoded data removed]"
          },
          "metadata": {}
        }
      ],
      "source": [
        "#from matplotlib import pyplot as plt\n",
        "plt.boxplot(data['AGE'])"
      ]
    },
    {
      "cell_type": "markdown",
      "id": "25863b47",
      "metadata": {
        "id": "25863b47"
      },
      "source": [
        "จากข้อมูลที่เติมค่าสูญหายเรียบร้อยแล้ว ให้สร้าง bar plot แสดงความถี่ของประเภทการใช้งานแบบต่าง ๆ (TYPE)"
      ]
    },
    {
      "cell_type": "code",
      "source": [
        "data.TYPE.value_counts()"
      ],
      "metadata": {
        "colab": {
          "base_uri": "https://localhost:8080/"
        },
        "id": "rohV0EM9_T7M",
        "outputId": "86a9fdc7-3861-4e56-e88d-b0c00d9709bf"
      },
      "id": "rohV0EM9_T7M",
      "execution_count": 25,
      "outputs": [
        {
          "output_type": "execute_result",
          "data": {
            "text/plain": [
              "การโพสต์ข้อความ/รูปภาพ              161\n",
              "เกมส์ที่เน้นการได้คะแนนสูงสุด        32\n",
              "การส่งของขวัญ                         4\n",
              "เกมส์ที่เน้นการมีเพื่อนมากที่สุด      3\n",
              "Name: TYPE, dtype: int64"
            ]
          },
          "metadata": {},
          "execution_count": 25
        }
      ]
    },
    {
      "cell_type": "code",
      "source": [
        "TYPE = [161,32,4,3]\n",
        "index = ['การโพสต์ข้อความ/รูปภาพ',  ' เกมส์ที่เน้นการได้คะแนนสูงสุด',  ' การส่งของขวัญ', ' เกมส์ที่เน้นการมีเพื่อนมากที่สุด' ]\n",
        "df = pd.DataFrame({'TYPE': TYPE}, index=index)\n",
        "ax = df.plot.bar(rot=0)"
      ],
      "metadata": {
        "colab": {
          "base_uri": "https://localhost:8080/",
          "height": 441
        },
        "id": "S167T56V_uOA",
        "outputId": "e405a102-6364-4830-ac1c-a592bfb35a33"
      },
      "id": "S167T56V_uOA",
      "execution_count": 191,
      "outputs": [
        {
          "output_type": "display_data",
          "data": {
            "text/plain": [
              "<Figure size 640x480 with 1 Axes>"
            ],
            "image/png": "[encoded data removed]"
          },
          "metadata": {}
        }
      ]
    },
    {
      "cell_type": "markdown",
      "id": "4da73332",
      "metadata": {
        "id": "4da73332"
      },
      "source": [
        "จากข้อมูลที่เติมค่าสูญหายเรียบร้อยแล้ว ให้สร้างตารางสรุปค่า Factor และ Objective ทั้งหมด"
      ]
    },
    {
      "cell_type": "code",
      "source": [
        "data.TYPE.value_counts()"
      ],
      "metadata": {
        "colab": {
          "base_uri": "https://localhost:8080/"
        },
        "id": "uqyRqf6Xni53",
        "outputId": "99316a28-6b26-41c1-f694-b6ac3884d368"
      },
      "id": "uqyRqf6Xni53",
      "execution_count": 55,
      "outputs": [
        {
          "output_type": "execute_result",
          "data": {
            "text/plain": [
              "การโพสต์ข้อความ/รูปภาพ              161\n",
              "เกมส์ที่เน้นการได้คะแนนสูงสุด        32\n",
              "การส่งของขวัญ                         4\n",
              "เกมส์ที่เน้นการมีเพื่อนมากที่สุด      3\n",
              "Name: TYPE, dtype: int64"
            ]
          },
          "metadata": {},
          "execution_count": 55
        }
      ]
    },
    {
      "cell_type": "code",
      "source": [
        "data.F1.value_counts()"
      ],
      "metadata": {
        "colab": {
          "base_uri": "https://localhost:8080/"
        },
        "id": "V6qPb1ROnraP",
        "outputId": "bae1ddc3-c865-4274-8f4a-53548732b91f"
      },
      "id": "V6qPb1ROnraP",
      "execution_count": 56,
      "outputs": [
        {
          "output_type": "execute_result",
          "data": {
            "text/plain": [
              "5    173\n",
              "4     27\n",
              "Name: F1, dtype: int64"
            ]
          },
          "metadata": {},
          "execution_count": 56
        }
      ]
    },
    {
      "cell_type": "code",
      "source": [
        "data.F2.value_counts()"
      ],
      "metadata": {
        "colab": {
          "base_uri": "https://localhost:8080/"
        },
        "id": "Z03pKM6Dojks",
        "outputId": "4487e5bd-f8e3-47f7-c0de-833b54585afd"
      },
      "id": "Z03pKM6Dojks",
      "execution_count": 59,
      "outputs": [
        {
          "output_type": "execute_result",
          "data": {
            "text/plain": [
              "3    85\n",
              "4    84\n",
              "5    31\n",
              "Name: F2, dtype: int64"
            ]
          },
          "metadata": {},
          "execution_count": 59
        }
      ]
    },
    {
      "cell_type": "code",
      "execution_count": 60,
      "id": "166a0826",
      "metadata": {
        "id": "166a0826",
        "colab": {
          "base_uri": "https://localhost:8080/"
        },
        "outputId": "1c3c623f-d191-415b-b4de-292b99caeaa7"
      },
      "outputs": [
        {
          "output_type": "execute_result",
          "data": {
            "text/plain": [
              "4    92\n",
              "3    72\n",
              "5    26\n",
              "1     5\n",
              "2     5\n",
              "Name: F3, dtype: int64"
            ]
          },
          "metadata": {},
          "execution_count": 60
        }
      ],
      "source": [
        "data.F3.value_counts()"
      ]
    },
    {
      "cell_type": "code",
      "source": [
        "data.F4.value_counts()\n"
      ],
      "metadata": {
        "colab": {
          "base_uri": "https://localhost:8080/"
        },
        "id": "5PjmvpmynBSb",
        "outputId": "2784d7c0-e25f-40de-db39-917697de0a7a"
      },
      "id": "5PjmvpmynBSb",
      "execution_count": 61,
      "outputs": [
        {
          "output_type": "execute_result",
          "data": {
            "text/plain": [
              "3    81\n",
              "4    72\n",
              "5    19\n",
              "1    15\n",
              "2    13\n",
              "Name: F4, dtype: int64"
            ]
          },
          "metadata": {},
          "execution_count": 61
        }
      ]
    },
    {
      "cell_type": "code",
      "source": [
        "data.F5.value_counts()"
      ],
      "metadata": {
        "colab": {
          "base_uri": "https://localhost:8080/"
        },
        "id": "qExjItUWnGy-",
        "outputId": "8ce598c6-efdb-47fb-fbe5-130281233e77"
      },
      "id": "qExjItUWnGy-",
      "execution_count": 62,
      "outputs": [
        {
          "output_type": "execute_result",
          "data": {
            "text/plain": [
              "5    176\n",
              "4     24\n",
              "Name: F5, dtype: int64"
            ]
          },
          "metadata": {},
          "execution_count": 62
        }
      ]
    },
    {
      "cell_type": "code",
      "source": [
        "data.O1.value_counts()"
      ],
      "metadata": {
        "colab": {
          "base_uri": "https://localhost:8080/"
        },
        "id": "7fd92jTrnKxs",
        "outputId": "b3121d1c-b60d-4ee4-bb51-c8d226bf640f"
      },
      "id": "7fd92jTrnKxs",
      "execution_count": 64,
      "outputs": [
        {
          "output_type": "execute_result",
          "data": {
            "text/plain": [
              "5    186\n",
              "4     14\n",
              "Name: O1, dtype: int64"
            ]
          },
          "metadata": {},
          "execution_count": 64
        }
      ]
    },
    {
      "cell_type": "code",
      "source": [
        "data.O2.value_counts()"
      ],
      "metadata": {
        "colab": {
          "base_uri": "https://localhost:8080/"
        },
        "id": "CqsHTieboxWW",
        "outputId": "7207322d-574c-4e46-81e6-02245c066cf3"
      },
      "id": "CqsHTieboxWW",
      "execution_count": 65,
      "outputs": [
        {
          "output_type": "execute_result",
          "data": {
            "text/plain": [
              "5    148\n",
              "4     41\n",
              "3     11\n",
              "Name: O2, dtype: int64"
            ]
          },
          "metadata": {},
          "execution_count": 65
        }
      ]
    },
    {
      "cell_type": "code",
      "source": [
        "data.O3.value_counts()"
      ],
      "metadata": {
        "colab": {
          "base_uri": "https://localhost:8080/"
        },
        "id": "EdygtJ4Bo0qV",
        "outputId": "a473d7d2-5cf7-4f53-e6b2-bb864b1f2086"
      },
      "id": "EdygtJ4Bo0qV",
      "execution_count": 66,
      "outputs": [
        {
          "output_type": "execute_result",
          "data": {
            "text/plain": [
              "3    68\n",
              "5    64\n",
              "4    46\n",
              "2    13\n",
              "1     9\n",
              "Name: O3, dtype: int64"
            ]
          },
          "metadata": {},
          "execution_count": 66
        }
      ]
    },
    {
      "cell_type": "markdown",
      "id": "63724c94",
      "metadata": {
        "id": "63724c94"
      },
      "source": [
        "จากข้อมูลที่เติมค่าสูญหายเรียบร้อยแล้ว ให้สร้างตารางสรุปค่า Factor และ Objective ทั้งหมด โดยแบ่งการพิจารณาตามเพศ"
      ]
    },
    {
      "cell_type": "code",
      "execution_count": 67,
      "id": "a78fd31b",
      "metadata": {
        "id": "a78fd31b",
        "colab": {
          "base_uri": "https://localhost:8080/",
          "height": 641
        },
        "outputId": "aaa6e52d-dd06-43b1-dc0e-7c08ff388a55"
      },
      "outputs": [
        {
          "output_type": "execute_result",
          "data": {
            "text/plain": [
              "      No GENDER  AGE               EDUCATION                 CAREER   SALARY  \\\n",
              "1      2   หญิง   22               ปริญญาตรี  ข้าราชการ/รัฐวิสาหกิจ  16000.0   \n",
              "3      4   หญิง   21  มัธยมปลายหรือเทียบเท่า  ข้าราชการ/รัฐวิสาหกิจ  14000.0   \n",
              "8      9   หญิง   23               ปริญญาตรี     พนักงานบริษัทเอกชน  22000.0   \n",
              "10    11   หญิง   22               ปริญญาตรี  ข้าราชการ/รัฐวิสาหกิจ  16000.0   \n",
              "11    12   หญิง   22               ปริญญาตรี  ข้าราชการ/รัฐวิสาหกิจ  16000.0   \n",
              "..   ...    ...  ...                     ...                    ...      ...   \n",
              "189  190   หญิง   19  มัธยมปลายหรือเทียบเท่า      นักเรียน/นักศึกษา  12000.0   \n",
              "191  192   หญิง   23               ปริญญาตรี     พนักงานบริษัทเอกชน  17000.0   \n",
              "192  193   หญิง   25               ปริญญาตรี     พนักงานบริษัทเอกชน  20000.0   \n",
              "196  197   หญิง   24               ปริญญาตรี     พนักงานบริษัทเอกชน  18000.0   \n",
              "199  200   หญิง   25               ปริญญาตรี     พนักงานบริษัทเอกชน  20000.0   \n",
              "\n",
              "     INTERNET_PAY       PLACE               TIME               HOUR  ...  \\\n",
              "1             500  บ้าน/หอพัก             ทุกวัน  มากกว่า 4 ชม./วัน  ...   \n",
              "3             500  บ้าน/หอพัก             ทุกวัน  มากกว่า 4 ชม./วัน  ...   \n",
              "8             650  บ้าน/หอพัก             ทุกวัน  มากกว่า 4 ชม./วัน  ...   \n",
              "10            500  บ้าน/หอพัก             ทุกวัน  มากกว่า 4 ชม./วัน  ...   \n",
              "11            590  บ้าน/หอพัก  4 - 6 วัน/สัปดาห์  มากกว่า 4 ชม./วัน  ...   \n",
              "..            ...         ...                ...                ...  ...   \n",
              "189           650  บ้าน/หอพัก             ทุกวัน  มากกว่า 4 ชม./วัน  ...   \n",
              "191           500  บ้าน/หอพัก             ทุกวัน  มากกว่า 4 ชม./วัน  ...   \n",
              "192           590  บ้าน/หอพัก  4 - 6 วัน/สัปดาห์  มากกว่า 4 ชม./วัน  ...   \n",
              "196           500  บ้าน/หอพัก  4 - 6 วัน/สัปดาห์     3 - 4 ชม. /วัน  ...   \n",
              "199           590  บ้าน/หอพัก             ทุกวัน     1 - 2 ชม. /วัน  ...   \n",
              "\n",
              "               (O2)             (O3) F1 F2 F3 F4 F5 O1 O2 O3  \n",
              "1    สำคัญมากที่สุด        สำคัญน้อย  5  4  3  3  5  5  5  2  \n",
              "3    สำคัญมากที่สุด          ปานกลาง  5  3  5  4  5  5  5  3  \n",
              "8    สำคัญมากที่สุด        สำคัญน้อย  5  3  3  3  5  5  5  2  \n",
              "10   สำคัญมากที่สุด          ปานกลาง  5  3  4  4  5  5  5  3  \n",
              "11   สำคัญมากที่สุด          ปานกลาง  5  4  3  3  5  5  5  3  \n",
              "..              ...              ... .. .. .. .. .. .. .. ..  \n",
              "189  สำคัญมากที่สุด          ปานกลาง  5  3  5  4  5  5  5  3  \n",
              "191  สำคัญมากที่สุด        สำคัญน้อย  5  3  3  3  5  5  5  2  \n",
              "192  สำคัญมากที่สุด          ปานกลาง  5  4  3  3  5  5  5  3  \n",
              "196  สำคัญมากที่สุด         สำคัญมาก  5  4  4  1  5  5  5  4  \n",
              "199         ปานกลาง  สำคัญน้อยที่สุด  5  3  3  3  5  5  3  1  \n",
              "\n",
              "[84 rows x 29 columns]"
            ],
            "text/html": [
              "\n",
              "\n",
              "  <div id=\"df-11d1f6cf-1480-4e0a-8586-ea95b53dcc8d\">\n",
              "    <div class=\"colab-df-container\">\n",
              "      <div>\n",
              "<style scoped>\n",
              "    .dataframe tbody tr th:only-of-type {\n",
              "        vertical-align: middle;\n",
              "    }\n",
              "\n",
              "    .dataframe tbody tr th {\n",
              "        vertical-align: top;\n",
              "    }\n",
              "\n",
              "    .dataframe thead th {\n",
              "        text-align: right;\n",
              "    }\n",
              "</style>\n",
              "<table border=\"1\" class=\"dataframe\">\n",
              "  <thead>\n",
              "    <tr style=\"text-align: right;\">\n",
              "      <th></th>\n",
              "      <th>No</th>\n",
              "      <th>GENDER</th>\n",
              "      <th>AGE</th>\n",
              "      <th>EDUCATION</th>\n",
              "      <th>CAREER</th>\n",
              "      <th>SALARY</th>\n",
              "      <th>INTERNET_PAY</th>\n",
              "      <th>PLACE</th>\n",
              "      <th>TIME</th>\n",
              "      <th>HOUR</th>\n",
              "      <th>...</th>\n",
              "      <th>(O2)</th>\n",
              "      <th>(O3)</th>\n",
              "      <th>F1</th>\n",
              "      <th>F2</th>\n",
              "      <th>F3</th>\n",
              "      <th>F4</th>\n",
              "      <th>F5</th>\n",
              "      <th>O1</th>\n",
              "      <th>O2</th>\n",
              "      <th>O3</th>\n",
              "    </tr>\n",
              "  </thead>\n",
              "  <tbody>\n",
              "    <tr>\n",
              "      <th>1</th>\n",
              "      <td>2</td>\n",
              "      <td>หญิง</td>\n",
              "      <td>22</td>\n",
              "      <td>ปริญญาตรี</td>\n",
              "      <td>ข้าราชการ/รัฐวิสาหกิจ</td>\n",
              "      <td>16000.0</td>\n",
              "      <td>500</td>\n",
              "      <td>บ้าน/หอพัก</td>\n",
              "      <td>ทุกวัน</td>\n",
              "      <td>มากกว่า 4 ชม./วัน</td>\n",
              "      <td>...</td>\n",
              "      <td>สำคัญมากที่สุด</td>\n",
              "      <td>สำคัญน้อย</td>\n",
              "      <td>5</td>\n",
              "      <td>4</td>\n",
              "      <td>3</td>\n",
              "      <td>3</td>\n",
              "      <td>5</td>\n",
              "      <td>5</td>\n",
              "      <td>5</td>\n",
              "      <td>2</td>\n",
              "    </tr>\n",
              "    <tr>\n",
              "      <th>3</th>\n",
              "      <td>4</td>\n",
              "      <td>หญิง</td>\n",
              "      <td>21</td>\n",
              "      <td>มัธยมปลายหรือเทียบเท่า</td>\n",
              "      <td>ข้าราชการ/รัฐวิสาหกิจ</td>\n",
              "      <td>14000.0</td>\n",
              "      <td>500</td>\n",
              "      <td>บ้าน/หอพัก</td>\n",
              "      <td>ทุกวัน</td>\n",
              "      <td>มากกว่า 4 ชม./วัน</td>\n",
              "      <td>...</td>\n",
              "      <td>สำคัญมากที่สุด</td>\n",
              "      <td>ปานกลาง</td>\n",
              "      <td>5</td>\n",
              "      <td>3</td>\n",
              "      <td>5</td>\n",
              "      <td>4</td>\n",
              "      <td>5</td>\n",
              "      <td>5</td>\n",
              "      <td>5</td>\n",
              "      <td>3</td>\n",
              "    </tr>\n",
              "    <tr>\n",
              "      <th>8</th>\n",
              "      <td>9</td>\n",
              "      <td>หญิง</td>\n",
              "      <td>23</td>\n",
              "      <td>ปริญญาตรี</td>\n",
              "      <td>พนักงานบริษัทเอกชน</td>\n",
              "      <td>22000.0</td>\n",
              "      <td>650</td>\n",
              "      <td>บ้าน/หอพัก</td>\n",
              "      <td>ทุกวัน</td>\n",
              "      <td>มากกว่า 4 ชม./วัน</td>\n",
              "      <td>...</td>\n",
              "      <td>สำคัญมากที่สุด</td>\n",
              "      <td>สำคัญน้อย</td>\n",
              "      <td>5</td>\n",
              "      <td>3</td>\n",
              "      <td>3</td>\n",
              "      <td>3</td>\n",
              "      <td>5</td>\n",
              "      <td>5</td>\n",
              "      <td>5</td>\n",
              "      <td>2</td>\n",
              "    </tr>\n",
              "    <tr>\n",
              "      <th>10</th>\n",
              "      <td>11</td>\n",
              "      <td>หญิง</td>\n",
              "      <td>22</td>\n",
              "      <td>ปริญญาตรี</td>\n",
              "      <td>ข้าราชการ/รัฐวิสาหกิจ</td>\n",
              "      <td>16000.0</td>\n",
              "      <td>500</td>\n",
              "      <td>บ้าน/หอพัก</td>\n",
              "      <td>ทุกวัน</td>\n",
              "      <td>มากกว่า 4 ชม./วัน</td>\n",
              "      <td>...</td>\n",
              "      <td>สำคัญมากที่สุด</td>\n",
              "      <td>ปานกลาง</td>\n",
              "      <td>5</td>\n",
              "      <td>3</td>\n",
              "      <td>4</td>\n",
              "      <td>4</td>\n",
              "      <td>5</td>\n",
              "      <td>5</td>\n",
              "      <td>5</td>\n",
              "      <td>3</td>\n",
              "    </tr>\n",
              "    <tr>\n",
              "      <th>11</th>\n",
              "      <td>12</td>\n",
              "      <td>หญิง</td>\n",
              "      <td>22</td>\n",
              "      <td>ปริญญาตรี</td>\n",
              "      <td>ข้าราชการ/รัฐวิสาหกิจ</td>\n",
              "      <td>16000.0</td>\n",
              "      <td>590</td>\n",
              "      <td>บ้าน/หอพัก</td>\n",
              "      <td>4 - 6 วัน/สัปดาห์</td>\n",
              "      <td>มากกว่า 4 ชม./วัน</td>\n",
              "      <td>...</td>\n",
              "      <td>สำคัญมากที่สุด</td>\n",
              "      <td>ปานกลาง</td>\n",
              "      <td>5</td>\n",
              "      <td>4</td>\n",
              "      <td>3</td>\n",
              "      <td>3</td>\n",
              "      <td>5</td>\n",
              "      <td>5</td>\n",
              "      <td>5</td>\n",
              "      <td>3</td>\n",
              "    </tr>\n",
              "    <tr>\n",
              "      <th>...</th>\n",
              "      <td>...</td>\n",
              "      <td>...</td>\n",
              "      <td>...</td>\n",
              "      <td>...</td>\n",
              "      <td>...</td>\n",
              "      <td>...</td>\n",
              "      <td>...</td>\n",
              "      <td>...</td>\n",
              "      <td>...</td>\n",
              "      <td>...</td>\n",
              "      <td>...</td>\n",
              "      <td>...</td>\n",
              "      <td>...</td>\n",
              "      <td>...</td>\n",
              "      <td>...</td>\n",
              "      <td>...</td>\n",
              "      <td>...</td>\n",
              "      <td>...</td>\n",
              "      <td>...</td>\n",
              "      <td>...</td>\n",
              "      <td>...</td>\n",
              "    </tr>\n",
              "    <tr>\n",
              "      <th>189</th>\n",
              "      <td>190</td>\n",
              "      <td>หญิง</td>\n",
              "      <td>19</td>\n",
              "      <td>มัธยมปลายหรือเทียบเท่า</td>\n",
              "      <td>นักเรียน/นักศึกษา</td>\n",
              "      <td>12000.0</td>\n",
              "      <td>650</td>\n",
              "      <td>บ้าน/หอพัก</td>\n",
              "      <td>ทุกวัน</td>\n",
              "      <td>มากกว่า 4 ชม./วัน</td>\n",
              "      <td>...</td>\n",
              "      <td>สำคัญมากที่สุด</td>\n",
              "      <td>ปานกลาง</td>\n",
              "      <td>5</td>\n",
              "      <td>3</td>\n",
              "      <td>5</td>\n",
              "      <td>4</td>\n",
              "      <td>5</td>\n",
              "      <td>5</td>\n",
              "      <td>5</td>\n",
              "      <td>3</td>\n",
              "    </tr>\n",
              "    <tr>\n",
              "      <th>191</th>\n",
              "      <td>192</td>\n",
              "      <td>หญิง</td>\n",
              "      <td>23</td>\n",
              "      <td>ปริญญาตรี</td>\n",
              "      <td>พนักงานบริษัทเอกชน</td>\n",
              "      <td>17000.0</td>\n",
              "      <td>500</td>\n",
              "      <td>บ้าน/หอพัก</td>\n",
              "      <td>ทุกวัน</td>\n",
              "      <td>มากกว่า 4 ชม./วัน</td>\n",
              "      <td>...</td>\n",
              "      <td>สำคัญมากที่สุด</td>\n",
              "      <td>สำคัญน้อย</td>\n",
              "      <td>5</td>\n",
              "      <td>3</td>\n",
              "      <td>3</td>\n",
              "      <td>3</td>\n",
              "      <td>5</td>\n",
              "      <td>5</td>\n",
              "      <td>5</td>\n",
              "      <td>2</td>\n",
              "    </tr>\n",
              "    <tr>\n",
              "      <th>192</th>\n",
              "      <td>193</td>\n",
              "      <td>หญิง</td>\n",
              "      <td>25</td>\n",
              "      <td>ปริญญาตรี</td>\n",
              "      <td>พนักงานบริษัทเอกชน</td>\n",
              "      <td>20000.0</td>\n",
              "      <td>590</td>\n",
              "      <td>บ้าน/หอพัก</td>\n",
              "      <td>4 - 6 วัน/สัปดาห์</td>\n",
              "      <td>มากกว่า 4 ชม./วัน</td>\n",
              "      <td>...</td>\n",
              "      <td>สำคัญมากที่สุด</td>\n",
              "      <td>ปานกลาง</td>\n",
              "      <td>5</td>\n",
              "      <td>4</td>\n",
              "      <td>3</td>\n",
              "      <td>3</td>\n",
              "      <td>5</td>\n",
              "      <td>5</td>\n",
              "      <td>5</td>\n",
              "      <td>3</td>\n",
              "    </tr>\n",
              "    <tr>\n",
              "      <th>196</th>\n",
              "      <td>197</td>\n",
              "      <td>หญิง</td>\n",
              "      <td>24</td>\n",
              "      <td>ปริญญาตรี</td>\n",
              "      <td>พนักงานบริษัทเอกชน</td>\n",
              "      <td>18000.0</td>\n",
              "      <td>500</td>\n",
              "      <td>บ้าน/หอพัก</td>\n",
              "      <td>4 - 6 วัน/สัปดาห์</td>\n",
              "      <td>3 - 4 ชม. /วัน</td>\n",
              "      <td>...</td>\n",
              "      <td>สำคัญมากที่สุด</td>\n",
              "      <td>สำคัญมาก</td>\n",
              "      <td>5</td>\n",
              "      <td>4</td>\n",
              "      <td>4</td>\n",
              "      <td>1</td>\n",
              "      <td>5</td>\n",
              "      <td>5</td>\n",
              "      <td>5</td>\n",
              "      <td>4</td>\n",
              "    </tr>\n",
              "    <tr>\n",
              "      <th>199</th>\n",
              "      <td>200</td>\n",
              "      <td>หญิง</td>\n",
              "      <td>25</td>\n",
              "      <td>ปริญญาตรี</td>\n",
              "      <td>พนักงานบริษัทเอกชน</td>\n",
              "      <td>20000.0</td>\n",
              "      <td>590</td>\n",
              "      <td>บ้าน/หอพัก</td>\n",
              "      <td>ทุกวัน</td>\n",
              "      <td>1 - 2 ชม. /วัน</td>\n",
              "      <td>...</td>\n",
              "      <td>ปานกลาง</td>\n",
              "      <td>สำคัญน้อยที่สุด</td>\n",
              "      <td>5</td>\n",
              "      <td>3</td>\n",
              "      <td>3</td>\n",
              "      <td>3</td>\n",
              "      <td>5</td>\n",
              "      <td>5</td>\n",
              "      <td>3</td>\n",
              "      <td>1</td>\n",
              "    </tr>\n",
              "  </tbody>\n",
              "</table>\n",
              "<p>84 rows × 29 columns</p>\n",
              "</div>\n",
              "      <button class=\"colab-df-convert\" onclick=\"convertToInteractive('df-11d1f6cf-1480-4e0a-8586-ea95b53dcc8d')\"\n",
              "              title=\"Convert this dataframe to an interactive table.\"\n",
              "              style=\"display:none;\">\n",
              "\n",
              "  <svg xmlns=\"http://www.w3.org/2000/svg\" height=\"24px\"viewBox=\"0 0 24 24\"\n",
              "       width=\"24px\">\n",
              "    <path d=\"M0 0h24v24H0V0z\" fill=\"none\"/>\n",
              "    <path d=\"M18.56 5.44l.94 2.06.94-2.06 2.06-.94-2.06-.94-.94-2.06-.94 2.06-2.06.94zm-11 1L8.5 8.5l.94-2.06 2.06-.94-2.06-.94L8.5 2.5l-.94 2.06-2.06.94zm10 10l.94 2.06.94-2.06 2.06-.94-2.06-.94-.94-2.06-.94 2.06-2.06.94z\"/><path d=\"M17.41 7.96l-1.37-1.37c-.4-.4-.92-.59-1.43-.59-.52 0-1.04.2-1.43.59L10.3 9.45l-7.72 7.72c-.78.78-.78 2.05 0 2.83L4 21.41c.39.39.9.59 1.41.59.51 0 1.02-.2 1.41-.59l7.78-7.78 2.81-2.81c.8-.78.8-2.07 0-2.86zM5.41 20L4 18.59l7.72-7.72 1.47 1.35L5.41 20z\"/>\n",
              "  </svg>\n",
              "      </button>\n",
              "\n",
              "\n",
              "\n",
              "    <div id=\"df-f2d5162c-8202-420f-8e5d-f1362c28936f\">\n",
              "      <button class=\"colab-df-quickchart\" onclick=\"quickchart('df-f2d5162c-8202-420f-8e5d-f1362c28936f')\"\n",
              "              title=\"Suggest charts.\"\n",
              "              style=\"display:none;\">\n",
              "\n",
              "<svg xmlns=\"http://www.w3.org/2000/svg\" height=\"24px\"viewBox=\"0 0 24 24\"\n",
              "     width=\"24px\">\n",
              "    <g>\n",
              "        <path d=\"M19 3H5c-1.1 0-2 .9-2 2v14c0 1.1.9 2 2 2h14c1.1 0 2-.9 2-2V5c0-1.1-.9-2-2-2zM9 17H7v-7h2v7zm4 0h-2V7h2v10zm4 0h-2v-4h2v4z\"/>\n",
              "    </g>\n",
              "</svg>\n",
              "      </button>\n",
              "    </div>\n",
              "\n",
              "<style>\n",
              "  .colab-df-quickchart {\n",
              "    background-color: #E8F0FE;\n",
              "    border: none;\n",
              "    border-radius: 50%;\n",
              "    cursor: pointer;\n",
              "    display: none;\n",
              "    fill: #1967D2;\n",
              "    height: 32px;\n",
              "    padding: 0 0 0 0;\n",
              "    width: 32px;\n",
              "  }\n",
              "\n",
              "  .colab-df-quickchart:hover {\n",
              "    background-color: #E2EBFA;\n",
              "    box-shadow: 0px 1px 2px rgba(60, 64, 67, 0.3), 0px 1px 3px 1px rgba(60, 64, 67, 0.15);\n",
              "    fill: #174EA6;\n",
              "  }\n",
              "\n",
              "  [theme=dark] .colab-df-quickchart {\n",
              "    background-color: #3B4455;\n",
              "    fill: #D2E3FC;\n",
              "  }\n",
              "\n",
              "  [theme=dark] .colab-df-quickchart:hover {\n",
              "    background-color: #434B5C;\n",
              "    box-shadow: 0px 1px 3px 1px rgba(0, 0, 0, 0.15);\n",
              "    filter: drop-shadow(0px 1px 2px rgba(0, 0, 0, 0.3));\n",
              "    fill: #FFFFFF;\n",
              "  }\n",
              "</style>\n",
              "\n",
              "    <script>\n",
              "      async function quickchart(key) {\n",
              "        const containerElement = document.querySelector('#' + key);\n",
              "        const charts = await google.colab.kernel.invokeFunction(\n",
              "            'suggestCharts', [key], {});\n",
              "      }\n",
              "    </script>\n",
              "\n",
              "      <script>\n",
              "\n",
              "function displayQuickchartButton(domScope) {\n",
              "  let quickchartButtonEl =\n",
              "    domScope.querySelector('#df-f2d5162c-8202-420f-8e5d-f1362c28936f button.colab-df-quickchart');\n",
              "  quickchartButtonEl.style.display =\n",
              "    google.colab.kernel.accessAllowed ? 'block' : 'none';\n",
              "}\n",
              "\n",
              "        displayQuickchartButton(document);\n",
              "      </script>\n",
              "      <style>\n",
              "    .colab-df-container {\n",
              "      display:flex;\n",
              "      flex-wrap:wrap;\n",
              "      gap: 12px;\n",
              "    }\n",
              "\n",
              "    .colab-df-convert {\n",
              "      background-color: #E8F0FE;\n",
              "      border: none;\n",
              "      border-radius: 50%;\n",
              "      cursor: pointer;\n",
              "      display: none;\n",
              "      fill: #1967D2;\n",
              "      height: 32px;\n",
              "      padding: 0 0 0 0;\n",
              "      width: 32px;\n",
              "    }\n",
              "\n",
              "    .colab-df-convert:hover {\n",
              "      background-color: #E2EBFA;\n",
              "      box-shadow: 0px 1px 2px rgba(60, 64, 67, 0.3), 0px 1px 3px 1px rgba(60, 64, 67, 0.15);\n",
              "      fill: #174EA6;\n",
              "    }\n",
              "\n",
              "    [theme=dark] .colab-df-convert {\n",
              "      background-color: #3B4455;\n",
              "      fill: #D2E3FC;\n",
              "    }\n",
              "\n",
              "    [theme=dark] .colab-df-convert:hover {\n",
              "      background-color: #434B5C;\n",
              "      box-shadow: 0px 1px 3px 1px rgba(0, 0, 0, 0.15);\n",
              "      filter: drop-shadow(0px 1px 2px rgba(0, 0, 0, 0.3));\n",
              "      fill: #FFFFFF;\n",
              "    }\n",
              "  </style>\n",
              "\n",
              "      <script>\n",
              "        const buttonEl =\n",
              "          document.querySelector('#df-11d1f6cf-1480-4e0a-8586-ea95b53dcc8d button.colab-df-convert');\n",
              "        buttonEl.style.display =\n",
              "          google.colab.kernel.accessAllowed ? 'block' : 'none';\n",
              "\n",
              "        async function convertToInteractive(key) {\n",
              "          const element = document.querySelector('#df-11d1f6cf-1480-4e0a-8586-ea95b53dcc8d');\n",
              "          const dataTable =\n",
              "            await google.colab.kernel.invokeFunction('convertToInteractive',\n",
              "                                                     [key], {});\n",
              "          if (!dataTable) return;\n",
              "\n",
              "          const docLinkHtml = 'Like what you see? Visit the ' +\n",
              "            '<a target=\"_blank\" href=https://colab.research.google.com/notebooks/data_table.ipynb>data table notebook</a>'\n",
              "            + ' to learn more about interactive tables.';\n",
              "          element.innerHTML = '';\n",
              "          dataTable['output_type'] = 'display_data';\n",
              "          await google.colab.output.renderOutput(dataTable, element);\n",
              "          const docLink = document.createElement('div');\n",
              "          docLink.innerHTML = docLinkHtml;\n",
              "          element.appendChild(docLink);\n",
              "        }\n",
              "      </script>\n",
              "    </div>\n",
              "  </div>\n"
            ]
          },
          "metadata": {},
          "execution_count": 67
        }
      ],
      "source": [
        "data[(data['GENDER']=='หญิง') &(data['F1'])]"
      ]
    },
    {
      "cell_type": "code",
      "source": [
        "data[(data['GENDER']=='ชาย') &(data['F1'])]"
      ],
      "metadata": {
        "colab": {
          "base_uri": "https://localhost:8080/",
          "height": 641
        },
        "id": "mxaYfKLxqpMM",
        "outputId": "16f51527-26c4-4192-c88d-11d10ef87028"
      },
      "id": "mxaYfKLxqpMM",
      "execution_count": 68,
      "outputs": [
        {
          "output_type": "execute_result",
          "data": {
            "text/plain": [
              "      No GENDER  AGE               EDUCATION              CAREER   SALARY  \\\n",
              "4      5    ชาย   18  มัธยมปลายหรือเทียบเท่า   นักเรียน/นักศึกษา  10000.0   \n",
              "5      6    ชาย   24               ปริญญาตรี  พนักงานบริษัทเอกชน  17000.0   \n",
              "6      7    ชาย   19  มัธยมปลายหรือเทียบเท่า   นักเรียน/นักศึกษา  12000.0   \n",
              "7      8    ชาย   20  มัธยมปลายหรือเทียบเท่า   นักเรียน/นักศึกษา  12500.0   \n",
              "9     10    ชาย   26               ปริญญาตรี  พนักงานบริษัทเอกชน  22000.0   \n",
              "..   ...    ...  ...                     ...                 ...      ...   \n",
              "190  191    ชาย   19  มัธยมปลายหรือเทียบเท่า   นักเรียน/นักศึกษา  12300.0   \n",
              "193  194    ชาย   24               ปริญญาตรี  พนักงานบริษัทเอกชน  18000.0   \n",
              "195  196    ชาย   25               ปริญญาตรี  พนักงานบริษัทเอกชน  20000.0   \n",
              "197  198    ชาย   17  มัธยมปลายหรือเทียบเท่า   นักเรียน/นักศึกษา  10000.0   \n",
              "198  199    ชาย   25               ปริญญาตรี  พนักงานบริษัทเอกชน  20000.0   \n",
              "\n",
              "     INTERNET_PAY                         PLACE               TIME  \\\n",
              "4             650                    บ้าน/หอพัก             ทุกวัน   \n",
              "5             590                    บ้าน/หอพัก  4 - 6 วัน/สัปดาห์   \n",
              "6             500             ที่ทำงาน/ที่เรียน  4 - 6 วัน/สัปดาห์   \n",
              "7             590  สถานที่ให้บริการอินเตอร์เน็ต             ทุกวัน   \n",
              "9             590             ที่ทำงาน/ที่เรียน             ทุกวัน   \n",
              "..            ...                           ...                ...   \n",
              "190           590                    บ้าน/หอพัก             ทุกวัน   \n",
              "193           650                    บ้าน/หอพัก  4 - 6 วัน/สัปดาห์   \n",
              "195           590                    บ้าน/หอพัก  2 - 3 วัน/สัปดาห์   \n",
              "197           590                    บ้าน/หอพัก             ทุกวัน   \n",
              "198           650                    บ้าน/หอพัก             ทุกวัน   \n",
              "\n",
              "                  HOUR  ...            (O2)            (O3) F1 F2 F3 F4 F5 O1  \\\n",
              "4    มากกว่า 4 ชม./วัน  ...  สำคัญมากที่สุด         ปานกลาง  5  3  4  4  5  5   \n",
              "5       3 - 4 ชม. /วัน  ...  สำคัญมากที่สุด        สำคัญมาก  5  4  4  1  5  5   \n",
              "6    มากกว่า 4 ชม./วัน  ...  สำคัญมากที่สุด  สำคัญมากที่สุด  5  3  4  2  5  5   \n",
              "7    มากกว่า 4 ชม./วัน  ...  สำคัญมากที่สุด        สำคัญมาก  5  4  4  4  5  5   \n",
              "9    มากกว่า 4 ชม./วัน  ...  สำคัญมากที่สุด  สำคัญมากที่สุด  5  4  4  3  5  5   \n",
              "..                 ...  ...             ...             ... .. .. .. .. .. ..   \n",
              "190  มากกว่า 4 ชม./วัน  ...  สำคัญมากที่สุด  สำคัญมากที่สุด  5  3  3  4  5  5   \n",
              "193     3 - 4 ชม. /วัน  ...  สำคัญมากที่สุด        สำคัญมาก  5  4  4  1  5  5   \n",
              "195     3 - 4 ชม. /วัน  ...        สำคัญมาก        สำคัญมาก  5  4  4  3  5  5   \n",
              "197  มากกว่า 4 ชม./วัน  ...  สำคัญมากที่สุด        สำคัญมาก  5  3  4  4  5  5   \n",
              "198  มากกว่า 4 ชม./วัน  ...  สำคัญมากที่สุด  สำคัญมากที่สุด  5  3  3  4  5  5   \n",
              "\n",
              "    O2 O3  \n",
              "4    5  3  \n",
              "5    5  4  \n",
              "6    5  5  \n",
              "7    5  4  \n",
              "9    5  5  \n",
              "..  .. ..  \n",
              "190  5  5  \n",
              "193  5  4  \n",
              "195  4  4  \n",
              "197  5  4  \n",
              "198  5  5  \n",
              "\n",
              "[89 rows x 29 columns]"
            ],
            "text/html": [
              "\n",
              "\n",
              "  <div id=\"df-3c5c2162-596f-4593-a556-3cc3b6bdd22a\">\n",
              "    <div class=\"colab-df-container\">\n",
              "      <div>\n",
              "<style scoped>\n",
              "    .dataframe tbody tr th:only-of-type {\n",
              "        vertical-align: middle;\n",
              "    }\n",
              "\n",
              "    .dataframe tbody tr th {\n",
              "        vertical-align: top;\n",
              "    }\n",
              "\n",
              "    .dataframe thead th {\n",
              "        text-align: right;\n",
              "    }\n",
              "</style>\n",
              "<table border=\"1\" class=\"dataframe\">\n",
              "  <thead>\n",
              "    <tr style=\"text-align: right;\">\n",
              "      <th></th>\n",
              "      <th>No</th>\n",
              "      <th>GENDER</th>\n",
              "      <th>AGE</th>\n",
              "      <th>EDUCATION</th>\n",
              "      <th>CAREER</th>\n",
              "      <th>SALARY</th>\n",
              "      <th>INTERNET_PAY</th>\n",
              "      <th>PLACE</th>\n",
              "      <th>TIME</th>\n",
              "      <th>HOUR</th>\n",
              "      <th>...</th>\n",
              "      <th>(O2)</th>\n",
              "      <th>(O3)</th>\n",
              "      <th>F1</th>\n",
              "      <th>F2</th>\n",
              "      <th>F3</th>\n",
              "      <th>F4</th>\n",
              "      <th>F5</th>\n",
              "      <th>O1</th>\n",
              "      <th>O2</th>\n",
              "      <th>O3</th>\n",
              "    </tr>\n",
              "  </thead>\n",
              "  <tbody>\n",
              "    <tr>\n",
              "      <th>4</th>\n",
              "      <td>5</td>\n",
              "      <td>ชาย</td>\n",
              "      <td>18</td>\n",
              "      <td>มัธยมปลายหรือเทียบเท่า</td>\n",
              "      <td>นักเรียน/นักศึกษา</td>\n",
              "      <td>10000.0</td>\n",
              "      <td>650</td>\n",
              "      <td>บ้าน/หอพัก</td>\n",
              "      <td>ทุกวัน</td>\n",
              "      <td>มากกว่า 4 ชม./วัน</td>\n",
              "      <td>...</td>\n",
              "      <td>สำคัญมากที่สุด</td>\n",
              "      <td>ปานกลาง</td>\n",
              "      <td>5</td>\n",
              "      <td>3</td>\n",
              "      <td>4</td>\n",
              "      <td>4</td>\n",
              "      <td>5</td>\n",
              "      <td>5</td>\n",
              "      <td>5</td>\n",
              "      <td>3</td>\n",
              "    </tr>\n",
              "    <tr>\n",
              "      <th>5</th>\n",
              "      <td>6</td>\n",
              "      <td>ชาย</td>\n",
              "      <td>24</td>\n",
              "      <td>ปริญญาตรี</td>\n",
              "      <td>พนักงานบริษัทเอกชน</td>\n",
              "      <td>17000.0</td>\n",
              "      <td>590</td>\n",
              "      <td>บ้าน/หอพัก</td>\n",
              "      <td>4 - 6 วัน/สัปดาห์</td>\n",
              "      <td>3 - 4 ชม. /วัน</td>\n",
              "      <td>...</td>\n",
              "      <td>สำคัญมากที่สุด</td>\n",
              "      <td>สำคัญมาก</td>\n",
              "      <td>5</td>\n",
              "      <td>4</td>\n",
              "      <td>4</td>\n",
              "      <td>1</td>\n",
              "      <td>5</td>\n",
              "      <td>5</td>\n",
              "      <td>5</td>\n",
              "      <td>4</td>\n",
              "    </tr>\n",
              "    <tr>\n",
              "      <th>6</th>\n",
              "      <td>7</td>\n",
              "      <td>ชาย</td>\n",
              "      <td>19</td>\n",
              "      <td>มัธยมปลายหรือเทียบเท่า</td>\n",
              "      <td>นักเรียน/นักศึกษา</td>\n",
              "      <td>12000.0</td>\n",
              "      <td>500</td>\n",
              "      <td>ที่ทำงาน/ที่เรียน</td>\n",
              "      <td>4 - 6 วัน/สัปดาห์</td>\n",
              "      <td>มากกว่า 4 ชม./วัน</td>\n",
              "      <td>...</td>\n",
              "      <td>สำคัญมากที่สุด</td>\n",
              "      <td>สำคัญมากที่สุด</td>\n",
              "      <td>5</td>\n",
              "      <td>3</td>\n",
              "      <td>4</td>\n",
              "      <td>2</td>\n",
              "      <td>5</td>\n",
              "      <td>5</td>\n",
              "      <td>5</td>\n",
              "      <td>5</td>\n",
              "    </tr>\n",
              "    <tr>\n",
              "      <th>7</th>\n",
              "      <td>8</td>\n",
              "      <td>ชาย</td>\n",
              "      <td>20</td>\n",
              "      <td>มัธยมปลายหรือเทียบเท่า</td>\n",
              "      <td>นักเรียน/นักศึกษา</td>\n",
              "      <td>12500.0</td>\n",
              "      <td>590</td>\n",
              "      <td>สถานที่ให้บริการอินเตอร์เน็ต</td>\n",
              "      <td>ทุกวัน</td>\n",
              "      <td>มากกว่า 4 ชม./วัน</td>\n",
              "      <td>...</td>\n",
              "      <td>สำคัญมากที่สุด</td>\n",
              "      <td>สำคัญมาก</td>\n",
              "      <td>5</td>\n",
              "      <td>4</td>\n",
              "      <td>4</td>\n",
              "      <td>4</td>\n",
              "      <td>5</td>\n",
              "      <td>5</td>\n",
              "      <td>5</td>\n",
              "      <td>4</td>\n",
              "    </tr>\n",
              "    <tr>\n",
              "      <th>9</th>\n",
              "      <td>10</td>\n",
              "      <td>ชาย</td>\n",
              "      <td>26</td>\n",
              "      <td>ปริญญาตรี</td>\n",
              "      <td>พนักงานบริษัทเอกชน</td>\n",
              "      <td>22000.0</td>\n",
              "      <td>590</td>\n",
              "      <td>ที่ทำงาน/ที่เรียน</td>\n",
              "      <td>ทุกวัน</td>\n",
              "      <td>มากกว่า 4 ชม./วัน</td>\n",
              "      <td>...</td>\n",
              "      <td>สำคัญมากที่สุด</td>\n",
              "      <td>สำคัญมากที่สุด</td>\n",
              "      <td>5</td>\n",
              "      <td>4</td>\n",
              "      <td>4</td>\n",
              "      <td>3</td>\n",
              "      <td>5</td>\n",
              "      <td>5</td>\n",
              "      <td>5</td>\n",
              "      <td>5</td>\n",
              "    </tr>\n",
              "    <tr>\n",
              "      <th>...</th>\n",
              "      <td>...</td>\n",
              "      <td>...</td>\n",
              "      <td>...</td>\n",
              "      <td>...</td>\n",
              "      <td>...</td>\n",
              "      <td>...</td>\n",
              "      <td>...</td>\n",
              "      <td>...</td>\n",
              "      <td>...</td>\n",
              "      <td>...</td>\n",
              "      <td>...</td>\n",
              "      <td>...</td>\n",
              "      <td>...</td>\n",
              "      <td>...</td>\n",
              "      <td>...</td>\n",
              "      <td>...</td>\n",
              "      <td>...</td>\n",
              "      <td>...</td>\n",
              "      <td>...</td>\n",
              "      <td>...</td>\n",
              "      <td>...</td>\n",
              "    </tr>\n",
              "    <tr>\n",
              "      <th>190</th>\n",
              "      <td>191</td>\n",
              "      <td>ชาย</td>\n",
              "      <td>19</td>\n",
              "      <td>มัธยมปลายหรือเทียบเท่า</td>\n",
              "      <td>นักเรียน/นักศึกษา</td>\n",
              "      <td>12300.0</td>\n",
              "      <td>590</td>\n",
              "      <td>บ้าน/หอพัก</td>\n",
              "      <td>ทุกวัน</td>\n",
              "      <td>มากกว่า 4 ชม./วัน</td>\n",
              "      <td>...</td>\n",
              "      <td>สำคัญมากที่สุด</td>\n",
              "      <td>สำคัญมากที่สุด</td>\n",
              "      <td>5</td>\n",
              "      <td>3</td>\n",
              "      <td>3</td>\n",
              "      <td>4</td>\n",
              "      <td>5</td>\n",
              "      <td>5</td>\n",
              "      <td>5</td>\n",
              "      <td>5</td>\n",
              "    </tr>\n",
              "    <tr>\n",
              "      <th>193</th>\n",
              "      <td>194</td>\n",
              "      <td>ชาย</td>\n",
              "      <td>24</td>\n",
              "      <td>ปริญญาตรี</td>\n",
              "      <td>พนักงานบริษัทเอกชน</td>\n",
              "      <td>18000.0</td>\n",
              "      <td>650</td>\n",
              "      <td>บ้าน/หอพัก</td>\n",
              "      <td>4 - 6 วัน/สัปดาห์</td>\n",
              "      <td>3 - 4 ชม. /วัน</td>\n",
              "      <td>...</td>\n",
              "      <td>สำคัญมากที่สุด</td>\n",
              "      <td>สำคัญมาก</td>\n",
              "      <td>5</td>\n",
              "      <td>4</td>\n",
              "      <td>4</td>\n",
              "      <td>1</td>\n",
              "      <td>5</td>\n",
              "      <td>5</td>\n",
              "      <td>5</td>\n",
              "      <td>4</td>\n",
              "    </tr>\n",
              "    <tr>\n",
              "      <th>195</th>\n",
              "      <td>196</td>\n",
              "      <td>ชาย</td>\n",
              "      <td>25</td>\n",
              "      <td>ปริญญาตรี</td>\n",
              "      <td>พนักงานบริษัทเอกชน</td>\n",
              "      <td>20000.0</td>\n",
              "      <td>590</td>\n",
              "      <td>บ้าน/หอพัก</td>\n",
              "      <td>2 - 3 วัน/สัปดาห์</td>\n",
              "      <td>3 - 4 ชม. /วัน</td>\n",
              "      <td>...</td>\n",
              "      <td>สำคัญมาก</td>\n",
              "      <td>สำคัญมาก</td>\n",
              "      <td>5</td>\n",
              "      <td>4</td>\n",
              "      <td>4</td>\n",
              "      <td>3</td>\n",
              "      <td>5</td>\n",
              "      <td>5</td>\n",
              "      <td>4</td>\n",
              "      <td>4</td>\n",
              "    </tr>\n",
              "    <tr>\n",
              "      <th>197</th>\n",
              "      <td>198</td>\n",
              "      <td>ชาย</td>\n",
              "      <td>17</td>\n",
              "      <td>มัธยมปลายหรือเทียบเท่า</td>\n",
              "      <td>นักเรียน/นักศึกษา</td>\n",
              "      <td>10000.0</td>\n",
              "      <td>590</td>\n",
              "      <td>บ้าน/หอพัก</td>\n",
              "      <td>ทุกวัน</td>\n",
              "      <td>มากกว่า 4 ชม./วัน</td>\n",
              "      <td>...</td>\n",
              "      <td>สำคัญมากที่สุด</td>\n",
              "      <td>สำคัญมาก</td>\n",
              "      <td>5</td>\n",
              "      <td>3</td>\n",
              "      <td>4</td>\n",
              "      <td>4</td>\n",
              "      <td>5</td>\n",
              "      <td>5</td>\n",
              "      <td>5</td>\n",
              "      <td>4</td>\n",
              "    </tr>\n",
              "    <tr>\n",
              "      <th>198</th>\n",
              "      <td>199</td>\n",
              "      <td>ชาย</td>\n",
              "      <td>25</td>\n",
              "      <td>ปริญญาตรี</td>\n",
              "      <td>พนักงานบริษัทเอกชน</td>\n",
              "      <td>20000.0</td>\n",
              "      <td>650</td>\n",
              "      <td>บ้าน/หอพัก</td>\n",
              "      <td>ทุกวัน</td>\n",
              "      <td>มากกว่า 4 ชม./วัน</td>\n",
              "      <td>...</td>\n",
              "      <td>สำคัญมากที่สุด</td>\n",
              "      <td>สำคัญมากที่สุด</td>\n",
              "      <td>5</td>\n",
              "      <td>3</td>\n",
              "      <td>3</td>\n",
              "      <td>4</td>\n",
              "      <td>5</td>\n",
              "      <td>5</td>\n",
              "      <td>5</td>\n",
              "      <td>5</td>\n",
              "    </tr>\n",
              "  </tbody>\n",
              "</table>\n",
              "<p>89 rows × 29 columns</p>\n",
              "</div>\n",
              "      <button class=\"colab-df-convert\" onclick=\"convertToInteractive('df-3c5c2162-596f-4593-a556-3cc3b6bdd22a')\"\n",
              "              title=\"Convert this dataframe to an interactive table.\"\n",
              "              style=\"display:none;\">\n",
              "\n",
              "  <svg xmlns=\"http://www.w3.org/2000/svg\" height=\"24px\"viewBox=\"0 0 24 24\"\n",
              "       width=\"24px\">\n",
              "    <path d=\"M0 0h24v24H0V0z\" fill=\"none\"/>\n",
              "    <path d=\"M18.56 5.44l.94 2.06.94-2.06 2.06-.94-2.06-.94-.94-2.06-.94 2.06-2.06.94zm-11 1L8.5 8.5l.94-2.06 2.06-.94-2.06-.94L8.5 2.5l-.94 2.06-2.06.94zm10 10l.94 2.06.94-2.06 2.06-.94-2.06-.94-.94-2.06-.94 2.06-2.06.94z\"/><path d=\"M17.41 7.96l-1.37-1.37c-.4-.4-.92-.59-1.43-.59-.52 0-1.04.2-1.43.59L10.3 9.45l-7.72 7.72c-.78.78-.78 2.05 0 2.83L4 21.41c.39.39.9.59 1.41.59.51 0 1.02-.2 1.41-.59l7.78-7.78 2.81-2.81c.8-.78.8-2.07 0-2.86zM5.41 20L4 18.59l7.72-7.72 1.47 1.35L5.41 20z\"/>\n",
              "  </svg>\n",
              "      </button>\n",
              "\n",
              "\n",
              "\n",
              "    <div id=\"df-7370bac4-962d-4325-8127-87bc3b1bf08c\">\n",
              "      <button class=\"colab-df-quickchart\" onclick=\"quickchart('df-7370bac4-962d-4325-8127-87bc3b1bf08c')\"\n",
              "              title=\"Suggest charts.\"\n",
              "              style=\"display:none;\">\n",
              "\n",
              "<svg xmlns=\"http://www.w3.org/2000/svg\" height=\"24px\"viewBox=\"0 0 24 24\"\n",
              "     width=\"24px\">\n",
              "    <g>\n",
              "        <path d=\"M19 3H5c-1.1 0-2 .9-2 2v14c0 1.1.9 2 2 2h14c1.1 0 2-.9 2-2V5c0-1.1-.9-2-2-2zM9 17H7v-7h2v7zm4 0h-2V7h2v10zm4 0h-2v-4h2v4z\"/>\n",
              "    </g>\n",
              "</svg>\n",
              "      </button>\n",
              "    </div>\n",
              "\n",
              "<style>\n",
              "  .colab-df-quickchart {\n",
              "    background-color: #E8F0FE;\n",
              "    border: none;\n",
              "    border-radius: 50%;\n",
              "    cursor: pointer;\n",
              "    display: none;\n",
              "    fill: #1967D2;\n",
              "    height: 32px;\n",
              "    padding: 0 0 0 0;\n",
              "    width: 32px;\n",
              "  }\n",
              "\n",
              "  .colab-df-quickchart:hover {\n",
              "    background-color: #E2EBFA;\n",
              "    box-shadow: 0px 1px 2px rgba(60, 64, 67, 0.3), 0px 1px 3px 1px rgba(60, 64, 67, 0.15);\n",
              "    fill: #174EA6;\n",
              "  }\n",
              "\n",
              "  [theme=dark] .colab-df-quickchart {\n",
              "    background-color: #3B4455;\n",
              "    fill: #D2E3FC;\n",
              "  }\n",
              "\n",
              "  [theme=dark] .colab-df-quickchart:hover {\n",
              "    background-color: #434B5C;\n",
              "    box-shadow: 0px 1px 3px 1px rgba(0, 0, 0, 0.15);\n",
              "    filter: drop-shadow(0px 1px 2px rgba(0, 0, 0, 0.3));\n",
              "    fill: #FFFFFF;\n",
              "  }\n",
              "</style>\n",
              "\n",
              "    <script>\n",
              "      async function quickchart(key) {\n",
              "        const containerElement = document.querySelector('#' + key);\n",
              "        const charts = await google.colab.kernel.invokeFunction(\n",
              "            'suggestCharts', [key], {});\n",
              "      }\n",
              "    </script>\n",
              "\n",
              "      <script>\n",
              "\n",
              "function displayQuickchartButton(domScope) {\n",
              "  let quickchartButtonEl =\n",
              "    domScope.querySelector('#df-7370bac4-962d-4325-8127-87bc3b1bf08c button.colab-df-quickchart');\n",
              "  quickchartButtonEl.style.display =\n",
              "    google.colab.kernel.accessAllowed ? 'block' : 'none';\n",
              "}\n",
              "\n",
              "        displayQuickchartButton(document);\n",
              "      </script>\n",
              "      <style>\n",
              "    .colab-df-container {\n",
              "      display:flex;\n",
              "      flex-wrap:wrap;\n",
              "      gap: 12px;\n",
              "    }\n",
              "\n",
              "    .colab-df-convert {\n",
              "      background-color: #E8F0FE;\n",
              "      border: none;\n",
              "      border-radius: 50%;\n",
              "      cursor: pointer;\n",
              "      display: none;\n",
              "      fill: #1967D2;\n",
              "      height: 32px;\n",
              "      padding: 0 0 0 0;\n",
              "      width: 32px;\n",
              "    }\n",
              "\n",
              "    .colab-df-convert:hover {\n",
              "      background-color: #E2EBFA;\n",
              "      box-shadow: 0px 1px 2px rgba(60, 64, 67, 0.3), 0px 1px 3px 1px rgba(60, 64, 67, 0.15);\n",
              "      fill: #174EA6;\n",
              "    }\n",
              "\n",
              "    [theme=dark] .colab-df-convert {\n",
              "      background-color: #3B4455;\n",
              "      fill: #D2E3FC;\n",
              "    }\n",
              "\n",
              "    [theme=dark] .colab-df-convert:hover {\n",
              "      background-color: #434B5C;\n",
              "      box-shadow: 0px 1px 3px 1px rgba(0, 0, 0, 0.15);\n",
              "      filter: drop-shadow(0px 1px 2px rgba(0, 0, 0, 0.3));\n",
              "      fill: #FFFFFF;\n",
              "    }\n",
              "  </style>\n",
              "\n",
              "      <script>\n",
              "        const buttonEl =\n",
              "          document.querySelector('#df-3c5c2162-596f-4593-a556-3cc3b6bdd22a button.colab-df-convert');\n",
              "        buttonEl.style.display =\n",
              "          google.colab.kernel.accessAllowed ? 'block' : 'none';\n",
              "\n",
              "        async function convertToInteractive(key) {\n",
              "          const element = document.querySelector('#df-3c5c2162-596f-4593-a556-3cc3b6bdd22a');\n",
              "          const dataTable =\n",
              "            await google.colab.kernel.invokeFunction('convertToInteractive',\n",
              "                                                     [key], {});\n",
              "          if (!dataTable) return;\n",
              "\n",
              "          const docLinkHtml = 'Like what you see? Visit the ' +\n",
              "            '<a target=\"_blank\" href=https://colab.research.google.com/notebooks/data_table.ipynb>data table notebook</a>'\n",
              "            + ' to learn more about interactive tables.';\n",
              "          element.innerHTML = '';\n",
              "          dataTable['output_type'] = 'display_data';\n",
              "          await google.colab.output.renderOutput(dataTable, element);\n",
              "          const docLink = document.createElement('div');\n",
              "          docLink.innerHTML = docLinkHtml;\n",
              "          element.appendChild(docLink);\n",
              "        }\n",
              "      </script>\n",
              "    </div>\n",
              "  </div>\n"
            ]
          },
          "metadata": {},
          "execution_count": 68
        }
      ]
    },
    {
      "cell_type": "markdown",
      "id": "01e86710",
      "metadata": {
        "id": "01e86710"
      },
      "source": [
        "จากข้อมูลที่เติมค่าสูญหายเรียบร้อยแล้ว ให้สร้างตารางสรุปรายได้ของผู้ใช้เฟซบุ๊คตามผู้ที่มีประเภทการใช้งานแบบต่าง ๆ กัน พร้อมทั้งสร้างแผนภาพประกอบให้เข้าใจผลได้ง่ายขึ้น ให้เขียนอธิบายสั้น ๆ จากสิ่งที่พบเห็น"
      ]
    },
    {
      "cell_type": "code",
      "source": [
        "data.groupby('TYPE').mean()"
      ],
      "metadata": {
        "colab": {
          "base_uri": "https://localhost:8080/",
          "height": 261
        },
        "id": "XhX63bhGfXtK",
        "outputId": "04027d0e-a6ad-4cc7-e3f4-30340b7b2b7e"
      },
      "id": "XhX63bhGfXtK",
      "execution_count": 26,
      "outputs": [
        {
          "output_type": "stream",
          "name": "stderr",
          "text": [
            "<ipython-input-26-1306b2709a34>:1: FutureWarning: The default value of numeric_only in DataFrameGroupBy.mean is deprecated. In a future version, numeric_only will default to False. Either specify numeric_only or select only columns which should be valid for the function.\n",
            "  data.groupby('TYPE').mean()\n"
          ]
        },
        {
          "output_type": "execute_result",
          "data": {
            "text/plain": [
              "                                          No        AGE        SALARY  \\\n",
              "TYPE                                                                    \n",
              "การส่งของขวัญ                      89.000000  23.000000  19375.000000   \n",
              "การโพสต์ข้อความ/รูปภาพ            101.360248  22.677019  17692.943847   \n",
              "เกมส์ที่เน้นการมีเพื่อนมากที่สุด  134.000000  19.666667  14666.666667   \n",
              "เกมส์ที่เน้นการได้คะแนนสูงสุด      94.468750  23.218750  18835.247462   \n",
              "\n",
              "                                  INTERNET_PAY  \n",
              "TYPE                                            \n",
              "การส่งของขวัญ                       567.500000  \n",
              "การโพสต์ข้อความ/รูปภาพ              584.782609  \n",
              "เกมส์ที่เน้นการมีเพื่อนมากที่สุด    550.000000  \n",
              "เกมส์ที่เน้นการได้คะแนนสูงสุด       575.000000  "
            ],
            "text/html": [
              "\n",
              "\n",
              "  <div id=\"df-dfae2d65-8c22-43e4-925e-5f85f99f3aa7\">\n",
              "    <div class=\"colab-df-container\">\n",
              "      <div>\n",
              "<style scoped>\n",
              "    .dataframe tbody tr th:only-of-type {\n",
              "        vertical-align: middle;\n",
              "    }\n",
              "\n",
              "    .dataframe tbody tr th {\n",
              "        vertical-align: top;\n",
              "    }\n",
              "\n",
              "    .dataframe thead th {\n",
              "        text-align: right;\n",
              "    }\n",
              "</style>\n",
              "<table border=\"1\" class=\"dataframe\">\n",
              "  <thead>\n",
              "    <tr style=\"text-align: right;\">\n",
              "      <th></th>\n",
              "      <th>No</th>\n",
              "      <th>AGE</th>\n",
              "      <th>SALARY</th>\n",
              "      <th>INTERNET_PAY</th>\n",
              "    </tr>\n",
              "    <tr>\n",
              "      <th>TYPE</th>\n",
              "      <th></th>\n",
              "      <th></th>\n",
              "      <th></th>\n",
              "      <th></th>\n",
              "    </tr>\n",
              "  </thead>\n",
              "  <tbody>\n",
              "    <tr>\n",
              "      <th>การส่งของขวัญ</th>\n",
              "      <td>89.000000</td>\n",
              "      <td>23.000000</td>\n",
              "      <td>19375.000000</td>\n",
              "      <td>567.500000</td>\n",
              "    </tr>\n",
              "    <tr>\n",
              "      <th>การโพสต์ข้อความ/รูปภาพ</th>\n",
              "      <td>101.360248</td>\n",
              "      <td>22.677019</td>\n",
              "      <td>17692.943847</td>\n",
              "      <td>584.782609</td>\n",
              "    </tr>\n",
              "    <tr>\n",
              "      <th>เกมส์ที่เน้นการมีเพื่อนมากที่สุด</th>\n",
              "      <td>134.000000</td>\n",
              "      <td>19.666667</td>\n",
              "      <td>14666.666667</td>\n",
              "      <td>550.000000</td>\n",
              "    </tr>\n",
              "    <tr>\n",
              "      <th>เกมส์ที่เน้นการได้คะแนนสูงสุด</th>\n",
              "      <td>94.468750</td>\n",
              "      <td>23.218750</td>\n",
              "      <td>18835.247462</td>\n",
              "      <td>575.000000</td>\n",
              "    </tr>\n",
              "  </tbody>\n",
              "</table>\n",
              "</div>\n",
              "      <button class=\"colab-df-convert\" onclick=\"convertToInteractive('df-dfae2d65-8c22-43e4-925e-5f85f99f3aa7')\"\n",
              "              title=\"Convert this dataframe to an interactive table.\"\n",
              "              style=\"display:none;\">\n",
              "\n",
              "  <svg xmlns=\"http://www.w3.org/2000/svg\" height=\"24px\"viewBox=\"0 0 24 24\"\n",
              "       width=\"24px\">\n",
              "    <path d=\"M0 0h24v24H0V0z\" fill=\"none\"/>\n",
              "    <path d=\"M18.56 5.44l.94 2.06.94-2.06 2.06-.94-2.06-.94-.94-2.06-.94 2.06-2.06.94zm-11 1L8.5 8.5l.94-2.06 2.06-.94-2.06-.94L8.5 2.5l-.94 2.06-2.06.94zm10 10l.94 2.06.94-2.06 2.06-.94-2.06-.94-.94-2.06-.94 2.06-2.06.94z\"/><path d=\"M17.41 7.96l-1.37-1.37c-.4-.4-.92-.59-1.43-.59-.52 0-1.04.2-1.43.59L10.3 9.45l-7.72 7.72c-.78.78-.78 2.05 0 2.83L4 21.41c.39.39.9.59 1.41.59.51 0 1.02-.2 1.41-.59l7.78-7.78 2.81-2.81c.8-.78.8-2.07 0-2.86zM5.41 20L4 18.59l7.72-7.72 1.47 1.35L5.41 20z\"/>\n",
              "  </svg>\n",
              "      </button>\n",
              "\n",
              "\n",
              "\n",
              "    <div id=\"df-d8733c3a-6860-4810-90ab-21daa8095267\">\n",
              "      <button class=\"colab-df-quickchart\" onclick=\"quickchart('df-d8733c3a-6860-4810-90ab-21daa8095267')\"\n",
              "              title=\"Suggest charts.\"\n",
              "              style=\"display:none;\">\n",
              "\n",
              "<svg xmlns=\"http://www.w3.org/2000/svg\" height=\"24px\"viewBox=\"0 0 24 24\"\n",
              "     width=\"24px\">\n",
              "    <g>\n",
              "        <path d=\"M19 3H5c-1.1 0-2 .9-2 2v14c0 1.1.9 2 2 2h14c1.1 0 2-.9 2-2V5c0-1.1-.9-2-2-2zM9 17H7v-7h2v7zm4 0h-2V7h2v10zm4 0h-2v-4h2v4z\"/>\n",
              "    </g>\n",
              "</svg>\n",
              "      </button>\n",
              "    </div>\n",
              "\n",
              "<style>\n",
              "  .colab-df-quickchart {\n",
              "    background-color: #E8F0FE;\n",
              "    border: none;\n",
              "    border-radius: 50%;\n",
              "    cursor: pointer;\n",
              "    display: none;\n",
              "    fill: #1967D2;\n",
              "    height: 32px;\n",
              "    padding: 0 0 0 0;\n",
              "    width: 32px;\n",
              "  }\n",
              "\n",
              "  .colab-df-quickchart:hover {\n",
              "    background-color: #E2EBFA;\n",
              "    box-shadow: 0px 1px 2px rgba(60, 64, 67, 0.3), 0px 1px 3px 1px rgba(60, 64, 67, 0.15);\n",
              "    fill: #174EA6;\n",
              "  }\n",
              "\n",
              "  [theme=dark] .colab-df-quickchart {\n",
              "    background-color: #3B4455;\n",
              "    fill: #D2E3FC;\n",
              "  }\n",
              "\n",
              "  [theme=dark] .colab-df-quickchart:hover {\n",
              "    background-color: #434B5C;\n",
              "    box-shadow: 0px 1px 3px 1px rgba(0, 0, 0, 0.15);\n",
              "    filter: drop-shadow(0px 1px 2px rgba(0, 0, 0, 0.3));\n",
              "    fill: #FFFFFF;\n",
              "  }\n",
              "</style>\n",
              "\n",
              "    <script>\n",
              "      async function quickchart(key) {\n",
              "        const containerElement = document.querySelector('#' + key);\n",
              "        const charts = await google.colab.kernel.invokeFunction(\n",
              "            'suggestCharts', [key], {});\n",
              "      }\n",
              "    </script>\n",
              "\n",
              "      <script>\n",
              "\n",
              "function displayQuickchartButton(domScope) {\n",
              "  let quickchartButtonEl =\n",
              "    domScope.querySelector('#df-d8733c3a-6860-4810-90ab-21daa8095267 button.colab-df-quickchart');\n",
              "  quickchartButtonEl.style.display =\n",
              "    google.colab.kernel.accessAllowed ? 'block' : 'none';\n",
              "}\n",
              "\n",
              "        displayQuickchartButton(document);\n",
              "      </script>\n",
              "      <style>\n",
              "    .colab-df-container {\n",
              "      display:flex;\n",
              "      flex-wrap:wrap;\n",
              "      gap: 12px;\n",
              "    }\n",
              "\n",
              "    .colab-df-convert {\n",
              "      background-color: #E8F0FE;\n",
              "      border: none;\n",
              "      border-radius: 50%;\n",
              "      cursor: pointer;\n",
              "      display: none;\n",
              "      fill: #1967D2;\n",
              "      height: 32px;\n",
              "      padding: 0 0 0 0;\n",
              "      width: 32px;\n",
              "    }\n",
              "\n",
              "    .colab-df-convert:hover {\n",
              "      background-color: #E2EBFA;\n",
              "      box-shadow: 0px 1px 2px rgba(60, 64, 67, 0.3), 0px 1px 3px 1px rgba(60, 64, 67, 0.15);\n",
              "      fill: #174EA6;\n",
              "    }\n",
              "\n",
              "    [theme=dark] .colab-df-convert {\n",
              "      background-color: #3B4455;\n",
              "      fill: #D2E3FC;\n",
              "    }\n",
              "\n",
              "    [theme=dark] .colab-df-convert:hover {\n",
              "      background-color: #434B5C;\n",
              "      box-shadow: 0px 1px 3px 1px rgba(0, 0, 0, 0.15);\n",
              "      filter: drop-shadow(0px 1px 2px rgba(0, 0, 0, 0.3));\n",
              "      fill: #FFFFFF;\n",
              "    }\n",
              "  </style>\n",
              "\n",
              "      <script>\n",
              "        const buttonEl =\n",
              "          document.querySelector('#df-dfae2d65-8c22-43e4-925e-5f85f99f3aa7 button.colab-df-convert');\n",
              "        buttonEl.style.display =\n",
              "          google.colab.kernel.accessAllowed ? 'block' : 'none';\n",
              "\n",
              "        async function convertToInteractive(key) {\n",
              "          const element = document.querySelector('#df-dfae2d65-8c22-43e4-925e-5f85f99f3aa7');\n",
              "          const dataTable =\n",
              "            await google.colab.kernel.invokeFunction('convertToInteractive',\n",
              "                                                     [key], {});\n",
              "          if (!dataTable) return;\n",
              "\n",
              "          const docLinkHtml = 'Like what you see? Visit the ' +\n",
              "            '<a target=\"_blank\" href=https://colab.research.google.com/notebooks/data_table.ipynb>data table notebook</a>'\n",
              "            + ' to learn more about interactive tables.';\n",
              "          element.innerHTML = '';\n",
              "          dataTable['output_type'] = 'display_data';\n",
              "          await google.colab.output.renderOutput(dataTable, element);\n",
              "          const docLink = document.createElement('div');\n",
              "          docLink.innerHTML = docLinkHtml;\n",
              "          element.appendChild(docLink);\n",
              "        }\n",
              "      </script>\n",
              "    </div>\n",
              "  </div>\n"
            ]
          },
          "metadata": {},
          "execution_count": 26
        }
      ]
    },
    {
      "cell_type": "code",
      "source": [
        "SALARY = [19375,17692,14666,18835]\n",
        "index = ['การส่งของขวัญ',  ' การโพสต์ข้อความ/รูปภาพ',  ' เกมส์ที่เน้นการมีเพื่อนมากที่สุด', ' เกมส์ที่เน้นการได้คะแนนสูงสุด' ]\n",
        "df = pd.DataFrame({'SALARY': SALARY}, index=index)\n",
        "ax = df.plot.bar(rot=0)"
      ],
      "metadata": {
        "colab": {
          "base_uri": "https://localhost:8080/",
          "height": 441
        },
        "id": "a6rRyXiVgEsv",
        "outputId": "7b1b4bea-4b41-4338-b728-92571d5f00a8"
      },
      "id": "a6rRyXiVgEsv",
      "execution_count": 29,
      "outputs": [
        {
          "output_type": "display_data",
          "data": {
            "text/plain": [
              "<Figure size 640x480 with 1 Axes>"
            ],
            "image/png": "[encoded data removed]"
          },
          "metadata": {}
        }
      ]
    },
    {
      "cell_type": "markdown",
      "source": [
        "ผู้ใช้ประเภท การส่งของขวัญ มีรายได้โดยเฉลี่ยมากที่สุด และผู้ใช้ประเภท เกมส์ที่เน้นการมีเพื่อนมากที่สุด มีรายได้โดยเฉลี่ยน้อยที่สุด"
      ],
      "metadata": {
        "id": "tWJknTrwo6uW"
      },
      "id": "tWJknTrwo6uW"
    },
    {
      "cell_type": "markdown",
      "id": "a1ae2f33",
      "metadata": {
        "id": "a1ae2f33"
      },
      "source": [
        "เลือกทำการสร้างตารางและรูปภาพที่สรุปผลจากข้อมูลมาอย่างละ 2 แบบ พร้อมเขียนบรรยายสั้น ๆ หากมีการทำงานร่วมกับเพื่อน ให้ทำออกมาให้ไม่ซ้ำกัน"
      ]
    },
    {
      "cell_type": "markdown",
      "source": [
        "ผู้ใช้ FACEBOOK แต่ละเพศจ่ายค่าอินเตอร์โดยเฉลี่ยเท่าไหร่"
      ],
      "metadata": {
        "id": "0Vry2lTMhK4F"
      },
      "id": "0Vry2lTMhK4F"
    },
    {
      "cell_type": "code",
      "execution_count": 31,
      "id": "15834154",
      "metadata": {
        "id": "15834154",
        "colab": {
          "base_uri": "https://localhost:8080/",
          "height": 198
        },
        "outputId": "b82efe38-12e8-4c01-c23e-e9c298f938fe"
      },
      "outputs": [
        {
          "output_type": "stream",
          "name": "stderr",
          "text": [
            "<ipython-input-31-d031ed7ebf27>:1: FutureWarning: The default value of numeric_only in DataFrameGroupBy.mean is deprecated. In a future version, numeric_only will default to False. Either specify numeric_only or select only columns which should be valid for the function.\n",
            "  data.groupby('GENDER').mean()\n"
          ]
        },
        {
          "output_type": "execute_result",
          "data": {
            "text/plain": [
              "            No    AGE        SALARY  INTERNET_PAY\n",
              "GENDER                                           \n",
              "ชาย     103.09  22.61  17535.279188         591.8\n",
              "หญิง     97.91  22.84  18192.639594         572.9"
            ],
            "text/html": [
              "\n",
              "\n",
              "  <div id=\"df-dc50c96f-e2bc-4452-8dfd-66ca0903d2e5\">\n",
              "    <div class=\"colab-df-container\">\n",
              "      <div>\n",
              "<style scoped>\n",
              "    .dataframe tbody tr th:only-of-type {\n",
              "        vertical-align: middle;\n",
              "    }\n",
              "\n",
              "    .dataframe tbody tr th {\n",
              "        vertical-align: top;\n",
              "    }\n",
              "\n",
              "    .dataframe thead th {\n",
              "        text-align: right;\n",
              "    }\n",
              "</style>\n",
              "<table border=\"1\" class=\"dataframe\">\n",
              "  <thead>\n",
              "    <tr style=\"text-align: right;\">\n",
              "      <th></th>\n",
              "      <th>No</th>\n",
              "      <th>AGE</th>\n",
              "      <th>SALARY</th>\n",
              "      <th>INTERNET_PAY</th>\n",
              "    </tr>\n",
              "    <tr>\n",
              "      <th>GENDER</th>\n",
              "      <th></th>\n",
              "      <th></th>\n",
              "      <th></th>\n",
              "      <th></th>\n",
              "    </tr>\n",
              "  </thead>\n",
              "  <tbody>\n",
              "    <tr>\n",
              "      <th>ชาย</th>\n",
              "      <td>103.09</td>\n",
              "      <td>22.61</td>\n",
              "      <td>17535.279188</td>\n",
              "      <td>591.8</td>\n",
              "    </tr>\n",
              "    <tr>\n",
              "      <th>หญิง</th>\n",
              "      <td>97.91</td>\n",
              "      <td>22.84</td>\n",
              "      <td>18192.639594</td>\n",
              "      <td>572.9</td>\n",
              "    </tr>\n",
              "  </tbody>\n",
              "</table>\n",
              "</div>\n",
              "      <button class=\"colab-df-convert\" onclick=\"convertToInteractive('df-dc50c96f-e2bc-4452-8dfd-66ca0903d2e5')\"\n",
              "              title=\"Convert this dataframe to an interactive table.\"\n",
              "              style=\"display:none;\">\n",
              "\n",
              "  <svg xmlns=\"http://www.w3.org/2000/svg\" height=\"24px\"viewBox=\"0 0 24 24\"\n",
              "       width=\"24px\">\n",
              "    <path d=\"M0 0h24v24H0V0z\" fill=\"none\"/>\n",
              "    <path d=\"M18.56 5.44l.94 2.06.94-2.06 2.06-.94-2.06-.94-.94-2.06-.94 2.06-2.06.94zm-11 1L8.5 8.5l.94-2.06 2.06-.94-2.06-.94L8.5 2.5l-.94 2.06-2.06.94zm10 10l.94 2.06.94-2.06 2.06-.94-2.06-.94-.94-2.06-.94 2.06-2.06.94z\"/><path d=\"M17.41 7.96l-1.37-1.37c-.4-.4-.92-.59-1.43-.59-.52 0-1.04.2-1.43.59L10.3 9.45l-7.72 7.72c-.78.78-.78 2.05 0 2.83L4 21.41c.39.39.9.59 1.41.59.51 0 1.02-.2 1.41-.59l7.78-7.78 2.81-2.81c.8-.78.8-2.07 0-2.86zM5.41 20L4 18.59l7.72-7.72 1.47 1.35L5.41 20z\"/>\n",
              "  </svg>\n",
              "      </button>\n",
              "\n",
              "\n",
              "\n",
              "    <div id=\"df-7a17aaff-6518-4417-b527-14fb08687eab\">\n",
              "      <button class=\"colab-df-quickchart\" onclick=\"quickchart('df-7a17aaff-6518-4417-b527-14fb08687eab')\"\n",
              "              title=\"Suggest charts.\"\n",
              "              style=\"display:none;\">\n",
              "\n",
              "<svg xmlns=\"http://www.w3.org/2000/svg\" height=\"24px\"viewBox=\"0 0 24 24\"\n",
              "     width=\"24px\">\n",
              "    <g>\n",
              "        <path d=\"M19 3H5c-1.1 0-2 .9-2 2v14c0 1.1.9 2 2 2h14c1.1 0 2-.9 2-2V5c0-1.1-.9-2-2-2zM9 17H7v-7h2v7zm4 0h-2V7h2v10zm4 0h-2v-4h2v4z\"/>\n",
              "    </g>\n",
              "</svg>\n",
              "      </button>\n",
              "    </div>\n",
              "\n",
              "<style>\n",
              "  .colab-df-quickchart {\n",
              "    background-color: #E8F0FE;\n",
              "    border: none;\n",
              "    border-radius: 50%;\n",
              "    cursor: pointer;\n",
              "    display: none;\n",
              "    fill: #1967D2;\n",
              "    height: 32px;\n",
              "    padding: 0 0 0 0;\n",
              "    width: 32px;\n",
              "  }\n",
              "\n",
              "  .colab-df-quickchart:hover {\n",
              "    background-color: #E2EBFA;\n",
              "    box-shadow: 0px 1px 2px rgba(60, 64, 67, 0.3), 0px 1px 3px 1px rgba(60, 64, 67, 0.15);\n",
              "    fill: #174EA6;\n",
              "  }\n",
              "\n",
              "  [theme=dark] .colab-df-quickchart {\n",
              "    background-color: #3B4455;\n",
              "    fill: #D2E3FC;\n",
              "  }\n",
              "\n",
              "  [theme=dark] .colab-df-quickchart:hover {\n",
              "    background-color: #434B5C;\n",
              "    box-shadow: 0px 1px 3px 1px rgba(0, 0, 0, 0.15);\n",
              "    filter: drop-shadow(0px 1px 2px rgba(0, 0, 0, 0.3));\n",
              "    fill: #FFFFFF;\n",
              "  }\n",
              "</style>\n",
              "\n",
              "    <script>\n",
              "      async function quickchart(key) {\n",
              "        const containerElement = document.querySelector('#' + key);\n",
              "        const charts = await google.colab.kernel.invokeFunction(\n",
              "            'suggestCharts', [key], {});\n",
              "      }\n",
              "    </script>\n",
              "\n",
              "      <script>\n",
              "\n",
              "function displayQuickchartButton(domScope) {\n",
              "  let quickchartButtonEl =\n",
              "    domScope.querySelector('#df-7a17aaff-6518-4417-b527-14fb08687eab button.colab-df-quickchart');\n",
              "  quickchartButtonEl.style.display =\n",
              "    google.colab.kernel.accessAllowed ? 'block' : 'none';\n",
              "}\n",
              "\n",
              "        displayQuickchartButton(document);\n",
              "      </script>\n",
              "      <style>\n",
              "    .colab-df-container {\n",
              "      display:flex;\n",
              "      flex-wrap:wrap;\n",
              "      gap: 12px;\n",
              "    }\n",
              "\n",
              "    .colab-df-convert {\n",
              "      background-color: #E8F0FE;\n",
              "      border: none;\n",
              "      border-radius: 50%;\n",
              "      cursor: pointer;\n",
              "      display: none;\n",
              "      fill: #1967D2;\n",
              "      height: 32px;\n",
              "      padding: 0 0 0 0;\n",
              "      width: 32px;\n",
              "    }\n",
              "\n",
              "    .colab-df-convert:hover {\n",
              "      background-color: #E2EBFA;\n",
              "      box-shadow: 0px 1px 2px rgba(60, 64, 67, 0.3), 0px 1px 3px 1px rgba(60, 64, 67, 0.15);\n",
              "      fill: #174EA6;\n",
              "    }\n",
              "\n",
              "    [theme=dark] .colab-df-convert {\n",
              "      background-color: #3B4455;\n",
              "      fill: #D2E3FC;\n",
              "    }\n",
              "\n",
              "    [theme=dark] .colab-df-convert:hover {\n",
              "      background-color: #434B5C;\n",
              "      box-shadow: 0px 1px 3px 1px rgba(0, 0, 0, 0.15);\n",
              "      filter: drop-shadow(0px 1px 2px rgba(0, 0, 0, 0.3));\n",
              "      fill: #FFFFFF;\n",
              "    }\n",
              "  </style>\n",
              "\n",
              "      <script>\n",
              "        const buttonEl =\n",
              "          document.querySelector('#df-dc50c96f-e2bc-4452-8dfd-66ca0903d2e5 button.colab-df-convert');\n",
              "        buttonEl.style.display =\n",
              "          google.colab.kernel.accessAllowed ? 'block' : 'none';\n",
              "\n",
              "        async function convertToInteractive(key) {\n",
              "          const element = document.querySelector('#df-dc50c96f-e2bc-4452-8dfd-66ca0903d2e5');\n",
              "          const dataTable =\n",
              "            await google.colab.kernel.invokeFunction('convertToInteractive',\n",
              "                                                     [key], {});\n",
              "          if (!dataTable) return;\n",
              "\n",
              "          const docLinkHtml = 'Like what you see? Visit the ' +\n",
              "            '<a target=\"_blank\" href=https://colab.research.google.com/notebooks/data_table.ipynb>data table notebook</a>'\n",
              "            + ' to learn more about interactive tables.';\n",
              "          element.innerHTML = '';\n",
              "          dataTable['output_type'] = 'display_data';\n",
              "          await google.colab.output.renderOutput(dataTable, element);\n",
              "          const docLink = document.createElement('div');\n",
              "          docLink.innerHTML = docLinkHtml;\n",
              "          element.appendChild(docLink);\n",
              "        }\n",
              "      </script>\n",
              "    </div>\n",
              "  </div>\n"
            ]
          },
          "metadata": {},
          "execution_count": 31
        }
      ],
      "source": [
        "data.groupby('GENDER').mean()"
      ]
    },
    {
      "cell_type": "code",
      "source": [
        "INTERNET_PAY = [591.8,572.9]\n",
        "index = ['ชาย',  ' หญิง' ]\n",
        "df = pd.DataFrame({'INTERNET_PAY': INTERNET_PAY}, index=index)\n",
        "ax = df.plot.bar(rot=0)"
      ],
      "metadata": {
        "colab": {
          "base_uri": "https://localhost:8080/",
          "height": 434
        },
        "id": "uSI7Y-IkhtyG",
        "outputId": "f65edde6-928b-483c-88bf-cd3ed1764c31"
      },
      "id": "uSI7Y-IkhtyG",
      "execution_count": 32,
      "outputs": [
        {
          "output_type": "display_data",
          "data": {
            "text/plain": [
              "<Figure size 640x480 with 1 Axes>"
            ],
            "image/png": "[encoded data removed]"
          },
          "metadata": {}
        }
      ]
    },
    {
      "cell_type": "markdown",
      "source": [
        "เพศชายจ่ายค่าอินเตอร์เน็ตโดยเฉลี่ยมากกว่าเพศหญิง"
      ],
      "metadata": {
        "id": "eJC9XtxVpU1Q"
      },
      "id": "eJC9XtxVpU1Q"
    },
    {
      "cell_type": "markdown",
      "source": [
        "จำนวนการชั่วโมงการใช้ Facebook ต่อวันของผู้ใช้และค่าอินเตอร์เน็ต"
      ],
      "metadata": {
        "id": "ggJ4dyHBiRlz"
      },
      "id": "ggJ4dyHBiRlz"
    },
    {
      "cell_type": "code",
      "source": [
        "data.groupby('HOUR').mean()"
      ],
      "metadata": {
        "colab": {
          "base_uri": "https://localhost:8080/",
          "height": 261
        },
        "id": "ZOr3sGoriSCi",
        "outputId": "e94a50e8-454a-4f1c-9a8c-3faca008d8e8"
      },
      "id": "ZOr3sGoriSCi",
      "execution_count": 38,
      "outputs": [
        {
          "output_type": "stream",
          "name": "stderr",
          "text": [
            "<ipython-input-38-a0d49522ebe2>:1: FutureWarning: The default value of numeric_only in DataFrameGroupBy.mean is deprecated. In a future version, numeric_only will default to False. Either specify numeric_only or select only columns which should be valid for the function.\n",
            "  data.groupby('HOUR').mean()\n"
          ]
        },
        {
          "output_type": "execute_result",
          "data": {
            "text/plain": [
              "                             No        AGE        SALARY  INTERNET_PAY\n",
              "HOUR                                                                  \n",
              "1 - 2 ชม. /วัน       123.857143  26.500000  23571.428571    572.857143\n",
              "3 - 4 ชม. /วัน        99.423077  23.384615  18961.538462    573.846154\n",
              "น้อยกว่า 1 ชม ./วัน  112.666667  26.000000  21643.993232    610.000000\n",
              "มากกว่า 4 ชม./วัน     97.812500  21.890625  16616.624365    585.546875"
            ],
            "text/html": [
              "\n",
              "\n",
              "  <div id=\"df-9d0be2ac-510b-4812-9e03-ad529b1a50cb\">\n",
              "    <div class=\"colab-df-container\">\n",
              "      <div>\n",
              "<style scoped>\n",
              "    .dataframe tbody tr th:only-of-type {\n",
              "        vertical-align: middle;\n",
              "    }\n",
              "\n",
              "    .dataframe tbody tr th {\n",
              "        vertical-align: top;\n",
              "    }\n",
              "\n",
              "    .dataframe thead th {\n",
              "        text-align: right;\n",
              "    }\n",
              "</style>\n",
              "<table border=\"1\" class=\"dataframe\">\n",
              "  <thead>\n",
              "    <tr style=\"text-align: right;\">\n",
              "      <th></th>\n",
              "      <th>No</th>\n",
              "      <th>AGE</th>\n",
              "      <th>SALARY</th>\n",
              "      <th>INTERNET_PAY</th>\n",
              "    </tr>\n",
              "    <tr>\n",
              "      <th>HOUR</th>\n",
              "      <th></th>\n",
              "      <th></th>\n",
              "      <th></th>\n",
              "      <th></th>\n",
              "    </tr>\n",
              "  </thead>\n",
              "  <tbody>\n",
              "    <tr>\n",
              "      <th>1 - 2 ชม. /วัน</th>\n",
              "      <td>123.857143</td>\n",
              "      <td>26.500000</td>\n",
              "      <td>23571.428571</td>\n",
              "      <td>572.857143</td>\n",
              "    </tr>\n",
              "    <tr>\n",
              "      <th>3 - 4 ชม. /วัน</th>\n",
              "      <td>99.423077</td>\n",
              "      <td>23.384615</td>\n",
              "      <td>18961.538462</td>\n",
              "      <td>573.846154</td>\n",
              "    </tr>\n",
              "    <tr>\n",
              "      <th>น้อยกว่า 1 ชม ./วัน</th>\n",
              "      <td>112.666667</td>\n",
              "      <td>26.000000</td>\n",
              "      <td>21643.993232</td>\n",
              "      <td>610.000000</td>\n",
              "    </tr>\n",
              "    <tr>\n",
              "      <th>มากกว่า 4 ชม./วัน</th>\n",
              "      <td>97.812500</td>\n",
              "      <td>21.890625</td>\n",
              "      <td>16616.624365</td>\n",
              "      <td>585.546875</td>\n",
              "    </tr>\n",
              "  </tbody>\n",
              "</table>\n",
              "</div>\n",
              "      <button class=\"colab-df-convert\" onclick=\"convertToInteractive('df-9d0be2ac-510b-4812-9e03-ad529b1a50cb')\"\n",
              "              title=\"Convert this dataframe to an interactive table.\"\n",
              "              style=\"display:none;\">\n",
              "\n",
              "  <svg xmlns=\"http://www.w3.org/2000/svg\" height=\"24px\"viewBox=\"0 0 24 24\"\n",
              "       width=\"24px\">\n",
              "    <path d=\"M0 0h24v24H0V0z\" fill=\"none\"/>\n",
              "    <path d=\"M18.56 5.44l.94 2.06.94-2.06 2.06-.94-2.06-.94-.94-2.06-.94 2.06-2.06.94zm-11 1L8.5 8.5l.94-2.06 2.06-.94-2.06-.94L8.5 2.5l-.94 2.06-2.06.94zm10 10l.94 2.06.94-2.06 2.06-.94-2.06-.94-.94-2.06-.94 2.06-2.06.94z\"/><path d=\"M17.41 7.96l-1.37-1.37c-.4-.4-.92-.59-1.43-.59-.52 0-1.04.2-1.43.59L10.3 9.45l-7.72 7.72c-.78.78-.78 2.05 0 2.83L4 21.41c.39.39.9.59 1.41.59.51 0 1.02-.2 1.41-.59l7.78-7.78 2.81-2.81c.8-.78.8-2.07 0-2.86zM5.41 20L4 18.59l7.72-7.72 1.47 1.35L5.41 20z\"/>\n",
              "  </svg>\n",
              "      </button>\n",
              "\n",
              "\n",
              "\n",
              "    <div id=\"df-f7e0a9b4-bb98-4837-ad0f-cf580d64a616\">\n",
              "      <button class=\"colab-df-quickchart\" onclick=\"quickchart('df-f7e0a9b4-bb98-4837-ad0f-cf580d64a616')\"\n",
              "              title=\"Suggest charts.\"\n",
              "              style=\"display:none;\">\n",
              "\n",
              "<svg xmlns=\"http://www.w3.org/2000/svg\" height=\"24px\"viewBox=\"0 0 24 24\"\n",
              "     width=\"24px\">\n",
              "    <g>\n",
              "        <path d=\"M19 3H5c-1.1 0-2 .9-2 2v14c0 1.1.9 2 2 2h14c1.1 0 2-.9 2-2V5c0-1.1-.9-2-2-2zM9 17H7v-7h2v7zm4 0h-2V7h2v10zm4 0h-2v-4h2v4z\"/>\n",
              "    </g>\n",
              "</svg>\n",
              "      </button>\n",
              "    </div>\n",
              "\n",
              "<style>\n",
              "  .colab-df-quickchart {\n",
              "    background-color: #E8F0FE;\n",
              "    border: none;\n",
              "    border-radius: 50%;\n",
              "    cursor: pointer;\n",
              "    display: none;\n",
              "    fill: #1967D2;\n",
              "    height: 32px;\n",
              "    padding: 0 0 0 0;\n",
              "    width: 32px;\n",
              "  }\n",
              "\n",
              "  .colab-df-quickchart:hover {\n",
              "    background-color: #E2EBFA;\n",
              "    box-shadow: 0px 1px 2px rgba(60, 64, 67, 0.3), 0px 1px 3px 1px rgba(60, 64, 67, 0.15);\n",
              "    fill: #174EA6;\n",
              "  }\n",
              "\n",
              "  [theme=dark] .colab-df-quickchart {\n",
              "    background-color: #3B4455;\n",
              "    fill: #D2E3FC;\n",
              "  }\n",
              "\n",
              "  [theme=dark] .colab-df-quickchart:hover {\n",
              "    background-color: #434B5C;\n",
              "    box-shadow: 0px 1px 3px 1px rgba(0, 0, 0, 0.15);\n",
              "    filter: drop-shadow(0px 1px 2px rgba(0, 0, 0, 0.3));\n",
              "    fill: #FFFFFF;\n",
              "  }\n",
              "</style>\n",
              "\n",
              "    <script>\n",
              "      async function quickchart(key) {\n",
              "        const containerElement = document.querySelector('#' + key);\n",
              "        const charts = await google.colab.kernel.invokeFunction(\n",
              "            'suggestCharts', [key], {});\n",
              "      }\n",
              "    </script>\n",
              "\n",
              "      <script>\n",
              "\n",
              "function displayQuickchartButton(domScope) {\n",
              "  let quickchartButtonEl =\n",
              "    domScope.querySelector('#df-f7e0a9b4-bb98-4837-ad0f-cf580d64a616 button.colab-df-quickchart');\n",
              "  quickchartButtonEl.style.display =\n",
              "    google.colab.kernel.accessAllowed ? 'block' : 'none';\n",
              "}\n",
              "\n",
              "        displayQuickchartButton(document);\n",
              "      </script>\n",
              "      <style>\n",
              "    .colab-df-container {\n",
              "      display:flex;\n",
              "      flex-wrap:wrap;\n",
              "      gap: 12px;\n",
              "    }\n",
              "\n",
              "    .colab-df-convert {\n",
              "      background-color: #E8F0FE;\n",
              "      border: none;\n",
              "      border-radius: 50%;\n",
              "      cursor: pointer;\n",
              "      display: none;\n",
              "      fill: #1967D2;\n",
              "      height: 32px;\n",
              "      padding: 0 0 0 0;\n",
              "      width: 32px;\n",
              "    }\n",
              "\n",
              "    .colab-df-convert:hover {\n",
              "      background-color: #E2EBFA;\n",
              "      box-shadow: 0px 1px 2px rgba(60, 64, 67, 0.3), 0px 1px 3px 1px rgba(60, 64, 67, 0.15);\n",
              "      fill: #174EA6;\n",
              "    }\n",
              "\n",
              "    [theme=dark] .colab-df-convert {\n",
              "      background-color: #3B4455;\n",
              "      fill: #D2E3FC;\n",
              "    }\n",
              "\n",
              "    [theme=dark] .colab-df-convert:hover {\n",
              "      background-color: #434B5C;\n",
              "      box-shadow: 0px 1px 3px 1px rgba(0, 0, 0, 0.15);\n",
              "      filter: drop-shadow(0px 1px 2px rgba(0, 0, 0, 0.3));\n",
              "      fill: #FFFFFF;\n",
              "    }\n",
              "  </style>\n",
              "\n",
              "      <script>\n",
              "        const buttonEl =\n",
              "          document.querySelector('#df-9d0be2ac-510b-4812-9e03-ad529b1a50cb button.colab-df-convert');\n",
              "        buttonEl.style.display =\n",
              "          google.colab.kernel.accessAllowed ? 'block' : 'none';\n",
              "\n",
              "        async function convertToInteractive(key) {\n",
              "          const element = document.querySelector('#df-9d0be2ac-510b-4812-9e03-ad529b1a50cb');\n",
              "          const dataTable =\n",
              "            await google.colab.kernel.invokeFunction('convertToInteractive',\n",
              "                                                     [key], {});\n",
              "          if (!dataTable) return;\n",
              "\n",
              "          const docLinkHtml = 'Like what you see? Visit the ' +\n",
              "            '<a target=\"_blank\" href=https://colab.research.google.com/notebooks/data_table.ipynb>data table notebook</a>'\n",
              "            + ' to learn more about interactive tables.';\n",
              "          element.innerHTML = '';\n",
              "          dataTable['output_type'] = 'display_data';\n",
              "          await google.colab.output.renderOutput(dataTable, element);\n",
              "          const docLink = document.createElement('div');\n",
              "          docLink.innerHTML = docLinkHtml;\n",
              "          element.appendChild(docLink);\n",
              "        }\n",
              "      </script>\n",
              "    </div>\n",
              "  </div>\n"
            ]
          },
          "metadata": {},
          "execution_count": 38
        }
      ]
    },
    {
      "cell_type": "code",
      "source": [
        "INTERNET_PAY = [572.9,573.8,610,585.5]\n",
        "index = ['1 - 2 ชม. /วัน',  ' 3 - 4 ชม. /วัน', 'น้อยกว่า 1 ชม ./วัน', 'มากกว่า 4 ชม./วัน' ]\n",
        "df = pd.DataFrame({'INTERNET_PAY': INTERNET_PAY}, index=index)\n",
        "ax = df.plot.bar(rot=0)"
      ],
      "metadata": {
        "colab": {
          "base_uri": "https://localhost:8080/",
          "height": 436
        },
        "id": "Ot26tDCkigtC",
        "outputId": "14b7be34-c9a7-451f-fade-f14a563b6fcb"
      },
      "id": "Ot26tDCkigtC",
      "execution_count": 34,
      "outputs": [
        {
          "output_type": "display_data",
          "data": {
            "text/plain": [
              "<Figure size 640x480 with 1 Axes>"
            ],
            "image/png": "[encoded data removed]"
          },
          "metadata": {}
        }
      ]
    },
    {
      "cell_type": "markdown",
      "source": [
        "ผู้ใช้ที่ใช้ Facebook น้อยกว่า 1 ชม ./วัน จ่ายค่าอินเตอร์โดยเฉลี่ยมากที่สุดและผู้ใช้ 1 - 2 ชม. /วัน จ่ายค่าอินเตอร์โดยเฉลี่ยน้อยที่สุด\n"
      ],
      "metadata": {
        "id": "pv5TDiuFpgT6"
      },
      "id": "pv5TDiuFpgT6"
    }
  ],
  "metadata": {
    "kernelspec": {
      "display_name": "Python 3 (ipykernel)",
      "language": "python",
      "name": "python3"
    },
    "language_info": {
      "codemirror_mode": {
        "name": "ipython",
        "version": 3
      },
      "file_extension": ".py",
      "mimetype": "text/x-python",
      "name": "python",
      "nbconvert_exporter": "python",
      "pygments_lexer": "ipython3",
      "version": "3.8.8"
    },
    "colab": {
      "provenance": []
    }
  },
  "nbformat": 4,
  "nbformat_minor": 5
}